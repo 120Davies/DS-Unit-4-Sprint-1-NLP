{
  "nbformat": 4,
  "nbformat_minor": 0,
  "metadata": {
    "kernelspec": {
      "display_name": "U4-S1-NLP-DS6 (Python 3.7)",
      "language": "python",
      "name": "u4-s1-nlp-ds6"
    },
    "language_info": {
      "codemirror_mode": {
        "name": "ipython",
        "version": 3
      },
      "file_extension": ".py",
      "mimetype": "text/x-python",
      "name": "python",
      "nbconvert_exporter": "python",
      "pygments_lexer": "ipython3",
      "version": "3.7.3"
    },
    "colab": {
      "name": "Ro Davies Kaggle Whiskey Challenge.ipynb",
      "provenance": [],
      "include_colab_link": true
    }
  },
  "cells": [
    {
      "cell_type": "markdown",
      "metadata": {
        "id": "view-in-github",
        "colab_type": "text"
      },
      "source": [
        "<a href=\"https://colab.research.google.com/github/120Davies/DS-Unit-4-Sprint-1-NLP/blob/master/Ro_Davies_Kaggle_Whiskey_Challenge.ipynb\" target=\"_parent\"><img src=\"https://colab.research.google.com/assets/colab-badge.svg\" alt=\"Open In Colab\"/></a>"
      ]
    },
    {
      "cell_type": "markdown",
      "metadata": {
        "id": "r7plTwiGQLvg",
        "colab_type": "text"
      },
      "source": [
        "## Kaggle Competition"
      ]
    },
    {
      "cell_type": "code",
      "metadata": {
        "ExecuteTime": {
          "end_time": "2019-10-04T07:57:49.152311Z",
          "start_time": "2019-10-04T07:57:32.550759Z"
        },
        "id": "zpI2alKuQLvi",
        "colab_type": "code",
        "colab": {}
      },
      "source": [
        "import pandas as pd\n",
        "import numpy as np\n",
        "from datetime import datetime\n",
        "import seaborn as sns\n",
        "import matplotlib.pyplot as plt\n",
        "# ---------------- Pandas settings --------------- #\n",
        "# Removes rows and columns truncation of '...'\n",
        "pd.set_option('display.max_rows', 200)\n",
        "pd.set_option('display.max_columns', 200)\n",
        "\n",
        "from sklearn.preprocessing import StandardScaler\n",
        "\n",
        "from sklearn.pipeline import Pipeline\n",
        "from sklearn.ensemble import RandomForestClassifier\n",
        "from sklearn.feature_extraction.text import TfidfVectorizer\n",
        "\n",
        "from sklearn.model_selection import GridSearchCV\n",
        "from sklearn.model_selection import RandomizedSearchCV\n",
        "from sklearn.model_selection import cross_val_score\n",
        "from sklearn.model_selection import cross_validate\n",
        "\n",
        "from sklearn.feature_extraction.text import CountVectorizer\n",
        "from sklearn.linear_model import SGDClassifier\n",
        "from sklearn.decomposition import TruncatedSVD\n",
        "\n",
        "from joblib import dump, load\n",
        "\n",
        "import xgboost as xgb\n",
        "import spacy\n",
        "\n",
        "\n",
        "nlp = spacy.load(\"en_core_web_lg\")"
      ],
      "execution_count": 0,
      "outputs": []
    },
    {
      "cell_type": "markdown",
      "metadata": {
        "id": "-Kx_Eq6OQLvk",
        "colab_type": "text"
      },
      "source": [
        "## Load data"
      ]
    },
    {
      "cell_type": "code",
      "metadata": {
        "ExecuteTime": {
          "end_time": "2019-10-04T07:57:49.200059Z",
          "start_time": "2019-10-04T07:57:49.154414Z"
        },
        "id": "RQv3Q93SQLvl",
        "colab_type": "code",
        "colab": {}
      },
      "source": [
        "test = pd.read_csv('./data/test.csv')\n",
        "train = pd.read_csv('./data/train.csv')"
      ],
      "execution_count": 0,
      "outputs": []
    },
    {
      "cell_type": "markdown",
      "metadata": {
        "id": "pqR0RQ_LQLvm",
        "colab_type": "text"
      },
      "source": [
        "## Quick EDA"
      ]
    },
    {
      "cell_type": "code",
      "metadata": {
        "ExecuteTime": {
          "end_time": "2019-10-04T07:57:49.222264Z",
          "start_time": "2019-10-04T07:57:49.201943Z"
        },
        "id": "91_SQihPQLvn",
        "colab_type": "code",
        "outputId": "1b6c1e67-43be-475c-c795-da5e7b1b67b2",
        "colab": {}
      },
      "source": [
        "train.info()"
      ],
      "execution_count": 0,
      "outputs": [
        {
          "output_type": "stream",
          "text": [
            "<class 'pandas.core.frame.DataFrame'>\n",
            "RangeIndex: 2586 entries, 0 to 2585\n",
            "Data columns (total 3 columns):\n",
            "id             2586 non-null int64\n",
            "description    2586 non-null object\n",
            "category       2586 non-null int64\n",
            "dtypes: int64(2), object(1)\n",
            "memory usage: 60.7+ KB\n"
          ],
          "name": "stdout"
        }
      ]
    },
    {
      "cell_type": "code",
      "metadata": {
        "ExecuteTime": {
          "end_time": "2019-10-04T07:57:49.273172Z",
          "start_time": "2019-10-04T07:57:49.224333Z"
        },
        "id": "ejTgifgSQLvp",
        "colab_type": "code",
        "outputId": "87461372-69e1-46c3-e0c3-212abde292c7",
        "colab": {}
      },
      "source": [
        "train[train.duplicated()]"
      ],
      "execution_count": 0,
      "outputs": [
        {
          "output_type": "execute_result",
          "data": {
            "text/html": [
              "<div>\n",
              "<style scoped>\n",
              "    .dataframe tbody tr th:only-of-type {\n",
              "        vertical-align: middle;\n",
              "    }\n",
              "\n",
              "    .dataframe tbody tr th {\n",
              "        vertical-align: top;\n",
              "    }\n",
              "\n",
              "    .dataframe thead th {\n",
              "        text-align: right;\n",
              "    }\n",
              "</style>\n",
              "<table border=\"1\" class=\"dataframe\">\n",
              "  <thead>\n",
              "    <tr style=\"text-align: right;\">\n",
              "      <th></th>\n",
              "      <th>id</th>\n",
              "      <th>description</th>\n",
              "      <th>category</th>\n",
              "    </tr>\n",
              "  </thead>\n",
              "  <tbody>\n",
              "  </tbody>\n",
              "</table>\n",
              "</div>"
            ],
            "text/plain": [
              "Empty DataFrame\n",
              "Columns: [id, description, category]\n",
              "Index: []"
            ]
          },
          "metadata": {
            "tags": []
          },
          "execution_count": 5
        }
      ]
    },
    {
      "cell_type": "code",
      "metadata": {
        "ExecuteTime": {
          "end_time": "2019-10-04T07:57:49.303350Z",
          "start_time": "2019-10-04T07:57:49.274776Z"
        },
        "id": "1zl6UzeUQLvq",
        "colab_type": "code",
        "outputId": "d5f09422-eaca-428c-a97b-3ec25410fc47",
        "colab": {}
      },
      "source": [
        "train.isnull().sum()"
      ],
      "execution_count": 0,
      "outputs": [
        {
          "output_type": "execute_result",
          "data": {
            "text/plain": [
              "id             0\n",
              "description    0\n",
              "category       0\n",
              "dtype: int64"
            ]
          },
          "metadata": {
            "tags": []
          },
          "execution_count": 6
        }
      ]
    },
    {
      "cell_type": "code",
      "metadata": {
        "ExecuteTime": {
          "end_time": "2019-10-04T07:57:49.342827Z",
          "start_time": "2019-10-04T07:57:49.305106Z"
        },
        "id": "yrY9NzZpQLvs",
        "colab_type": "code",
        "outputId": "f1e28c81-a81a-4fda-9d83-fb80ae763fc1",
        "colab": {}
      },
      "source": [
        "train.head()"
      ],
      "execution_count": 0,
      "outputs": [
        {
          "output_type": "execute_result",
          "data": {
            "text/html": [
              "<div>\n",
              "<style scoped>\n",
              "    .dataframe tbody tr th:only-of-type {\n",
              "        vertical-align: middle;\n",
              "    }\n",
              "\n",
              "    .dataframe tbody tr th {\n",
              "        vertical-align: top;\n",
              "    }\n",
              "\n",
              "    .dataframe thead th {\n",
              "        text-align: right;\n",
              "    }\n",
              "</style>\n",
              "<table border=\"1\" class=\"dataframe\">\n",
              "  <thead>\n",
              "    <tr style=\"text-align: right;\">\n",
              "      <th></th>\n",
              "      <th>id</th>\n",
              "      <th>description</th>\n",
              "      <th>category</th>\n",
              "    </tr>\n",
              "  </thead>\n",
              "  <tbody>\n",
              "    <tr>\n",
              "      <th>0</th>\n",
              "      <td>1</td>\n",
              "      <td>A marriage of 13 and 18 year old bourbons. A m...</td>\n",
              "      <td>2</td>\n",
              "    </tr>\n",
              "    <tr>\n",
              "      <th>1</th>\n",
              "      <td>2</td>\n",
              "      <td>There have been some legendary Bowmores from t...</td>\n",
              "      <td>1</td>\n",
              "    </tr>\n",
              "    <tr>\n",
              "      <th>2</th>\n",
              "      <td>3</td>\n",
              "      <td>This bottling celebrates master distiller Park...</td>\n",
              "      <td>2</td>\n",
              "    </tr>\n",
              "    <tr>\n",
              "      <th>3</th>\n",
              "      <td>4</td>\n",
              "      <td>What impresses me most is how this whisky evol...</td>\n",
              "      <td>1</td>\n",
              "    </tr>\n",
              "    <tr>\n",
              "      <th>4</th>\n",
              "      <td>9</td>\n",
              "      <td>A caramel-laden fruit bouquet, followed by une...</td>\n",
              "      <td>2</td>\n",
              "    </tr>\n",
              "  </tbody>\n",
              "</table>\n",
              "</div>"
            ],
            "text/plain": [
              "   id                                        description  category\n",
              "0   1  A marriage of 13 and 18 year old bourbons. A m...         2\n",
              "1   2  There have been some legendary Bowmores from t...         1\n",
              "2   3  This bottling celebrates master distiller Park...         2\n",
              "3   4  What impresses me most is how this whisky evol...         1\n",
              "4   9  A caramel-laden fruit bouquet, followed by une...         2"
            ]
          },
          "metadata": {
            "tags": []
          },
          "execution_count": 7
        }
      ]
    },
    {
      "cell_type": "code",
      "metadata": {
        "ExecuteTime": {
          "end_time": "2019-10-04T07:57:49.381147Z",
          "start_time": "2019-10-04T07:57:49.344546Z"
        },
        "id": "H_4HJTYiQLvt",
        "colab_type": "code",
        "colab": {}
      },
      "source": [
        "def wrangle(df):\n",
        "    df = df.copy()\n",
        "    df['description'] = df['description'].str.lower().str.strip().str.replace(r\"’\", \"'\")\n",
        "    return df"
      ],
      "execution_count": 0,
      "outputs": []
    },
    {
      "cell_type": "code",
      "metadata": {
        "ExecuteTime": {
          "end_time": "2019-10-04T07:57:49.438164Z",
          "start_time": "2019-10-04T07:57:49.383916Z"
        },
        "id": "2kau2y8eQLvv",
        "colab_type": "code",
        "colab": {}
      },
      "source": [
        "train = wrangle(train)\n",
        "test = wrangle(test)"
      ],
      "execution_count": 0,
      "outputs": []
    },
    {
      "cell_type": "code",
      "metadata": {
        "ExecuteTime": {
          "end_time": "2019-10-04T07:57:49.470874Z",
          "start_time": "2019-10-04T07:57:49.440181Z"
        },
        "id": "k-jGdpyJQLvx",
        "colab_type": "code",
        "outputId": "d06a1989-3a36-424a-897d-06408ad299b5",
        "colab": {}
      },
      "source": [
        "train.loc[0, 'description']"
      ],
      "execution_count": 0,
      "outputs": [
        {
          "output_type": "execute_result",
          "data": {
            "text/plain": [
              "'a marriage of 13 and 18 year old bourbons. a mature yet very elegant whiskey, with a silky texture and so easy to embrace with a splash of water. balanced notes of honeyed vanilla, soft caramel, a basket of complex orchard fruit, blackberry, papaya, and a dusting of cocoa and nutmeg; smooth finish. sophisticated, stylish, with well-defined flavors. a classic!'"
            ]
          },
          "metadata": {
            "tags": []
          },
          "execution_count": 10
        }
      ]
    },
    {
      "cell_type": "code",
      "metadata": {
        "ExecuteTime": {
          "end_time": "2019-10-04T07:57:49.510623Z",
          "start_time": "2019-10-04T07:57:49.472811Z"
        },
        "id": "izpl8HfkQLvy",
        "colab_type": "code",
        "outputId": "6aeebb80-8eb2-4545-dc62-087a6cc15496",
        "colab": {}
      },
      "source": [
        "train.loc[10, 'description']"
      ],
      "execution_count": 0,
      "outputs": [
        {
          "output_type": "execute_result",
          "data": {
            "text/plain": [
              "\"another excellent stagg, and considering its alcohol level, it's also a good value if you can get it at this price. notes of toffee, pot still rum, nougat, dates, tobacco, roasted nuts, polished oak, and leather. great depth and nicely balanced. a masculine bourbon of character and structure.\""
            ]
          },
          "metadata": {
            "tags": []
          },
          "execution_count": 11
        }
      ]
    },
    {
      "cell_type": "code",
      "metadata": {
        "ExecuteTime": {
          "end_time": "2019-10-04T07:57:49.549152Z",
          "start_time": "2019-10-04T07:57:49.512476Z"
        },
        "id": "ktJCwNkQQLv0",
        "colab_type": "code",
        "colab": {}
      },
      "source": [
        "import string\n",
        "from spacy.lang.en.stop_words import STOP_WORDS\n",
        "\n",
        "def tokenize(text):\n",
        "    tokens = []\n",
        "    doc = nlp(text)\n",
        "    for token in doc:\n",
        "        if (token.is_stop == False) and (token.is_punct == False or token.text not in string.punctuation):\n",
        "            tokens.append(token.text)\n",
        "    return tokens"
      ],
      "execution_count": 0,
      "outputs": []
    },
    {
      "cell_type": "code",
      "metadata": {
        "ExecuteTime": {
          "end_time": "2019-10-04T07:57:49.624498Z",
          "start_time": "2019-10-04T07:57:49.551059Z"
        },
        "id": "BAESoNtQQLv1",
        "colab_type": "code",
        "outputId": "3a0ea31a-4824-4f84-9674-ea94e0c982ad",
        "colab": {}
      },
      "source": [
        "text = train.loc[10, 'description']\n",
        "tokenize(text)"
      ],
      "execution_count": 0,
      "outputs": [
        {
          "output_type": "execute_result",
          "data": {
            "text/plain": [
              "['excellent',\n",
              " 'stagg',\n",
              " 'considering',\n",
              " 'alcohol',\n",
              " 'level',\n",
              " 'good',\n",
              " 'value',\n",
              " 'price',\n",
              " 'notes',\n",
              " 'toffee',\n",
              " 'pot',\n",
              " 'rum',\n",
              " 'nougat',\n",
              " 'dates',\n",
              " 'tobacco',\n",
              " 'roasted',\n",
              " 'nuts',\n",
              " 'polished',\n",
              " 'oak',\n",
              " 'leather',\n",
              " 'great',\n",
              " 'depth',\n",
              " 'nicely',\n",
              " 'balanced',\n",
              " 'masculine',\n",
              " 'bourbon',\n",
              " 'character',\n",
              " 'structure']"
            ]
          },
          "metadata": {
            "tags": []
          },
          "execution_count": 13
        }
      ]
    },
    {
      "cell_type": "markdown",
      "metadata": {
        "id": "ptcNn2JuQLv3",
        "colab_type": "text"
      },
      "source": [
        "#### Submission"
      ]
    },
    {
      "cell_type": "code",
      "metadata": {
        "ExecuteTime": {
          "end_time": "2019-10-04T07:58:10.220567Z",
          "start_time": "2019-10-04T07:58:10.215441Z"
        },
        "id": "p8S0q3kVQLv3",
        "colab_type": "code",
        "colab": {}
      },
      "source": [
        "def submission(model, file_name_suffix):\n",
        "    # Predictions on test sample\n",
        "    preds = model.predict(test['description'])\n",
        "    \n",
        "    # Convert predictions to dataframe\n",
        "    submission = pd.DataFrame({'id': test['id'], 'category':preds})\n",
        "    submission['category'] = submission['category'].astype(int)\n",
        "    \n",
        "    # Save your Submission File\n",
        "    file_path = f'./data/submission_{file_name_suffix}.csv'\n",
        "    submission.to_csv(file_path, index=False)\n",
        "    print(f'File saved at: {file_path}')\n",
        "    print(submission.head())"
      ],
      "execution_count": 0,
      "outputs": []
    },
    {
      "cell_type": "markdown",
      "metadata": {
        "id": "v3hPM77iQLv4",
        "colab_type": "text"
      },
      "source": [
        "#### Pickle 🥒 Functions"
      ]
    },
    {
      "cell_type": "code",
      "metadata": {
        "ExecuteTime": {
          "end_time": "2019-10-04T07:58:10.943158Z",
          "start_time": "2019-10-04T07:58:10.940256Z"
        },
        "id": "SE4HrncFQLv5",
        "colab_type": "code",
        "colab": {}
      },
      "source": [
        "def pickle_model(model, file_name_suffix):\n",
        "    model_path = f'./model/{file_name_suffix}.joblib'\n",
        "    dump(model, model_path)\n",
        "    print(f'Dumped model at: {model_path}')"
      ],
      "execution_count": 0,
      "outputs": []
    },
    {
      "cell_type": "code",
      "metadata": {
        "ExecuteTime": {
          "end_time": "2019-10-04T07:58:11.295708Z",
          "start_time": "2019-10-04T07:58:11.292955Z"
        },
        "id": "M-pUSjDWQLv6",
        "colab_type": "code",
        "colab": {}
      },
      "source": [
        "def load_model(file_name_suffix):\n",
        "    model_path = f'./model/{file_name_suffix}.joblib'\n",
        "    model = load(model_path)\n",
        "    return model"
      ],
      "execution_count": 0,
      "outputs": []
    },
    {
      "cell_type": "markdown",
      "metadata": {
        "id": "KMuGddJZQLv8",
        "colab_type": "text"
      },
      "source": [
        "#### Timer"
      ]
    },
    {
      "cell_type": "code",
      "metadata": {
        "ExecuteTime": {
          "end_time": "2019-10-04T07:58:12.300816Z",
          "start_time": "2019-10-04T07:58:12.296014Z"
        },
        "id": "j20WReQ7QLv8",
        "colab_type": "code",
        "colab": {}
      },
      "source": [
        "def timer(start_time=None):\n",
        "    if not start_time:\n",
        "        start_time = datetime.now()\n",
        "        return start_time\n",
        "    elif start_time:\n",
        "        thour, temp_sec = divmod((datetime.now() - start_time).total_seconds(), 3600)\n",
        "        tmin, tsec = divmod(temp_sec, 60)\n",
        "        print('\\n Time taken: %i hours %i minutes and %s seconds.' % (thour, tmin, round(tsec, 2)))"
      ],
      "execution_count": 0,
      "outputs": []
    },
    {
      "cell_type": "markdown",
      "metadata": {
        "id": "ZRgGCA3dQLv9",
        "colab_type": "text"
      },
      "source": [
        "### TFID + RF"
      ]
    },
    {
      "cell_type": "markdown",
      "metadata": {
        "id": "uJLc-K5lQLv-",
        "colab_type": "text"
      },
      "source": [
        "#### Load Model"
      ]
    },
    {
      "cell_type": "code",
      "metadata": {
        "ExecuteTime": {
          "end_time": "2019-10-04T07:58:15.719857Z",
          "start_time": "2019-10-04T07:58:15.371229Z"
        },
        "id": "UUOornJqQLv-",
        "colab_type": "code",
        "colab": {}
      },
      "source": [
        "grid_search1 = load_model('TFIDF_RF')"
      ],
      "execution_count": 0,
      "outputs": []
    },
    {
      "cell_type": "code",
      "metadata": {
        "ExecuteTime": {
          "end_time": "2019-10-04T07:58:15.827741Z",
          "start_time": "2019-10-04T07:58:15.825206Z"
        },
        "id": "wKXmFk_xQLwA",
        "colab_type": "code",
        "colab": {}
      },
      "source": [
        "# rfc = RandomForestClassifier()\n",
        "# vect = TfidfVectorizer(stop_words='english')\n",
        "\n",
        "# pipe1 = Pipeline([('vect', vect), ('rfc', rfc)])\n",
        "\n",
        "# parameters1 = {\n",
        "#     'vect__max_df': (0.5, 0.75, 0.9, 0.95, 0.99),\n",
        "#     'vect__min_df': (0.02, 0.05, 0.1, 0.15),\n",
        "#     'vect__max_features': (100, 500, 1000),\n",
        "#     'rfc__n_estimators': (100, 200, 300, 400, 500),\n",
        "# }\n",
        "\n",
        "# start_time = timer(None) # timing starts from this point for \"start_time\" variable\n",
        "# grid_search1 = GridSearchCV(pipe1, parameters1, cv=5, n_jobs=-1, verbose=10)\n",
        "# grid_search1.fit(train['description'], train['category'])\n",
        "# timer(start_time) # timing ends here for \"start_time\" variable"
      ],
      "execution_count": 0,
      "outputs": []
    },
    {
      "cell_type": "code",
      "metadata": {
        "ExecuteTime": {
          "end_time": "2019-10-04T07:58:16.296123Z",
          "start_time": "2019-10-04T07:58:16.290958Z"
        },
        "id": "JdK-27XvQLwC",
        "colab_type": "code",
        "outputId": "d2586594-d93d-4a60-8b79-813a42b5515c",
        "colab": {}
      },
      "source": [
        "grid_search1.best_estimator_"
      ],
      "execution_count": 0,
      "outputs": [
        {
          "output_type": "execute_result",
          "data": {
            "text/plain": [
              "Pipeline(memory=None,\n",
              "     steps=[('vect', TfidfVectorizer(analyzer='word', binary=False, decode_error='strict',\n",
              "        dtype=<class 'numpy.float64'>, encoding='utf-8', input='content',\n",
              "        lowercase=True, max_df=0.5, max_features=500, min_df=0.02,\n",
              "        ngram_range=(1, 1), norm='l2', preprocessor=None, smooth_idf=True...obs=None,\n",
              "            oob_score=False, random_state=None, verbose=0,\n",
              "            warm_start=False))])"
            ]
          },
          "metadata": {
            "tags": []
          },
          "execution_count": 24
        }
      ]
    },
    {
      "cell_type": "code",
      "metadata": {
        "ExecuteTime": {
          "end_time": "2019-10-04T07:58:18.205913Z",
          "start_time": "2019-10-04T07:58:18.200969Z"
        },
        "id": "cnhosHDyQLwE",
        "colab_type": "code",
        "outputId": "7d9926b0-c887-4bc3-ecb3-d79340a96b94",
        "colab": {}
      },
      "source": [
        "grid_search1.best_params_"
      ],
      "execution_count": 0,
      "outputs": [
        {
          "output_type": "execute_result",
          "data": {
            "text/plain": [
              "{'rfc__n_estimators': 500,\n",
              " 'vect__max_df': 0.5,\n",
              " 'vect__max_features': 500,\n",
              " 'vect__min_df': 0.02}"
            ]
          },
          "metadata": {
            "tags": []
          },
          "execution_count": 25
        }
      ]
    },
    {
      "cell_type": "code",
      "metadata": {
        "ExecuteTime": {
          "end_time": "2019-10-04T07:58:18.788369Z",
          "start_time": "2019-10-04T07:58:18.781562Z"
        },
        "id": "KCTyja4jQLwF",
        "colab_type": "code",
        "outputId": "e5b73253-c013-466d-eda1-c65eb3186adb",
        "colab": {}
      },
      "source": [
        "grid_search1.best_score_"
      ],
      "execution_count": 0,
      "outputs": [
        {
          "output_type": "execute_result",
          "data": {
            "text/plain": [
              "0.8979118329466357"
            ]
          },
          "metadata": {
            "tags": []
          },
          "execution_count": 26
        }
      ]
    },
    {
      "cell_type": "markdown",
      "metadata": {
        "id": "E3hzXXTxQLwH",
        "colab_type": "text"
      },
      "source": [
        "#### Save `submission.csv`"
      ]
    },
    {
      "cell_type": "code",
      "metadata": {
        "ExecuteTime": {
          "end_time": "2019-10-04T07:58:19.706932Z",
          "start_time": "2019-10-04T07:58:19.702126Z"
        },
        "id": "-s4nBMMxQLwI",
        "colab_type": "code",
        "colab": {}
      },
      "source": [
        "# submission(grid_search1, 'TFIDF_RF')"
      ],
      "execution_count": 0,
      "outputs": []
    },
    {
      "cell_type": "markdown",
      "metadata": {
        "id": "kKMRpn2HQLwJ",
        "colab_type": "text"
      },
      "source": [
        "#### Pickle Model 🥒"
      ]
    },
    {
      "cell_type": "code",
      "metadata": {
        "ExecuteTime": {
          "end_time": "2019-10-04T07:58:20.139233Z",
          "start_time": "2019-10-04T07:58:20.136817Z"
        },
        "id": "_lw-NelSQLwJ",
        "colab_type": "code",
        "colab": {}
      },
      "source": [
        "# pickle_model(grid_search1, 'TFIDF_RF')"
      ],
      "execution_count": 0,
      "outputs": []
    },
    {
      "cell_type": "markdown",
      "metadata": {
        "id": "9kAi7XzAQLwL",
        "colab_type": "text"
      },
      "source": [
        "### TFIDF + SGDC"
      ]
    },
    {
      "cell_type": "markdown",
      "metadata": {
        "id": "xCuvWYVzQLwL",
        "colab_type": "text"
      },
      "source": [
        "#### Load Model"
      ]
    },
    {
      "cell_type": "code",
      "metadata": {
        "ExecuteTime": {
          "end_time": "2019-10-04T07:58:21.087962Z",
          "start_time": "2019-10-04T07:58:21.050370Z"
        },
        "id": "ZZuG_gWCQLwL",
        "colab_type": "code",
        "colab": {}
      },
      "source": [
        "grid_search2 = load_model('TFIDF_SGDC')"
      ],
      "execution_count": 0,
      "outputs": []
    },
    {
      "cell_type": "code",
      "metadata": {
        "ExecuteTime": {
          "end_time": "2019-10-04T07:58:22.932405Z",
          "start_time": "2019-10-04T07:58:22.929582Z"
        },
        "id": "_S9dKQZoQLwM",
        "colab_type": "code",
        "colab": {}
      },
      "source": [
        "# sgdc = SGDClassifier()\n",
        "# vect = TfidfVectorizer(stop_words='english')\n",
        "\n",
        "# pipe2 = Pipeline([('vect', vect), \n",
        "#                   ('sgdc', sgdc)])\n",
        "\n",
        "# parameters2 = {\n",
        "#     'vect__max_df': (0.5, 0.75, 0.9, 0.95, 0.99),\n",
        "#     'vect__min_df': (0.02, 0.05, 0.1, 0.15),\n",
        "#     'vect__max_features': (100, 500, 1000),\n",
        "#     'sgdc__max_iter': (300, 1000),\n",
        "# }\n",
        "# start_time = timer(None)\n",
        "# grid_search2 = GridSearchCV(pipe2, parameters2, cv=5, n_jobs=-1, verbose=10)\n",
        "# grid_search2.fit(train['description'], train['category'])\n",
        "# timer(start_time)"
      ],
      "execution_count": 0,
      "outputs": []
    },
    {
      "cell_type": "code",
      "metadata": {
        "ExecuteTime": {
          "end_time": "2019-10-04T07:58:23.271110Z",
          "start_time": "2019-10-04T07:58:23.266617Z"
        },
        "id": "Lq1D4425QLwN",
        "colab_type": "code",
        "outputId": "78808389-8f41-4dbb-9123-f994ee7b5e59",
        "colab": {}
      },
      "source": [
        "grid_search2.best_estimator_"
      ],
      "execution_count": 0,
      "outputs": [
        {
          "output_type": "execute_result",
          "data": {
            "text/plain": [
              "Pipeline(memory=None,\n",
              "     steps=[('vect', TfidfVectorizer(analyzer='word', binary=False, decode_error='strict',\n",
              "        dtype=<class 'numpy.float64'>, encoding='utf-8', input='content',\n",
              "        lowercase=True, max_df=0.5, max_features=500, min_df=0.02,\n",
              "        ngram_range=(1, 1), norm='l2', preprocessor=None, smooth_idf=True...m_state=None, shuffle=True, tol=None,\n",
              "       validation_fraction=0.1, verbose=0, warm_start=False))])"
            ]
          },
          "metadata": {
            "tags": []
          },
          "execution_count": 31
        }
      ]
    },
    {
      "cell_type": "code",
      "metadata": {
        "ExecuteTime": {
          "end_time": "2019-10-04T07:58:23.885762Z",
          "start_time": "2019-10-04T07:58:23.878052Z"
        },
        "id": "eWFa4MmJQLwP",
        "colab_type": "code",
        "outputId": "4fc7a0eb-5eca-4752-b11c-d38d429f9391",
        "colab": {}
      },
      "source": [
        "grid_search2.best_params_"
      ],
      "execution_count": 0,
      "outputs": [
        {
          "output_type": "execute_result",
          "data": {
            "text/plain": [
              "{'sgdc__max_iter': 1000,\n",
              " 'vect__max_df': 0.5,\n",
              " 'vect__max_features': 500,\n",
              " 'vect__min_df': 0.02}"
            ]
          },
          "metadata": {
            "tags": []
          },
          "execution_count": 32
        }
      ]
    },
    {
      "cell_type": "code",
      "metadata": {
        "ExecuteTime": {
          "end_time": "2019-10-04T07:58:25.890222Z",
          "start_time": "2019-10-04T07:58:25.886546Z"
        },
        "id": "pDj1vuaQQLwQ",
        "colab_type": "code",
        "outputId": "1777bdc0-b807-41d7-9dee-3ee8c266576b",
        "colab": {}
      },
      "source": [
        "grid_search2.best_score_"
      ],
      "execution_count": 0,
      "outputs": [
        {
          "output_type": "execute_result",
          "data": {
            "text/plain": [
              "0.9025522041763341"
            ]
          },
          "metadata": {
            "tags": []
          },
          "execution_count": 33
        }
      ]
    },
    {
      "cell_type": "code",
      "metadata": {
        "ExecuteTime": {
          "end_time": "2019-10-04T07:58:26.584419Z",
          "start_time": "2019-10-04T07:58:26.578081Z"
        },
        "id": "57c1zccOQLwR",
        "colab_type": "code",
        "colab": {}
      },
      "source": [
        "# submission(grid_search2, 'TFIDF_SGDC')"
      ],
      "execution_count": 0,
      "outputs": []
    },
    {
      "cell_type": "markdown",
      "metadata": {
        "id": "9aBTm2KQQLwT",
        "colab_type": "text"
      },
      "source": [
        "#### Pickle Model 🥒"
      ]
    },
    {
      "cell_type": "code",
      "metadata": {
        "ExecuteTime": {
          "end_time": "2019-10-04T07:58:27.284477Z",
          "start_time": "2019-10-04T07:58:27.281628Z"
        },
        "id": "VtFJFRIMQLwT",
        "colab_type": "code",
        "colab": {}
      },
      "source": [
        "# pickle_model(grid_search2, 'TFIDF_SGDC')"
      ],
      "execution_count": 0,
      "outputs": []
    },
    {
      "cell_type": "markdown",
      "metadata": {
        "id": "5rTj4Bb9QLwU",
        "colab_type": "text"
      },
      "source": [
        "### TFID + XGBC"
      ]
    },
    {
      "cell_type": "markdown",
      "metadata": {
        "id": "Mhz3VO4sQLwU",
        "colab_type": "text"
      },
      "source": [
        "#### Load Model"
      ]
    },
    {
      "cell_type": "code",
      "metadata": {
        "ExecuteTime": {
          "end_time": "2019-10-04T07:58:28.518865Z",
          "start_time": "2019-10-04T07:58:28.466258Z"
        },
        "id": "rouAleNWQLwV",
        "colab_type": "code",
        "colab": {}
      },
      "source": [
        "grid_search3 = load_model('TFIDF_XGBC')"
      ],
      "execution_count": 0,
      "outputs": []
    },
    {
      "cell_type": "code",
      "metadata": {
        "ExecuteTime": {
          "end_time": "2019-10-04T07:58:30.259981Z",
          "start_time": "2019-10-04T07:58:30.255437Z"
        },
        "scrolled": false,
        "id": "Tmo_YKiMQLwW",
        "colab_type": "code",
        "colab": {}
      },
      "source": [
        "# %%time \n",
        "\n",
        "# xgbc = xgb.XGBClassifier()\n",
        "# vect = TfidfVectorizer(stop_words='english')\n",
        "# pipe3 = Pipeline([('vect', vect), \n",
        "#                   ('xgbc', xgbc)])\n",
        "\n",
        "# # parameters3 = {\n",
        "# #         'vect__max_df': (0.5, 0.75, 0.95, 0.99, 1),\n",
        "# #         'vect__min_df': (.02,),\n",
        "# #         'xgbc__learning_rate': (0.01, 0.05, 0.1),\n",
        "# #         'xgbc__n_estimators': (100, 500, 800, 1000),\n",
        "# #         'xgbc__min_child_weight': [1, 5, 10],\n",
        "# #         'xgbc__gamma': [0.5, 1, 1.5, 2, 5],\n",
        "# #         'xgbc__subsample': [0.6, 0.8, 1.0],\n",
        "# #         'xgbc__colsample_bytree': [0.6, 0.8, 1.0],\n",
        "# #         'xgbc__max_depth': [3, 5, 10, 15, 20],\n",
        "# #         'xgbc__booster':['booster', 'gblinear', 'gbtree']\n",
        "# # }\n",
        "\n",
        "# # parameters3 = {\n",
        "# #         'vect__max_df': (0.5, 0.75, 0.95, 0.99, 1), \n",
        "# #         'vect__min_df': (.02,), \n",
        "# #         'xgbc__learning_rate': (0.01, 0.05, 0.1),\n",
        "# #         'xgbc__n_estimators': (100, 500, 800, 1000),\n",
        "# #         'xgbc__max_depth': [3, 5, 10, 15, 20]\n",
        "# # }\n",
        "\n",
        "# parameters3 = {\n",
        "#         'vect__max_df': (0.7,), \n",
        "#         'vect__min_df': (.02,), \n",
        "#         'xgbc__n_estimators': (100, 400, 800),\n",
        "# }\n",
        "\n",
        "# grid_search3 = GridSearchCV(pipe3, parameters3, cv=5, n_jobs=-1, verbose=10)\n",
        "# grid_search3.fit(train['description'], train['category'])"
      ],
      "execution_count": 0,
      "outputs": []
    },
    {
      "cell_type": "code",
      "metadata": {
        "ExecuteTime": {
          "end_time": "2019-10-04T07:58:30.611807Z",
          "start_time": "2019-10-04T07:58:30.607520Z"
        },
        "id": "5fbLvOAcQLwX",
        "colab_type": "code",
        "outputId": "e175c101-0ab4-45cd-b801-2618b2d44774",
        "colab": {}
      },
      "source": [
        "grid_search3.best_estimator_"
      ],
      "execution_count": 0,
      "outputs": [
        {
          "output_type": "execute_result",
          "data": {
            "text/plain": [
              "Pipeline(memory=None,\n",
              "     steps=[('vect', TfidfVectorizer(analyzer='word', binary=False, decode_error='strict',\n",
              "        dtype=<class 'numpy.float64'>, encoding='utf-8', input='content',\n",
              "        lowercase=True, max_df=0.7, max_features=None, min_df=0.02,\n",
              "        ngram_range=(1, 1), norm='l2', preprocessor=None, smooth_idf=Tru...\n",
              "       reg_lambda=1, scale_pos_weight=1, seed=None, silent=None,\n",
              "       subsample=1, verbosity=1))])"
            ]
          },
          "metadata": {
            "tags": []
          },
          "execution_count": 38
        }
      ]
    },
    {
      "cell_type": "code",
      "metadata": {
        "ExecuteTime": {
          "end_time": "2019-10-04T07:58:32.950594Z",
          "start_time": "2019-10-04T07:58:32.945906Z"
        },
        "id": "_jJuCd8SQLwY",
        "colab_type": "code",
        "outputId": "a21c00c5-744d-42ae-cbb6-c88d695db654",
        "colab": {}
      },
      "source": [
        "grid_search3.best_params_"
      ],
      "execution_count": 0,
      "outputs": [
        {
          "output_type": "execute_result",
          "data": {
            "text/plain": [
              "{'vect__max_df': 0.7, 'vect__min_df': 0.02, 'xgbc__n_estimators': 800}"
            ]
          },
          "metadata": {
            "tags": []
          },
          "execution_count": 39
        }
      ]
    },
    {
      "cell_type": "code",
      "metadata": {
        "ExecuteTime": {
          "end_time": "2019-10-04T07:58:33.255689Z",
          "start_time": "2019-10-04T07:58:33.251646Z"
        },
        "id": "o2b9DQLPQLwZ",
        "colab_type": "code",
        "outputId": "aaedf200-1b57-4e0a-d812-4f274a51d5cb",
        "colab": {}
      },
      "source": [
        "grid_search3.best_score_"
      ],
      "execution_count": 0,
      "outputs": [
        {
          "output_type": "execute_result",
          "data": {
            "text/plain": [
              "0.9021655065738592"
            ]
          },
          "metadata": {
            "tags": []
          },
          "execution_count": 40
        }
      ]
    },
    {
      "cell_type": "code",
      "metadata": {
        "ExecuteTime": {
          "end_time": "2019-10-04T07:58:34.419780Z",
          "start_time": "2019-10-04T07:58:34.417672Z"
        },
        "id": "EXhraM8PQLwb",
        "colab_type": "code",
        "colab": {}
      },
      "source": [
        "# submission(grid_search3, 'TFIDF_XGBC')"
      ],
      "execution_count": 0,
      "outputs": []
    },
    {
      "cell_type": "markdown",
      "metadata": {
        "id": "Qlo70phLQLwc",
        "colab_type": "text"
      },
      "source": [
        "#### Pickle Model 🥒"
      ]
    },
    {
      "cell_type": "code",
      "metadata": {
        "ExecuteTime": {
          "end_time": "2019-10-04T07:58:34.933153Z",
          "start_time": "2019-10-04T07:58:34.929280Z"
        },
        "id": "IIqJDgJnQLwe",
        "colab_type": "code",
        "colab": {}
      },
      "source": [
        "# pickle_model(grid_search3, 'TFIDF_XGBC')"
      ],
      "execution_count": 0,
      "outputs": []
    },
    {
      "cell_type": "markdown",
      "metadata": {
        "id": "cRTdyDrLQLwf",
        "colab_type": "text"
      },
      "source": [
        "### TFID + SVD + SGDC"
      ]
    },
    {
      "cell_type": "code",
      "metadata": {
        "ExecuteTime": {
          "end_time": "2019-10-04T07:58:36.792993Z",
          "start_time": "2019-10-04T07:58:35.849347Z"
        },
        "id": "vUWrIHZyQLwf",
        "colab_type": "code",
        "outputId": "de4b72c8-082a-40c0-8c52-16f70c3e86c4",
        "colab": {}
      },
      "source": [
        "vect = TfidfVectorizer(stop_words='english', ngram_range=(1, 3), min_df=0.08)\n",
        "\n",
        "sparse = vect.fit_transform(train['description'])\n",
        "\n",
        "dtm = pd.DataFrame(sparse.todense(), columns=vect.get_feature_names())\n",
        "print(dtm.shape)\n",
        "dtm.head()"
      ],
      "execution_count": 0,
      "outputs": [
        {
          "output_type": "stream",
          "text": [
            "(2586, 80)\n"
          ],
          "name": "stdout"
        },
        {
          "output_type": "execute_result",
          "data": {
            "text/html": [
              "<div>\n",
              "<style scoped>\n",
              "    .dataframe tbody tr th:only-of-type {\n",
              "        vertical-align: middle;\n",
              "    }\n",
              "\n",
              "    .dataframe tbody tr th {\n",
              "        vertical-align: top;\n",
              "    }\n",
              "\n",
              "    .dataframe thead th {\n",
              "        text-align: right;\n",
              "    }\n",
              "</style>\n",
              "<table border=\"1\" class=\"dataframe\">\n",
              "  <thead>\n",
              "    <tr style=\"text-align: right;\">\n",
              "      <th></th>\n",
              "      <th>age</th>\n",
              "      <th>aged</th>\n",
              "      <th>balanced</th>\n",
              "      <th>barrel</th>\n",
              "      <th>black</th>\n",
              "      <th>bottles</th>\n",
              "      <th>bottling</th>\n",
              "      <th>bourbon</th>\n",
              "      <th>caramel</th>\n",
              "      <th>cask</th>\n",
              "      <th>casks</th>\n",
              "      <th>chocolate</th>\n",
              "      <th>cinnamon</th>\n",
              "      <th>citrus</th>\n",
              "      <th>clean</th>\n",
              "      <th>color</th>\n",
              "      <th>complex</th>\n",
              "      <th>corn</th>\n",
              "      <th>creamy</th>\n",
              "      <th>dark</th>\n",
              "      <th>distilled</th>\n",
              "      <th>distillery</th>\n",
              "      <th>dried</th>\n",
              "      <th>dry</th>\n",
              "      <th>expression</th>\n",
              "      <th>finish</th>\n",
              "      <th>flavors</th>\n",
              "      <th>fresh</th>\n",
              "      <th>fruit</th>\n",
              "      <th>fruits</th>\n",
              "      <th>fruity</th>\n",
              "      <th>ginger</th>\n",
              "      <th>good</th>\n",
              "      <th>hint</th>\n",
              "      <th>honey</th>\n",
              "      <th>hot</th>\n",
              "      <th>just</th>\n",
              "      <th>leather</th>\n",
              "      <th>light</th>\n",
              "      <th>like</th>\n",
              "      <th>long</th>\n",
              "      <th>malt</th>\n",
              "      <th>matured</th>\n",
              "      <th>medium</th>\n",
              "      <th>mouth</th>\n",
              "      <th>new</th>\n",
              "      <th>nicely</th>\n",
              "      <th>nose</th>\n",
              "      <th>notes</th>\n",
              "      <th>oak</th>\n",
              "      <th>old</th>\n",
              "      <th>orange</th>\n",
              "      <th>palate</th>\n",
              "      <th>peat</th>\n",
              "      <th>pepper</th>\n",
              "      <th>quite</th>\n",
              "      <th>release</th>\n",
              "      <th>rich</th>\n",
              "      <th>ripe</th>\n",
              "      <th>rye</th>\n",
              "      <th>sherry</th>\n",
              "      <th>single</th>\n",
              "      <th>slightly</th>\n",
              "      <th>smoke</th>\n",
              "      <th>soft</th>\n",
              "      <th>spice</th>\n",
              "      <th>spices</th>\n",
              "      <th>spicy</th>\n",
              "      <th>subtle</th>\n",
              "      <th>sweet</th>\n",
              "      <th>sweetness</th>\n",
              "      <th>toffee</th>\n",
              "      <th>vanilla</th>\n",
              "      <th>water</th>\n",
              "      <th>whiskey</th>\n",
              "      <th>whisky</th>\n",
              "      <th>wood</th>\n",
              "      <th>year</th>\n",
              "      <th>year old</th>\n",
              "      <th>years</th>\n",
              "    </tr>\n",
              "  </thead>\n",
              "  <tbody>\n",
              "    <tr>\n",
              "      <th>0</th>\n",
              "      <td>0.0</td>\n",
              "      <td>0.0</td>\n",
              "      <td>0.327069</td>\n",
              "      <td>0.000000</td>\n",
              "      <td>0.0000</td>\n",
              "      <td>0.00000</td>\n",
              "      <td>0.000000</td>\n",
              "      <td>0.000000</td>\n",
              "      <td>0.252358</td>\n",
              "      <td>0.0</td>\n",
              "      <td>0.0</td>\n",
              "      <td>0.00000</td>\n",
              "      <td>0.000000</td>\n",
              "      <td>0.000000</td>\n",
              "      <td>0.0</td>\n",
              "      <td>0.0</td>\n",
              "      <td>0.339850</td>\n",
              "      <td>0.0</td>\n",
              "      <td>0.0</td>\n",
              "      <td>0.000000</td>\n",
              "      <td>0.0</td>\n",
              "      <td>0.0</td>\n",
              "      <td>0.0</td>\n",
              "      <td>0.000000</td>\n",
              "      <td>0.0</td>\n",
              "      <td>0.145307</td>\n",
              "      <td>0.313372</td>\n",
              "      <td>0.0</td>\n",
              "      <td>0.205946</td>\n",
              "      <td>0.0</td>\n",
              "      <td>0.0</td>\n",
              "      <td>0.0</td>\n",
              "      <td>0.0</td>\n",
              "      <td>0.00000</td>\n",
              "      <td>0.000000</td>\n",
              "      <td>0.0</td>\n",
              "      <td>0.0</td>\n",
              "      <td>0.000000</td>\n",
              "      <td>0.00000</td>\n",
              "      <td>0.000000</td>\n",
              "      <td>0.000000</td>\n",
              "      <td>0.0</td>\n",
              "      <td>0.0</td>\n",
              "      <td>0.0</td>\n",
              "      <td>0.0</td>\n",
              "      <td>0.0</td>\n",
              "      <td>0.0</td>\n",
              "      <td>0.000000</td>\n",
              "      <td>0.187799</td>\n",
              "      <td>0.000000</td>\n",
              "      <td>0.241391</td>\n",
              "      <td>0.000000</td>\n",
              "      <td>0.000000</td>\n",
              "      <td>0.000000</td>\n",
              "      <td>0.0</td>\n",
              "      <td>0.000000</td>\n",
              "      <td>0.0</td>\n",
              "      <td>0.0</td>\n",
              "      <td>0.000000</td>\n",
              "      <td>0.0</td>\n",
              "      <td>0.0</td>\n",
              "      <td>0.0</td>\n",
              "      <td>0.0</td>\n",
              "      <td>0.000000</td>\n",
              "      <td>0.284168</td>\n",
              "      <td>0.0</td>\n",
              "      <td>0.0</td>\n",
              "      <td>0.0</td>\n",
              "      <td>0.0</td>\n",
              "      <td>0.0</td>\n",
              "      <td>0.0</td>\n",
              "      <td>0.000000</td>\n",
              "      <td>0.190568</td>\n",
              "      <td>0.312701</td>\n",
              "      <td>0.302246</td>\n",
              "      <td>0.000000</td>\n",
              "      <td>0.0</td>\n",
              "      <td>0.265732</td>\n",
              "      <td>0.285935</td>\n",
              "      <td>0.000000</td>\n",
              "    </tr>\n",
              "    <tr>\n",
              "      <th>1</th>\n",
              "      <td>0.0</td>\n",
              "      <td>0.0</td>\n",
              "      <td>0.000000</td>\n",
              "      <td>0.000000</td>\n",
              "      <td>0.0000</td>\n",
              "      <td>0.43511</td>\n",
              "      <td>0.000000</td>\n",
              "      <td>0.000000</td>\n",
              "      <td>0.000000</td>\n",
              "      <td>0.0</td>\n",
              "      <td>0.0</td>\n",
              "      <td>0.00000</td>\n",
              "      <td>0.000000</td>\n",
              "      <td>0.000000</td>\n",
              "      <td>0.0</td>\n",
              "      <td>0.0</td>\n",
              "      <td>0.000000</td>\n",
              "      <td>0.0</td>\n",
              "      <td>0.0</td>\n",
              "      <td>0.000000</td>\n",
              "      <td>0.0</td>\n",
              "      <td>0.0</td>\n",
              "      <td>0.0</td>\n",
              "      <td>0.402315</td>\n",
              "      <td>0.0</td>\n",
              "      <td>0.000000</td>\n",
              "      <td>0.000000</td>\n",
              "      <td>0.0</td>\n",
              "      <td>0.287176</td>\n",
              "      <td>0.0</td>\n",
              "      <td>0.0</td>\n",
              "      <td>0.0</td>\n",
              "      <td>0.0</td>\n",
              "      <td>0.00000</td>\n",
              "      <td>0.000000</td>\n",
              "      <td>0.0</td>\n",
              "      <td>0.0</td>\n",
              "      <td>0.000000</td>\n",
              "      <td>0.40981</td>\n",
              "      <td>0.000000</td>\n",
              "      <td>0.000000</td>\n",
              "      <td>0.0</td>\n",
              "      <td>0.0</td>\n",
              "      <td>0.0</td>\n",
              "      <td>0.0</td>\n",
              "      <td>0.0</td>\n",
              "      <td>0.0</td>\n",
              "      <td>0.000000</td>\n",
              "      <td>0.000000</td>\n",
              "      <td>0.000000</td>\n",
              "      <td>0.000000</td>\n",
              "      <td>0.000000</td>\n",
              "      <td>0.231059</td>\n",
              "      <td>0.446193</td>\n",
              "      <td>0.0</td>\n",
              "      <td>0.000000</td>\n",
              "      <td>0.0</td>\n",
              "      <td>0.0</td>\n",
              "      <td>0.000000</td>\n",
              "      <td>0.0</td>\n",
              "      <td>0.0</td>\n",
              "      <td>0.0</td>\n",
              "      <td>0.0</td>\n",
              "      <td>0.382009</td>\n",
              "      <td>0.000000</td>\n",
              "      <td>0.0</td>\n",
              "      <td>0.0</td>\n",
              "      <td>0.0</td>\n",
              "      <td>0.0</td>\n",
              "      <td>0.0</td>\n",
              "      <td>0.0</td>\n",
              "      <td>0.000000</td>\n",
              "      <td>0.000000</td>\n",
              "      <td>0.000000</td>\n",
              "      <td>0.000000</td>\n",
              "      <td>0.000000</td>\n",
              "      <td>0.0</td>\n",
              "      <td>0.000000</td>\n",
              "      <td>0.000000</td>\n",
              "      <td>0.000000</td>\n",
              "    </tr>\n",
              "    <tr>\n",
              "      <th>2</th>\n",
              "      <td>0.0</td>\n",
              "      <td>0.0</td>\n",
              "      <td>0.000000</td>\n",
              "      <td>0.237351</td>\n",
              "      <td>0.0000</td>\n",
              "      <td>0.00000</td>\n",
              "      <td>0.230929</td>\n",
              "      <td>0.177876</td>\n",
              "      <td>0.000000</td>\n",
              "      <td>0.0</td>\n",
              "      <td>0.0</td>\n",
              "      <td>0.00000</td>\n",
              "      <td>0.180318</td>\n",
              "      <td>0.208739</td>\n",
              "      <td>0.0</td>\n",
              "      <td>0.0</td>\n",
              "      <td>0.233304</td>\n",
              "      <td>0.0</td>\n",
              "      <td>0.0</td>\n",
              "      <td>0.000000</td>\n",
              "      <td>0.0</td>\n",
              "      <td>0.0</td>\n",
              "      <td>0.0</td>\n",
              "      <td>0.000000</td>\n",
              "      <td>0.0</td>\n",
              "      <td>0.099752</td>\n",
              "      <td>0.000000</td>\n",
              "      <td>0.0</td>\n",
              "      <td>0.000000</td>\n",
              "      <td>0.0</td>\n",
              "      <td>0.0</td>\n",
              "      <td>0.0</td>\n",
              "      <td>0.0</td>\n",
              "      <td>0.00000</td>\n",
              "      <td>0.000000</td>\n",
              "      <td>0.0</td>\n",
              "      <td>0.0</td>\n",
              "      <td>0.215127</td>\n",
              "      <td>0.00000</td>\n",
              "      <td>0.189318</td>\n",
              "      <td>0.000000</td>\n",
              "      <td>0.0</td>\n",
              "      <td>0.0</td>\n",
              "      <td>0.0</td>\n",
              "      <td>0.0</td>\n",
              "      <td>0.0</td>\n",
              "      <td>0.0</td>\n",
              "      <td>0.000000</td>\n",
              "      <td>0.000000</td>\n",
              "      <td>0.131626</td>\n",
              "      <td>0.331425</td>\n",
              "      <td>0.218441</td>\n",
              "      <td>0.113753</td>\n",
              "      <td>0.000000</td>\n",
              "      <td>0.0</td>\n",
              "      <td>0.213529</td>\n",
              "      <td>0.0</td>\n",
              "      <td>0.0</td>\n",
              "      <td>0.000000</td>\n",
              "      <td>0.0</td>\n",
              "      <td>0.0</td>\n",
              "      <td>0.0</td>\n",
              "      <td>0.0</td>\n",
              "      <td>0.000000</td>\n",
              "      <td>0.000000</td>\n",
              "      <td>0.0</td>\n",
              "      <td>0.0</td>\n",
              "      <td>0.0</td>\n",
              "      <td>0.0</td>\n",
              "      <td>0.0</td>\n",
              "      <td>0.0</td>\n",
              "      <td>0.000000</td>\n",
              "      <td>0.130823</td>\n",
              "      <td>0.000000</td>\n",
              "      <td>0.414978</td>\n",
              "      <td>0.000000</td>\n",
              "      <td>0.0</td>\n",
              "      <td>0.364846</td>\n",
              "      <td>0.196292</td>\n",
              "      <td>0.204265</td>\n",
              "    </tr>\n",
              "    <tr>\n",
              "      <th>3</th>\n",
              "      <td>0.0</td>\n",
              "      <td>0.0</td>\n",
              "      <td>0.000000</td>\n",
              "      <td>0.000000</td>\n",
              "      <td>0.2508</td>\n",
              "      <td>0.00000</td>\n",
              "      <td>0.000000</td>\n",
              "      <td>0.000000</td>\n",
              "      <td>0.000000</td>\n",
              "      <td>0.0</td>\n",
              "      <td>0.0</td>\n",
              "      <td>0.19648</td>\n",
              "      <td>0.000000</td>\n",
              "      <td>0.000000</td>\n",
              "      <td>0.0</td>\n",
              "      <td>0.0</td>\n",
              "      <td>0.259054</td>\n",
              "      <td>0.0</td>\n",
              "      <td>0.0</td>\n",
              "      <td>0.240951</td>\n",
              "      <td>0.0</td>\n",
              "      <td>0.0</td>\n",
              "      <td>0.0</td>\n",
              "      <td>0.000000</td>\n",
              "      <td>0.0</td>\n",
              "      <td>0.000000</td>\n",
              "      <td>0.238871</td>\n",
              "      <td>0.0</td>\n",
              "      <td>0.156984</td>\n",
              "      <td>0.0</td>\n",
              "      <td>0.0</td>\n",
              "      <td>0.0</td>\n",
              "      <td>0.0</td>\n",
              "      <td>0.20546</td>\n",
              "      <td>0.000000</td>\n",
              "      <td>0.0</td>\n",
              "      <td>0.0</td>\n",
              "      <td>0.238871</td>\n",
              "      <td>0.00000</td>\n",
              "      <td>0.000000</td>\n",
              "      <td>0.210038</td>\n",
              "      <td>0.0</td>\n",
              "      <td>0.0</td>\n",
              "      <td>0.0</td>\n",
              "      <td>0.0</td>\n",
              "      <td>0.0</td>\n",
              "      <td>0.0</td>\n",
              "      <td>0.138895</td>\n",
              "      <td>0.143151</td>\n",
              "      <td>0.146154</td>\n",
              "      <td>0.000000</td>\n",
              "      <td>0.000000</td>\n",
              "      <td>0.252615</td>\n",
              "      <td>0.000000</td>\n",
              "      <td>0.0</td>\n",
              "      <td>0.000000</td>\n",
              "      <td>0.0</td>\n",
              "      <td>0.0</td>\n",
              "      <td>0.243363</td>\n",
              "      <td>0.0</td>\n",
              "      <td>0.0</td>\n",
              "      <td>0.0</td>\n",
              "      <td>0.0</td>\n",
              "      <td>0.208824</td>\n",
              "      <td>0.000000</td>\n",
              "      <td>0.0</td>\n",
              "      <td>0.0</td>\n",
              "      <td>0.0</td>\n",
              "      <td>0.0</td>\n",
              "      <td>0.0</td>\n",
              "      <td>0.0</td>\n",
              "      <td>0.199457</td>\n",
              "      <td>0.000000</td>\n",
              "      <td>0.000000</td>\n",
              "      <td>0.000000</td>\n",
              "      <td>0.529775</td>\n",
              "      <td>0.0</td>\n",
              "      <td>0.000000</td>\n",
              "      <td>0.000000</td>\n",
              "      <td>0.000000</td>\n",
              "    </tr>\n",
              "    <tr>\n",
              "      <th>4</th>\n",
              "      <td>0.0</td>\n",
              "      <td>0.0</td>\n",
              "      <td>0.000000</td>\n",
              "      <td>0.000000</td>\n",
              "      <td>0.0000</td>\n",
              "      <td>0.00000</td>\n",
              "      <td>0.000000</td>\n",
              "      <td>0.000000</td>\n",
              "      <td>0.308937</td>\n",
              "      <td>0.0</td>\n",
              "      <td>0.0</td>\n",
              "      <td>0.31555</td>\n",
              "      <td>0.321557</td>\n",
              "      <td>0.000000</td>\n",
              "      <td>0.0</td>\n",
              "      <td>0.0</td>\n",
              "      <td>0.416045</td>\n",
              "      <td>0.0</td>\n",
              "      <td>0.0</td>\n",
              "      <td>0.000000</td>\n",
              "      <td>0.0</td>\n",
              "      <td>0.0</td>\n",
              "      <td>0.0</td>\n",
              "      <td>0.000000</td>\n",
              "      <td>0.0</td>\n",
              "      <td>0.177885</td>\n",
              "      <td>0.000000</td>\n",
              "      <td>0.0</td>\n",
              "      <td>0.252119</td>\n",
              "      <td>0.0</td>\n",
              "      <td>0.0</td>\n",
              "      <td>0.0</td>\n",
              "      <td>0.0</td>\n",
              "      <td>0.00000</td>\n",
              "      <td>0.343368</td>\n",
              "      <td>0.0</td>\n",
              "      <td>0.0</td>\n",
              "      <td>0.383630</td>\n",
              "      <td>0.00000</td>\n",
              "      <td>0.000000</td>\n",
              "      <td>0.337324</td>\n",
              "      <td>0.0</td>\n",
              "      <td>0.0</td>\n",
              "      <td>0.0</td>\n",
              "      <td>0.0</td>\n",
              "      <td>0.0</td>\n",
              "      <td>0.0</td>\n",
              "      <td>0.000000</td>\n",
              "      <td>0.000000</td>\n",
              "      <td>0.000000</td>\n",
              "      <td>0.000000</td>\n",
              "      <td>0.000000</td>\n",
              "      <td>0.000000</td>\n",
              "      <td>0.000000</td>\n",
              "      <td>0.0</td>\n",
              "      <td>0.000000</td>\n",
              "      <td>0.0</td>\n",
              "      <td>0.0</td>\n",
              "      <td>0.000000</td>\n",
              "      <td>0.0</td>\n",
              "      <td>0.0</td>\n",
              "      <td>0.0</td>\n",
              "      <td>0.0</td>\n",
              "      <td>0.000000</td>\n",
              "      <td>0.000000</td>\n",
              "      <td>0.0</td>\n",
              "      <td>0.0</td>\n",
              "      <td>0.0</td>\n",
              "      <td>0.0</td>\n",
              "      <td>0.0</td>\n",
              "      <td>0.0</td>\n",
              "      <td>0.000000</td>\n",
              "      <td>0.233294</td>\n",
              "      <td>0.000000</td>\n",
              "      <td>0.000000</td>\n",
              "      <td>0.000000</td>\n",
              "      <td>0.0</td>\n",
              "      <td>0.000000</td>\n",
              "      <td>0.000000</td>\n",
              "      <td>0.000000</td>\n",
              "    </tr>\n",
              "  </tbody>\n",
              "</table>\n",
              "</div>"
            ],
            "text/plain": [
              "   age  aged  balanced    barrel   black  bottles  bottling   bourbon  \\\n",
              "0  0.0   0.0  0.327069  0.000000  0.0000  0.00000  0.000000  0.000000   \n",
              "1  0.0   0.0  0.000000  0.000000  0.0000  0.43511  0.000000  0.000000   \n",
              "2  0.0   0.0  0.000000  0.237351  0.0000  0.00000  0.230929  0.177876   \n",
              "3  0.0   0.0  0.000000  0.000000  0.2508  0.00000  0.000000  0.000000   \n",
              "4  0.0   0.0  0.000000  0.000000  0.0000  0.00000  0.000000  0.000000   \n",
              "\n",
              "    caramel  cask  casks  chocolate  cinnamon    citrus  clean  color  \\\n",
              "0  0.252358   0.0    0.0    0.00000  0.000000  0.000000    0.0    0.0   \n",
              "1  0.000000   0.0    0.0    0.00000  0.000000  0.000000    0.0    0.0   \n",
              "2  0.000000   0.0    0.0    0.00000  0.180318  0.208739    0.0    0.0   \n",
              "3  0.000000   0.0    0.0    0.19648  0.000000  0.000000    0.0    0.0   \n",
              "4  0.308937   0.0    0.0    0.31555  0.321557  0.000000    0.0    0.0   \n",
              "\n",
              "    complex  corn  creamy      dark  distilled  distillery  dried       dry  \\\n",
              "0  0.339850   0.0     0.0  0.000000        0.0         0.0    0.0  0.000000   \n",
              "1  0.000000   0.0     0.0  0.000000        0.0         0.0    0.0  0.402315   \n",
              "2  0.233304   0.0     0.0  0.000000        0.0         0.0    0.0  0.000000   \n",
              "3  0.259054   0.0     0.0  0.240951        0.0         0.0    0.0  0.000000   \n",
              "4  0.416045   0.0     0.0  0.000000        0.0         0.0    0.0  0.000000   \n",
              "\n",
              "   expression    finish   flavors  fresh     fruit  fruits  fruity  ginger  \\\n",
              "0         0.0  0.145307  0.313372    0.0  0.205946     0.0     0.0     0.0   \n",
              "1         0.0  0.000000  0.000000    0.0  0.287176     0.0     0.0     0.0   \n",
              "2         0.0  0.099752  0.000000    0.0  0.000000     0.0     0.0     0.0   \n",
              "3         0.0  0.000000  0.238871    0.0  0.156984     0.0     0.0     0.0   \n",
              "4         0.0  0.177885  0.000000    0.0  0.252119     0.0     0.0     0.0   \n",
              "\n",
              "   good     hint     honey  hot  just   leather    light      like      long  \\\n",
              "0   0.0  0.00000  0.000000  0.0   0.0  0.000000  0.00000  0.000000  0.000000   \n",
              "1   0.0  0.00000  0.000000  0.0   0.0  0.000000  0.40981  0.000000  0.000000   \n",
              "2   0.0  0.00000  0.000000  0.0   0.0  0.215127  0.00000  0.189318  0.000000   \n",
              "3   0.0  0.20546  0.000000  0.0   0.0  0.238871  0.00000  0.000000  0.210038   \n",
              "4   0.0  0.00000  0.343368  0.0   0.0  0.383630  0.00000  0.000000  0.337324   \n",
              "\n",
              "   malt  matured  medium  mouth  new  nicely      nose     notes       oak  \\\n",
              "0   0.0      0.0     0.0    0.0  0.0     0.0  0.000000  0.187799  0.000000   \n",
              "1   0.0      0.0     0.0    0.0  0.0     0.0  0.000000  0.000000  0.000000   \n",
              "2   0.0      0.0     0.0    0.0  0.0     0.0  0.000000  0.000000  0.131626   \n",
              "3   0.0      0.0     0.0    0.0  0.0     0.0  0.138895  0.143151  0.146154   \n",
              "4   0.0      0.0     0.0    0.0  0.0     0.0  0.000000  0.000000  0.000000   \n",
              "\n",
              "        old    orange    palate      peat  pepper     quite  release  rich  \\\n",
              "0  0.241391  0.000000  0.000000  0.000000     0.0  0.000000      0.0   0.0   \n",
              "1  0.000000  0.000000  0.231059  0.446193     0.0  0.000000      0.0   0.0   \n",
              "2  0.331425  0.218441  0.113753  0.000000     0.0  0.213529      0.0   0.0   \n",
              "3  0.000000  0.000000  0.252615  0.000000     0.0  0.000000      0.0   0.0   \n",
              "4  0.000000  0.000000  0.000000  0.000000     0.0  0.000000      0.0   0.0   \n",
              "\n",
              "       ripe  rye  sherry  single  slightly     smoke      soft  spice  spices  \\\n",
              "0  0.000000  0.0     0.0     0.0       0.0  0.000000  0.284168    0.0     0.0   \n",
              "1  0.000000  0.0     0.0     0.0       0.0  0.382009  0.000000    0.0     0.0   \n",
              "2  0.000000  0.0     0.0     0.0       0.0  0.000000  0.000000    0.0     0.0   \n",
              "3  0.243363  0.0     0.0     0.0       0.0  0.208824  0.000000    0.0     0.0   \n",
              "4  0.000000  0.0     0.0     0.0       0.0  0.000000  0.000000    0.0     0.0   \n",
              "\n",
              "   spicy  subtle  sweet  sweetness    toffee   vanilla     water   whiskey  \\\n",
              "0    0.0     0.0    0.0        0.0  0.000000  0.190568  0.312701  0.302246   \n",
              "1    0.0     0.0    0.0        0.0  0.000000  0.000000  0.000000  0.000000   \n",
              "2    0.0     0.0    0.0        0.0  0.000000  0.130823  0.000000  0.414978   \n",
              "3    0.0     0.0    0.0        0.0  0.199457  0.000000  0.000000  0.000000   \n",
              "4    0.0     0.0    0.0        0.0  0.000000  0.233294  0.000000  0.000000   \n",
              "\n",
              "     whisky  wood      year  year old     years  \n",
              "0  0.000000   0.0  0.265732  0.285935  0.000000  \n",
              "1  0.000000   0.0  0.000000  0.000000  0.000000  \n",
              "2  0.000000   0.0  0.364846  0.196292  0.204265  \n",
              "3  0.529775   0.0  0.000000  0.000000  0.000000  \n",
              "4  0.000000   0.0  0.000000  0.000000  0.000000  "
            ]
          },
          "metadata": {
            "tags": []
          },
          "execution_count": 43
        }
      ]
    },
    {
      "cell_type": "markdown",
      "metadata": {
        "id": "qjHmUsmtQLwg",
        "colab_type": "text"
      },
      "source": [
        "#### Load Model"
      ]
    },
    {
      "cell_type": "code",
      "metadata": {
        "ExecuteTime": {
          "end_time": "2019-10-04T07:58:43.002196Z",
          "start_time": "2019-10-04T07:58:38.730146Z"
        },
        "id": "bXpd059eQLwi",
        "colab_type": "code",
        "colab": {}
      },
      "source": [
        "grid_search4 = load_model('TFIDF_SVD_SGDC')"
      ],
      "execution_count": 0,
      "outputs": []
    },
    {
      "cell_type": "code",
      "metadata": {
        "ExecuteTime": {
          "end_time": "2019-10-04T07:58:43.012006Z",
          "start_time": "2019-10-04T07:58:43.004130Z"
        },
        "scrolled": false,
        "id": "ELz3Rz-sQLwj",
        "colab_type": "code",
        "colab": {}
      },
      "source": [
        "# %%time\n",
        "\n",
        "# vect = TfidfVectorizer(stop_words='english', ngram_range=(1, 3))\n",
        "\n",
        "# svd = TruncatedSVD(algorithm='randomized')\n",
        "\n",
        "# sgdc = SGDClassifier(early_stopping=True)\n",
        "\n",
        "# pipe4 = Pipeline([('vect', vect), ('svd', svd), ('sgdc', sgdc)])\n",
        "\n",
        "# parameters4 = { \n",
        "#     'svd__n_iter': (10, 15, 20),\n",
        "#     'svd__n_components': (100, 300, 500, 1000),\n",
        "#     'sgdc__max_iter': (1000,)\n",
        "# }\n",
        "\n",
        "\n",
        "# grid_search4 = GridSearchCV(pipe4, parameters4, cv=5, n_jobs=-1, verbose=10)\n",
        "# grid_search4.fit(train['description'], train['category'])"
      ],
      "execution_count": 0,
      "outputs": []
    },
    {
      "cell_type": "code",
      "metadata": {
        "ExecuteTime": {
          "end_time": "2019-10-04T07:58:43.055513Z",
          "start_time": "2019-10-04T07:58:43.014975Z"
        },
        "id": "GyAeUo-jQLwl",
        "colab_type": "code",
        "outputId": "42367d14-54ba-4999-fe5b-1fd6aaf7c879",
        "colab": {}
      },
      "source": [
        "grid_search4.best_estimator_"
      ],
      "execution_count": 0,
      "outputs": [
        {
          "output_type": "execute_result",
          "data": {
            "text/plain": [
              "Pipeline(memory=None,\n",
              "     steps=[('vect', TfidfVectorizer(analyzer='word', binary=False, decode_error='strict',\n",
              "        dtype=<class 'numpy.float64'>, encoding='utf-8', input='content',\n",
              "        lowercase=True, max_df=1.0, max_features=None, min_df=1,\n",
              "        ngram_range=(1, 3), norm='l2', preprocessor=None, smooth_idf=True,\n",
              "...m_state=None, shuffle=True, tol=None,\n",
              "       validation_fraction=0.1, verbose=0, warm_start=False))])"
            ]
          },
          "metadata": {
            "tags": []
          },
          "execution_count": 46
        }
      ]
    },
    {
      "cell_type": "code",
      "metadata": {
        "ExecuteTime": {
          "end_time": "2019-10-04T07:58:43.719873Z",
          "start_time": "2019-10-04T07:58:43.715918Z"
        },
        "id": "BNhen-fHQLwm",
        "colab_type": "code",
        "outputId": "c79f4867-ec5a-4dc6-ff03-544afd4073b9",
        "colab": {}
      },
      "source": [
        "grid_search4.best_params_"
      ],
      "execution_count": 0,
      "outputs": [
        {
          "output_type": "execute_result",
          "data": {
            "text/plain": [
              "{'sgdc__max_iter': 1000, 'svd__n_components': 500, 'svd__n_iter': 20}"
            ]
          },
          "metadata": {
            "tags": []
          },
          "execution_count": 47
        }
      ]
    },
    {
      "cell_type": "code",
      "metadata": {
        "ExecuteTime": {
          "end_time": "2019-10-04T07:58:44.087389Z",
          "start_time": "2019-10-04T07:58:44.082343Z"
        },
        "id": "UPd3agkDQLwn",
        "colab_type": "code",
        "outputId": "f3dd8772-a2b1-4cc9-c13a-a0a1204f0733",
        "colab": {}
      },
      "source": [
        "grid_search4.best_score_"
      ],
      "execution_count": 0,
      "outputs": [
        {
          "output_type": "execute_result",
          "data": {
            "text/plain": [
              "0.9381283836040216"
            ]
          },
          "metadata": {
            "tags": []
          },
          "execution_count": 48
        }
      ]
    },
    {
      "cell_type": "markdown",
      "metadata": {
        "id": "Sq8stcHLQLwq",
        "colab_type": "text"
      },
      "source": [
        "#### Save submission"
      ]
    },
    {
      "cell_type": "code",
      "metadata": {
        "ExecuteTime": {
          "end_time": "2019-10-04T07:58:47.000748Z",
          "start_time": "2019-10-04T07:58:46.998313Z"
        },
        "id": "5ThspnYuQLwq",
        "colab_type": "code",
        "colab": {}
      },
      "source": [
        "# submission(grid_search4, 'TFIDF_SVD_SGDC')"
      ],
      "execution_count": 0,
      "outputs": []
    },
    {
      "cell_type": "markdown",
      "metadata": {
        "id": "Y6bKfYVOQLwr",
        "colab_type": "text"
      },
      "source": [
        "#### Pickle Model 🥒"
      ]
    },
    {
      "cell_type": "code",
      "metadata": {
        "ExecuteTime": {
          "end_time": "2019-10-04T07:58:47.640042Z",
          "start_time": "2019-10-04T07:58:47.637949Z"
        },
        "id": "0kbOenzLQLwr",
        "colab_type": "code",
        "colab": {}
      },
      "source": [
        "# pickle_model(grid_search4, 'TFIDF_SVD_SGDC')"
      ],
      "execution_count": 0,
      "outputs": []
    },
    {
      "cell_type": "markdown",
      "metadata": {
        "id": "1cfxCjiQQLws",
        "colab_type": "text"
      },
      "source": [
        "### TFID + ASVD + SGDC"
      ]
    },
    {
      "cell_type": "markdown",
      "metadata": {
        "id": "5282voHOQLwt",
        "colab_type": "text"
      },
      "source": [
        "#### Load Model"
      ]
    },
    {
      "cell_type": "code",
      "metadata": {
        "ExecuteTime": {
          "end_time": "2019-10-04T07:58:51.029715Z",
          "start_time": "2019-10-04T07:58:50.745700Z"
        },
        "id": "CCYeMbGiQLwu",
        "colab_type": "code",
        "colab": {}
      },
      "source": [
        "grid_search5 = load_model('TFIDF_ASVD_SGDC')"
      ],
      "execution_count": 0,
      "outputs": []
    },
    {
      "cell_type": "code",
      "metadata": {
        "ExecuteTime": {
          "end_time": "2019-10-04T07:58:52.920398Z",
          "start_time": "2019-10-04T07:58:52.917769Z"
        },
        "id": "izebqdrpQLwv",
        "colab_type": "code",
        "colab": {}
      },
      "source": [
        "# %%time\n",
        "\n",
        "# vect = TfidfVectorizer(stop_words='english')\n",
        "\n",
        "# svd = TruncatedSVD(algorithm='randomized')\n",
        "\n",
        "# sgdc = SGDClassifier(average=True)\n",
        "\n",
        "# pipe5 = Pipeline([('vect', vect), ('svd', svd), ('sgdc', sgdc)])\n",
        "\n",
        "# parameters5 = { \n",
        "#     'svd__n_iter': (20,),\n",
        "#     'svd__n_components': (1000,)\n",
        "# }\n",
        "\n",
        "# grid_search5 = GridSearchCV(pipe5, parameters5, cv=5, n_jobs=-1, verbose=10)\n",
        "# grid_search5.fit(train['description'], train['category'])"
      ],
      "execution_count": 0,
      "outputs": []
    },
    {
      "cell_type": "code",
      "metadata": {
        "ExecuteTime": {
          "end_time": "2019-10-04T07:58:53.211663Z",
          "start_time": "2019-10-04T07:58:53.207602Z"
        },
        "id": "V757gXdJQLww",
        "colab_type": "code",
        "outputId": "262deea2-cb3e-49f6-f759-24948e2c0e25",
        "colab": {}
      },
      "source": [
        "grid_search5.best_estimator_"
      ],
      "execution_count": 0,
      "outputs": [
        {
          "output_type": "execute_result",
          "data": {
            "text/plain": [
              "Pipeline(memory=None,\n",
              "     steps=[('vect', TfidfVectorizer(analyzer='word', binary=False, decode_error='strict',\n",
              "        dtype=<class 'numpy.float64'>, encoding='utf-8', input='content',\n",
              "        lowercase=True, max_df=1.0, max_features=None, min_df=1,\n",
              "        ngram_range=(1, 1), norm='l2', preprocessor=None, smooth_idf=True,\n",
              "...m_state=None, shuffle=True, tol=None,\n",
              "       validation_fraction=0.1, verbose=0, warm_start=False))])"
            ]
          },
          "metadata": {
            "tags": []
          },
          "execution_count": 53
        }
      ]
    },
    {
      "cell_type": "code",
      "metadata": {
        "ExecuteTime": {
          "end_time": "2019-10-04T07:58:53.650557Z",
          "start_time": "2019-10-04T07:58:53.645251Z"
        },
        "id": "2nwtgCDKQLwx",
        "colab_type": "code",
        "outputId": "ba0e87f7-e58f-4012-f8b0-d7902ade5968",
        "colab": {}
      },
      "source": [
        "grid_search5.best_params_"
      ],
      "execution_count": 0,
      "outputs": [
        {
          "output_type": "execute_result",
          "data": {
            "text/plain": [
              "{'svd__n_components': 1000, 'svd__n_iter': 20}"
            ]
          },
          "metadata": {
            "tags": []
          },
          "execution_count": 54
        }
      ]
    },
    {
      "cell_type": "code",
      "metadata": {
        "ExecuteTime": {
          "end_time": "2019-10-04T07:58:53.989741Z",
          "start_time": "2019-10-04T07:58:53.986100Z"
        },
        "id": "dd15waZAQLwz",
        "colab_type": "code",
        "outputId": "5666bfc5-2e78-4a09-8172-b5cab4454fff",
        "colab": {}
      },
      "source": [
        "grid_search5.best_score_"
      ],
      "execution_count": 0,
      "outputs": [
        {
          "output_type": "execute_result",
          "data": {
            "text/plain": [
              "0.9191802010827533"
            ]
          },
          "metadata": {
            "tags": []
          },
          "execution_count": 55
        }
      ]
    },
    {
      "cell_type": "markdown",
      "metadata": {
        "id": "CjfJidhqQLw0",
        "colab_type": "text"
      },
      "source": [
        "#### Save submission"
      ]
    },
    {
      "cell_type": "code",
      "metadata": {
        "ExecuteTime": {
          "end_time": "2019-10-04T07:58:55.124839Z",
          "start_time": "2019-10-04T07:58:55.121886Z"
        },
        "id": "cB-f_qfpQLw0",
        "colab_type": "code",
        "colab": {}
      },
      "source": [
        "# submission(grid_search5, 'TFIDF_ASVD_SGDC')"
      ],
      "execution_count": 0,
      "outputs": []
    },
    {
      "cell_type": "markdown",
      "metadata": {
        "id": "S2SiEVTgQLw1",
        "colab_type": "text"
      },
      "source": [
        "#### Pickle Model 🥒"
      ]
    },
    {
      "cell_type": "code",
      "metadata": {
        "ExecuteTime": {
          "end_time": "2019-10-04T07:59:05.069832Z",
          "start_time": "2019-10-04T07:59:05.067472Z"
        },
        "id": "NhFJL07AQLw1",
        "colab_type": "code",
        "colab": {}
      },
      "source": [
        "# pickle_model(grid_search5, 'TFIDF_ASVD_SGDC')"
      ],
      "execution_count": 0,
      "outputs": []
    },
    {
      "cell_type": "markdown",
      "metadata": {
        "id": "P1X8gzssQLw2",
        "colab_type": "text"
      },
      "source": [
        "### TFIDF W/ STOPWORDS + SVD + SGDC"
      ]
    },
    {
      "cell_type": "code",
      "metadata": {
        "ExecuteTime": {
          "end_time": "2019-10-04T07:59:10.033653Z",
          "start_time": "2019-10-04T07:59:09.891158Z"
        },
        "id": "L3xCl208QLw2",
        "colab_type": "code",
        "outputId": "92540540-b2e7-4707-d0a5-fe43fc9d53c7",
        "colab": {}
      },
      "source": [
        "vect = TfidfVectorizer()\n",
        "\n",
        "sparse = vect.fit_transform(train['description'].sample(50))\n",
        "\n",
        "dtm = pd.DataFrame(sparse.todense(), columns=vect.get_feature_names())\n",
        "print(dtm.shape)\n",
        "dtm.head()"
      ],
      "execution_count": 0,
      "outputs": [
        {
          "output_type": "stream",
          "text": [
            "(50, 1252)\n"
          ],
          "name": "stdout"
        },
        {
          "output_type": "execute_result",
          "data": {
            "text/html": [
              "<div>\n",
              "<style scoped>\n",
              "    .dataframe tbody tr th:only-of-type {\n",
              "        vertical-align: middle;\n",
              "    }\n",
              "\n",
              "    .dataframe tbody tr th {\n",
              "        vertical-align: top;\n",
              "    }\n",
              "\n",
              "    .dataframe thead th {\n",
              "        text-align: right;\n",
              "    }\n",
              "</style>\n",
              "<table border=\"1\" class=\"dataframe\">\n",
              "  <thead>\n",
              "    <tr style=\"text-align: right;\">\n",
              "      <th></th>\n",
              "      <th>10</th>\n",
              "      <th>100</th>\n",
              "      <th>12</th>\n",
              "      <th>120</th>\n",
              "      <th>131</th>\n",
              "      <th>16</th>\n",
              "      <th>176</th>\n",
              "      <th>18</th>\n",
              "      <th>19</th>\n",
              "      <th>1972</th>\n",
              "      <th>1974</th>\n",
              "      <th>1996</th>\n",
              "      <th>1997</th>\n",
              "      <th>20</th>\n",
              "      <th>2003</th>\n",
              "      <th>2007</th>\n",
              "      <th>21</th>\n",
              "      <th>25</th>\n",
              "      <th>26</th>\n",
              "      <th>263</th>\n",
              "      <th>288</th>\n",
              "      <th>30</th>\n",
              "      <th>33</th>\n",
              "      <th>3524</th>\n",
              "      <th>375</th>\n",
              "      <th>375ml</th>\n",
              "      <th>39</th>\n",
              "      <th>46</th>\n",
              "      <th>55</th>\n",
              "      <th>60</th>\n",
              "      <th>69</th>\n",
              "      <th>70</th>\n",
              "      <th>72</th>\n",
              "      <th>80</th>\n",
              "      <th>80s</th>\n",
              "      <th>85</th>\n",
              "      <th>89</th>\n",
              "      <th>90</th>\n",
              "      <th>93</th>\n",
              "      <th>about</th>\n",
              "      <th>above</th>\n",
              "      <th>abv</th>\n",
              "      <th>accented</th>\n",
              "      <th>acceptable</th>\n",
              "      <th>according</th>\n",
              "      <th>add</th>\n",
              "      <th>added</th>\n",
              "      <th>addition</th>\n",
              "      <th>additional</th>\n",
              "      <th>after</th>\n",
              "      <th>again</th>\n",
              "      <th>age</th>\n",
              "      <th>aged</th>\n",
              "      <th>aging</th>\n",
              "      <th>airiness</th>\n",
              "      <th>akin</th>\n",
              "      <th>alberta</th>\n",
              "      <th>alcohol</th>\n",
              "      <th>ale</th>\n",
              "      <th>all</th>\n",
              "      <th>allspice</th>\n",
              "      <th>almonds</th>\n",
              "      <th>almost</th>\n",
              "      <th>along</th>\n",
              "      <th>alongside</th>\n",
              "      <th>also</th>\n",
              "      <th>amazing</th>\n",
              "      <th>amber</th>\n",
              "      <th>american</th>\n",
              "      <th>amounts</th>\n",
              "      <th>an</th>\n",
              "      <th>and</th>\n",
              "      <th>anise</th>\n",
              "      <th>aniseed</th>\n",
              "      <th>annual</th>\n",
              "      <th>another</th>\n",
              "      <th>anti</th>\n",
              "      <th>antique</th>\n",
              "      <th>any</th>\n",
              "      <th>anyone</th>\n",
              "      <th>apart</th>\n",
              "      <th>apparent</th>\n",
              "      <th>appearing</th>\n",
              "      <th>apple</th>\n",
              "      <th>apples</th>\n",
              "      <th>applewood</th>\n",
              "      <th>approach</th>\n",
              "      <th>approachable</th>\n",
              "      <th>apricot</th>\n",
              "      <th>archetypal</th>\n",
              "      <th>arcs</th>\n",
              "      <th>ardbeg</th>\n",
              "      <th>are</th>\n",
              "      <th>armchair</th>\n",
              "      <th>aroma</th>\n",
              "      <th>aromas</th>\n",
              "      <th>aromatic</th>\n",
              "      <th>around</th>\n",
              "      <th>arran</th>\n",
              "      <th>art</th>\n",
              "      <th>...</th>\n",
              "      <th>uk</th>\n",
              "      <th>ultimately</th>\n",
              "      <th>ultra</th>\n",
              "      <th>underfoot</th>\n",
              "      <th>underlying</th>\n",
              "      <th>understated</th>\n",
              "      <th>understatement</th>\n",
              "      <th>unlike</th>\n",
              "      <th>unpeated</th>\n",
              "      <th>unsalted</th>\n",
              "      <th>unseeded</th>\n",
              "      <th>until</th>\n",
              "      <th>unusual</th>\n",
              "      <th>unusually</th>\n",
              "      <th>unwanted</th>\n",
              "      <th>up</th>\n",
              "      <th>us</th>\n",
              "      <th>use</th>\n",
              "      <th>used</th>\n",
              "      <th>vague</th>\n",
              "      <th>valhalla</th>\n",
              "      <th>validates</th>\n",
              "      <th>valley</th>\n",
              "      <th>value</th>\n",
              "      <th>vanilla</th>\n",
              "      <th>variant</th>\n",
              "      <th>variants</th>\n",
              "      <th>varnish</th>\n",
              "      <th>veritable</th>\n",
              "      <th>version</th>\n",
              "      <th>very</th>\n",
              "      <th>vetiver</th>\n",
              "      <th>vibrancy</th>\n",
              "      <th>vin</th>\n",
              "      <th>vineyard</th>\n",
              "      <th>vintage</th>\n",
              "      <th>viscous</th>\n",
              "      <th>vol</th>\n",
              "      <th>wafer</th>\n",
              "      <th>walls</th>\n",
              "      <th>want</th>\n",
              "      <th>warm</th>\n",
              "      <th>warming</th>\n",
              "      <th>was</th>\n",
              "      <th>washed</th>\n",
              "      <th>watching</th>\n",
              "      <th>water</th>\n",
              "      <th>watering</th>\n",
              "      <th>waxed</th>\n",
              "      <th>way</th>\n",
              "      <th>we</th>\n",
              "      <th>weight</th>\n",
              "      <th>weighty</th>\n",
              "      <th>welcome</th>\n",
              "      <th>well</th>\n",
              "      <th>were</th>\n",
              "      <th>werther</th>\n",
              "      <th>west</th>\n",
              "      <th>what</th>\n",
              "      <th>wheat</th>\n",
              "      <th>when</th>\n",
              "      <th>where</th>\n",
              "      <th>whereas</th>\n",
              "      <th>which</th>\n",
              "      <th>whiff</th>\n",
              "      <th>while</th>\n",
              "      <th>whiskey</th>\n",
              "      <th>whiskies</th>\n",
              "      <th>whisky</th>\n",
              "      <th>white</th>\n",
              "      <th>whittled</th>\n",
              "      <th>whole</th>\n",
              "      <th>wholly</th>\n",
              "      <th>whose</th>\n",
              "      <th>will</th>\n",
              "      <th>willie</th>\n",
              "      <th>wine</th>\n",
              "      <th>wisp</th>\n",
              "      <th>wisps</th>\n",
              "      <th>with</th>\n",
              "      <th>wonderful</th>\n",
              "      <th>wood</th>\n",
              "      <th>woodpile</th>\n",
              "      <th>work</th>\n",
              "      <th>worthwhile</th>\n",
              "      <th>would</th>\n",
              "      <th>year</th>\n",
              "      <th>years</th>\n",
              "      <th>yes</th>\n",
              "      <th>yet</th>\n",
              "      <th>yielded</th>\n",
              "      <th>you</th>\n",
              "      <th>young</th>\n",
              "      <th>younger</th>\n",
              "      <th>your</th>\n",
              "      <th>youth</th>\n",
              "      <th>youthful</th>\n",
              "      <th>zest</th>\n",
              "      <th>zesty</th>\n",
              "      <th>zing</th>\n",
              "    </tr>\n",
              "  </thead>\n",
              "  <tbody>\n",
              "    <tr>\n",
              "      <th>0</th>\n",
              "      <td>0.144304</td>\n",
              "      <td>0.0</td>\n",
              "      <td>0.0</td>\n",
              "      <td>0.0</td>\n",
              "      <td>0.0</td>\n",
              "      <td>0.0</td>\n",
              "      <td>0.0</td>\n",
              "      <td>0.125074</td>\n",
              "      <td>0.000000</td>\n",
              "      <td>0.0</td>\n",
              "      <td>0.0</td>\n",
              "      <td>0.000000</td>\n",
              "      <td>0.0</td>\n",
              "      <td>0.0</td>\n",
              "      <td>0.0</td>\n",
              "      <td>0.0</td>\n",
              "      <td>0.0</td>\n",
              "      <td>0.000000</td>\n",
              "      <td>0.000000</td>\n",
              "      <td>0.0</td>\n",
              "      <td>0.000000</td>\n",
              "      <td>0.000000</td>\n",
              "      <td>0.0</td>\n",
              "      <td>0.0</td>\n",
              "      <td>0.0</td>\n",
              "      <td>0.0</td>\n",
              "      <td>0.0</td>\n",
              "      <td>0.000000</td>\n",
              "      <td>0.0</td>\n",
              "      <td>0.0</td>\n",
              "      <td>0.0</td>\n",
              "      <td>0.0</td>\n",
              "      <td>0.159568</td>\n",
              "      <td>0.000000</td>\n",
              "      <td>0.0</td>\n",
              "      <td>0.0</td>\n",
              "      <td>0.0</td>\n",
              "      <td>0.0</td>\n",
              "      <td>0.0</td>\n",
              "      <td>0.0</td>\n",
              "      <td>0.0</td>\n",
              "      <td>0.00000</td>\n",
              "      <td>0.0</td>\n",
              "      <td>0.0</td>\n",
              "      <td>0.0</td>\n",
              "      <td>0.000000</td>\n",
              "      <td>0.0</td>\n",
              "      <td>0.0</td>\n",
              "      <td>0.0</td>\n",
              "      <td>0.0</td>\n",
              "      <td>0.0</td>\n",
              "      <td>0.000000</td>\n",
              "      <td>0.0</td>\n",
              "      <td>0.0</td>\n",
              "      <td>0.0</td>\n",
              "      <td>0.0</td>\n",
              "      <td>0.0</td>\n",
              "      <td>0.159568</td>\n",
              "      <td>0.0</td>\n",
              "      <td>0.000000</td>\n",
              "      <td>0.0</td>\n",
              "      <td>0.0</td>\n",
              "      <td>0.0</td>\n",
              "      <td>0.0</td>\n",
              "      <td>0.0</td>\n",
              "      <td>0.0</td>\n",
              "      <td>0.0</td>\n",
              "      <td>0.0</td>\n",
              "      <td>0.0</td>\n",
              "      <td>0.0</td>\n",
              "      <td>0.092116</td>\n",
              "      <td>0.112937</td>\n",
              "      <td>0.00000</td>\n",
              "      <td>0.0</td>\n",
              "      <td>0.0</td>\n",
              "      <td>0.000000</td>\n",
              "      <td>0.0</td>\n",
              "      <td>0.0</td>\n",
              "      <td>0.0</td>\n",
              "      <td>0.0</td>\n",
              "      <td>0.0</td>\n",
              "      <td>0.0</td>\n",
              "      <td>0.0</td>\n",
              "      <td>0.000000</td>\n",
              "      <td>0.0</td>\n",
              "      <td>0.0</td>\n",
              "      <td>0.0</td>\n",
              "      <td>0.0</td>\n",
              "      <td>0.0</td>\n",
              "      <td>0.000000</td>\n",
              "      <td>0.0</td>\n",
              "      <td>0.0</td>\n",
              "      <td>0.095392</td>\n",
              "      <td>0.0</td>\n",
              "      <td>0.0</td>\n",
              "      <td>0.0</td>\n",
              "      <td>0.0</td>\n",
              "      <td>0.0</td>\n",
              "      <td>0.000000</td>\n",
              "      <td>0.0</td>\n",
              "      <td>...</td>\n",
              "      <td>0.0</td>\n",
              "      <td>0.000000</td>\n",
              "      <td>0.0</td>\n",
              "      <td>0.0</td>\n",
              "      <td>0.0</td>\n",
              "      <td>0.0</td>\n",
              "      <td>0.0</td>\n",
              "      <td>0.0</td>\n",
              "      <td>0.0</td>\n",
              "      <td>0.0</td>\n",
              "      <td>0.0</td>\n",
              "      <td>0.0</td>\n",
              "      <td>0.0</td>\n",
              "      <td>0.0</td>\n",
              "      <td>0.159568</td>\n",
              "      <td>0.0</td>\n",
              "      <td>0.0</td>\n",
              "      <td>0.0</td>\n",
              "      <td>0.0</td>\n",
              "      <td>0.0</td>\n",
              "      <td>0.0</td>\n",
              "      <td>0.0</td>\n",
              "      <td>0.0</td>\n",
              "      <td>0.144304</td>\n",
              "      <td>0.066022</td>\n",
              "      <td>0.0</td>\n",
              "      <td>0.0</td>\n",
              "      <td>0.0</td>\n",
              "      <td>0.0</td>\n",
              "      <td>0.0</td>\n",
              "      <td>0.0</td>\n",
              "      <td>0.0</td>\n",
              "      <td>0.0</td>\n",
              "      <td>0.0</td>\n",
              "      <td>0.0</td>\n",
              "      <td>0.0</td>\n",
              "      <td>0.0</td>\n",
              "      <td>0.0</td>\n",
              "      <td>0.0</td>\n",
              "      <td>0.0</td>\n",
              "      <td>0.0</td>\n",
              "      <td>0.0</td>\n",
              "      <td>0.00000</td>\n",
              "      <td>0.000000</td>\n",
              "      <td>0.0</td>\n",
              "      <td>0.0</td>\n",
              "      <td>0.0</td>\n",
              "      <td>0.0</td>\n",
              "      <td>0.0</td>\n",
              "      <td>0.0</td>\n",
              "      <td>0.0</td>\n",
              "      <td>0.0</td>\n",
              "      <td>0.0</td>\n",
              "      <td>0.0</td>\n",
              "      <td>0.0</td>\n",
              "      <td>0.0</td>\n",
              "      <td>0.0</td>\n",
              "      <td>0.0</td>\n",
              "      <td>0.0</td>\n",
              "      <td>0.0</td>\n",
              "      <td>0.0</td>\n",
              "      <td>0.0</td>\n",
              "      <td>0.0</td>\n",
              "      <td>0.000000</td>\n",
              "      <td>0.0</td>\n",
              "      <td>0.0</td>\n",
              "      <td>0.0</td>\n",
              "      <td>0.000000</td>\n",
              "      <td>0.000000</td>\n",
              "      <td>0.0</td>\n",
              "      <td>0.0</td>\n",
              "      <td>0.0</td>\n",
              "      <td>0.0</td>\n",
              "      <td>0.0</td>\n",
              "      <td>0.0</td>\n",
              "      <td>0.0</td>\n",
              "      <td>0.0</td>\n",
              "      <td>0.0</td>\n",
              "      <td>0.0</td>\n",
              "      <td>0.124590</td>\n",
              "      <td>0.0</td>\n",
              "      <td>0.0</td>\n",
              "      <td>0.0</td>\n",
              "      <td>0.0</td>\n",
              "      <td>0.0</td>\n",
              "      <td>0.0</td>\n",
              "      <td>0.000000</td>\n",
              "      <td>0.000000</td>\n",
              "      <td>0.000000</td>\n",
              "      <td>0.000000</td>\n",
              "      <td>0.000000</td>\n",
              "      <td>0.000000</td>\n",
              "      <td>0.000000</td>\n",
              "      <td>0.0</td>\n",
              "      <td>0.000000</td>\n",
              "      <td>0.0</td>\n",
              "      <td>0.000000</td>\n",
              "      <td>0.0</td>\n",
              "      <td>0.0</td>\n",
              "      <td>0.0</td>\n",
              "    </tr>\n",
              "    <tr>\n",
              "      <th>1</th>\n",
              "      <td>0.000000</td>\n",
              "      <td>0.0</td>\n",
              "      <td>0.0</td>\n",
              "      <td>0.0</td>\n",
              "      <td>0.0</td>\n",
              "      <td>0.0</td>\n",
              "      <td>0.0</td>\n",
              "      <td>0.113775</td>\n",
              "      <td>0.000000</td>\n",
              "      <td>0.0</td>\n",
              "      <td>0.0</td>\n",
              "      <td>0.000000</td>\n",
              "      <td>0.0</td>\n",
              "      <td>0.0</td>\n",
              "      <td>0.0</td>\n",
              "      <td>0.0</td>\n",
              "      <td>0.0</td>\n",
              "      <td>0.145153</td>\n",
              "      <td>0.000000</td>\n",
              "      <td>0.0</td>\n",
              "      <td>0.000000</td>\n",
              "      <td>0.145153</td>\n",
              "      <td>0.0</td>\n",
              "      <td>0.0</td>\n",
              "      <td>0.0</td>\n",
              "      <td>0.0</td>\n",
              "      <td>0.0</td>\n",
              "      <td>0.000000</td>\n",
              "      <td>0.0</td>\n",
              "      <td>0.0</td>\n",
              "      <td>0.0</td>\n",
              "      <td>0.0</td>\n",
              "      <td>0.000000</td>\n",
              "      <td>0.000000</td>\n",
              "      <td>0.0</td>\n",
              "      <td>0.0</td>\n",
              "      <td>0.0</td>\n",
              "      <td>0.0</td>\n",
              "      <td>0.0</td>\n",
              "      <td>0.0</td>\n",
              "      <td>0.0</td>\n",
              "      <td>0.00000</td>\n",
              "      <td>0.0</td>\n",
              "      <td>0.0</td>\n",
              "      <td>0.0</td>\n",
              "      <td>0.000000</td>\n",
              "      <td>0.0</td>\n",
              "      <td>0.0</td>\n",
              "      <td>0.0</td>\n",
              "      <td>0.0</td>\n",
              "      <td>0.0</td>\n",
              "      <td>0.000000</td>\n",
              "      <td>0.0</td>\n",
              "      <td>0.0</td>\n",
              "      <td>0.0</td>\n",
              "      <td>0.0</td>\n",
              "      <td>0.0</td>\n",
              "      <td>0.000000</td>\n",
              "      <td>0.0</td>\n",
              "      <td>0.000000</td>\n",
              "      <td>0.0</td>\n",
              "      <td>0.0</td>\n",
              "      <td>0.0</td>\n",
              "      <td>0.0</td>\n",
              "      <td>0.0</td>\n",
              "      <td>0.0</td>\n",
              "      <td>0.0</td>\n",
              "      <td>0.0</td>\n",
              "      <td>0.0</td>\n",
              "      <td>0.0</td>\n",
              "      <td>0.000000</td>\n",
              "      <td>0.136980</td>\n",
              "      <td>0.00000</td>\n",
              "      <td>0.0</td>\n",
              "      <td>0.0</td>\n",
              "      <td>0.000000</td>\n",
              "      <td>0.0</td>\n",
              "      <td>0.0</td>\n",
              "      <td>0.0</td>\n",
              "      <td>0.0</td>\n",
              "      <td>0.0</td>\n",
              "      <td>0.0</td>\n",
              "      <td>0.0</td>\n",
              "      <td>0.000000</td>\n",
              "      <td>0.0</td>\n",
              "      <td>0.0</td>\n",
              "      <td>0.0</td>\n",
              "      <td>0.0</td>\n",
              "      <td>0.0</td>\n",
              "      <td>0.000000</td>\n",
              "      <td>0.0</td>\n",
              "      <td>0.0</td>\n",
              "      <td>0.000000</td>\n",
              "      <td>0.0</td>\n",
              "      <td>0.0</td>\n",
              "      <td>0.0</td>\n",
              "      <td>0.0</td>\n",
              "      <td>0.0</td>\n",
              "      <td>0.000000</td>\n",
              "      <td>0.0</td>\n",
              "      <td>...</td>\n",
              "      <td>0.0</td>\n",
              "      <td>0.000000</td>\n",
              "      <td>0.0</td>\n",
              "      <td>0.0</td>\n",
              "      <td>0.0</td>\n",
              "      <td>0.0</td>\n",
              "      <td>0.0</td>\n",
              "      <td>0.0</td>\n",
              "      <td>0.0</td>\n",
              "      <td>0.0</td>\n",
              "      <td>0.0</td>\n",
              "      <td>0.0</td>\n",
              "      <td>0.0</td>\n",
              "      <td>0.0</td>\n",
              "      <td>0.000000</td>\n",
              "      <td>0.0</td>\n",
              "      <td>0.0</td>\n",
              "      <td>0.0</td>\n",
              "      <td>0.0</td>\n",
              "      <td>0.0</td>\n",
              "      <td>0.0</td>\n",
              "      <td>0.0</td>\n",
              "      <td>0.0</td>\n",
              "      <td>0.000000</td>\n",
              "      <td>0.060058</td>\n",
              "      <td>0.0</td>\n",
              "      <td>0.0</td>\n",
              "      <td>0.0</td>\n",
              "      <td>0.0</td>\n",
              "      <td>0.0</td>\n",
              "      <td>0.0</td>\n",
              "      <td>0.0</td>\n",
              "      <td>0.0</td>\n",
              "      <td>0.0</td>\n",
              "      <td>0.0</td>\n",
              "      <td>0.0</td>\n",
              "      <td>0.0</td>\n",
              "      <td>0.0</td>\n",
              "      <td>0.0</td>\n",
              "      <td>0.0</td>\n",
              "      <td>0.0</td>\n",
              "      <td>0.0</td>\n",
              "      <td>0.00000</td>\n",
              "      <td>0.000000</td>\n",
              "      <td>0.0</td>\n",
              "      <td>0.0</td>\n",
              "      <td>0.0</td>\n",
              "      <td>0.0</td>\n",
              "      <td>0.0</td>\n",
              "      <td>0.0</td>\n",
              "      <td>0.0</td>\n",
              "      <td>0.0</td>\n",
              "      <td>0.0</td>\n",
              "      <td>0.0</td>\n",
              "      <td>0.0</td>\n",
              "      <td>0.0</td>\n",
              "      <td>0.0</td>\n",
              "      <td>0.0</td>\n",
              "      <td>0.0</td>\n",
              "      <td>0.0</td>\n",
              "      <td>0.0</td>\n",
              "      <td>0.0</td>\n",
              "      <td>0.0</td>\n",
              "      <td>0.000000</td>\n",
              "      <td>0.0</td>\n",
              "      <td>0.0</td>\n",
              "      <td>0.0</td>\n",
              "      <td>0.121416</td>\n",
              "      <td>0.000000</td>\n",
              "      <td>0.0</td>\n",
              "      <td>0.0</td>\n",
              "      <td>0.0</td>\n",
              "      <td>0.0</td>\n",
              "      <td>0.0</td>\n",
              "      <td>0.0</td>\n",
              "      <td>0.0</td>\n",
              "      <td>0.0</td>\n",
              "      <td>0.0</td>\n",
              "      <td>0.0</td>\n",
              "      <td>0.037778</td>\n",
              "      <td>0.0</td>\n",
              "      <td>0.0</td>\n",
              "      <td>0.0</td>\n",
              "      <td>0.0</td>\n",
              "      <td>0.0</td>\n",
              "      <td>0.0</td>\n",
              "      <td>0.293039</td>\n",
              "      <td>0.000000</td>\n",
              "      <td>0.000000</td>\n",
              "      <td>0.131268</td>\n",
              "      <td>0.000000</td>\n",
              "      <td>0.000000</td>\n",
              "      <td>0.000000</td>\n",
              "      <td>0.0</td>\n",
              "      <td>0.000000</td>\n",
              "      <td>0.0</td>\n",
              "      <td>0.107531</td>\n",
              "      <td>0.0</td>\n",
              "      <td>0.0</td>\n",
              "      <td>0.0</td>\n",
              "    </tr>\n",
              "    <tr>\n",
              "      <th>2</th>\n",
              "      <td>0.000000</td>\n",
              "      <td>0.0</td>\n",
              "      <td>0.0</td>\n",
              "      <td>0.0</td>\n",
              "      <td>0.0</td>\n",
              "      <td>0.0</td>\n",
              "      <td>0.0</td>\n",
              "      <td>0.000000</td>\n",
              "      <td>0.152194</td>\n",
              "      <td>0.0</td>\n",
              "      <td>0.0</td>\n",
              "      <td>0.152194</td>\n",
              "      <td>0.0</td>\n",
              "      <td>0.0</td>\n",
              "      <td>0.0</td>\n",
              "      <td>0.0</td>\n",
              "      <td>0.0</td>\n",
              "      <td>0.000000</td>\n",
              "      <td>0.000000</td>\n",
              "      <td>0.0</td>\n",
              "      <td>0.152194</td>\n",
              "      <td>0.000000</td>\n",
              "      <td>0.0</td>\n",
              "      <td>0.0</td>\n",
              "      <td>0.0</td>\n",
              "      <td>0.0</td>\n",
              "      <td>0.0</td>\n",
              "      <td>0.000000</td>\n",
              "      <td>0.0</td>\n",
              "      <td>0.0</td>\n",
              "      <td>0.0</td>\n",
              "      <td>0.0</td>\n",
              "      <td>0.000000</td>\n",
              "      <td>0.137635</td>\n",
              "      <td>0.0</td>\n",
              "      <td>0.0</td>\n",
              "      <td>0.0</td>\n",
              "      <td>0.0</td>\n",
              "      <td>0.0</td>\n",
              "      <td>0.0</td>\n",
              "      <td>0.0</td>\n",
              "      <td>0.00000</td>\n",
              "      <td>0.0</td>\n",
              "      <td>0.0</td>\n",
              "      <td>0.0</td>\n",
              "      <td>0.000000</td>\n",
              "      <td>0.0</td>\n",
              "      <td>0.0</td>\n",
              "      <td>0.0</td>\n",
              "      <td>0.0</td>\n",
              "      <td>0.0</td>\n",
              "      <td>0.107212</td>\n",
              "      <td>0.0</td>\n",
              "      <td>0.0</td>\n",
              "      <td>0.0</td>\n",
              "      <td>0.0</td>\n",
              "      <td>0.0</td>\n",
              "      <td>0.000000</td>\n",
              "      <td>0.0</td>\n",
              "      <td>0.000000</td>\n",
              "      <td>0.0</td>\n",
              "      <td>0.0</td>\n",
              "      <td>0.0</td>\n",
              "      <td>0.0</td>\n",
              "      <td>0.0</td>\n",
              "      <td>0.0</td>\n",
              "      <td>0.0</td>\n",
              "      <td>0.0</td>\n",
              "      <td>0.0</td>\n",
              "      <td>0.0</td>\n",
              "      <td>0.000000</td>\n",
              "      <td>0.287248</td>\n",
              "      <td>0.00000</td>\n",
              "      <td>0.0</td>\n",
              "      <td>0.0</td>\n",
              "      <td>0.000000</td>\n",
              "      <td>0.0</td>\n",
              "      <td>0.0</td>\n",
              "      <td>0.0</td>\n",
              "      <td>0.0</td>\n",
              "      <td>0.0</td>\n",
              "      <td>0.0</td>\n",
              "      <td>0.0</td>\n",
              "      <td>0.000000</td>\n",
              "      <td>0.0</td>\n",
              "      <td>0.0</td>\n",
              "      <td>0.0</td>\n",
              "      <td>0.0</td>\n",
              "      <td>0.0</td>\n",
              "      <td>0.000000</td>\n",
              "      <td>0.0</td>\n",
              "      <td>0.0</td>\n",
              "      <td>0.000000</td>\n",
              "      <td>0.0</td>\n",
              "      <td>0.0</td>\n",
              "      <td>0.0</td>\n",
              "      <td>0.0</td>\n",
              "      <td>0.0</td>\n",
              "      <td>0.137635</td>\n",
              "      <td>0.0</td>\n",
              "      <td>...</td>\n",
              "      <td>0.0</td>\n",
              "      <td>0.152194</td>\n",
              "      <td>0.0</td>\n",
              "      <td>0.0</td>\n",
              "      <td>0.0</td>\n",
              "      <td>0.0</td>\n",
              "      <td>0.0</td>\n",
              "      <td>0.0</td>\n",
              "      <td>0.0</td>\n",
              "      <td>0.0</td>\n",
              "      <td>0.0</td>\n",
              "      <td>0.0</td>\n",
              "      <td>0.0</td>\n",
              "      <td>0.0</td>\n",
              "      <td>0.000000</td>\n",
              "      <td>0.0</td>\n",
              "      <td>0.0</td>\n",
              "      <td>0.0</td>\n",
              "      <td>0.0</td>\n",
              "      <td>0.0</td>\n",
              "      <td>0.0</td>\n",
              "      <td>0.0</td>\n",
              "      <td>0.0</td>\n",
              "      <td>0.000000</td>\n",
              "      <td>0.000000</td>\n",
              "      <td>0.0</td>\n",
              "      <td>0.0</td>\n",
              "      <td>0.0</td>\n",
              "      <td>0.0</td>\n",
              "      <td>0.0</td>\n",
              "      <td>0.0</td>\n",
              "      <td>0.0</td>\n",
              "      <td>0.0</td>\n",
              "      <td>0.0</td>\n",
              "      <td>0.0</td>\n",
              "      <td>0.0</td>\n",
              "      <td>0.0</td>\n",
              "      <td>0.0</td>\n",
              "      <td>0.0</td>\n",
              "      <td>0.0</td>\n",
              "      <td>0.0</td>\n",
              "      <td>0.0</td>\n",
              "      <td>0.00000</td>\n",
              "      <td>0.119294</td>\n",
              "      <td>0.0</td>\n",
              "      <td>0.0</td>\n",
              "      <td>0.0</td>\n",
              "      <td>0.0</td>\n",
              "      <td>0.0</td>\n",
              "      <td>0.0</td>\n",
              "      <td>0.0</td>\n",
              "      <td>0.0</td>\n",
              "      <td>0.0</td>\n",
              "      <td>0.0</td>\n",
              "      <td>0.0</td>\n",
              "      <td>0.0</td>\n",
              "      <td>0.0</td>\n",
              "      <td>0.0</td>\n",
              "      <td>0.0</td>\n",
              "      <td>0.0</td>\n",
              "      <td>0.0</td>\n",
              "      <td>0.0</td>\n",
              "      <td>0.0</td>\n",
              "      <td>0.000000</td>\n",
              "      <td>0.0</td>\n",
              "      <td>0.0</td>\n",
              "      <td>0.0</td>\n",
              "      <td>0.000000</td>\n",
              "      <td>0.000000</td>\n",
              "      <td>0.0</td>\n",
              "      <td>0.0</td>\n",
              "      <td>0.0</td>\n",
              "      <td>0.0</td>\n",
              "      <td>0.0</td>\n",
              "      <td>0.0</td>\n",
              "      <td>0.0</td>\n",
              "      <td>0.0</td>\n",
              "      <td>0.0</td>\n",
              "      <td>0.0</td>\n",
              "      <td>0.118833</td>\n",
              "      <td>0.0</td>\n",
              "      <td>0.0</td>\n",
              "      <td>0.0</td>\n",
              "      <td>0.0</td>\n",
              "      <td>0.0</td>\n",
              "      <td>0.0</td>\n",
              "      <td>0.102418</td>\n",
              "      <td>0.107212</td>\n",
              "      <td>0.000000</td>\n",
              "      <td>0.000000</td>\n",
              "      <td>0.152194</td>\n",
              "      <td>0.000000</td>\n",
              "      <td>0.000000</td>\n",
              "      <td>0.0</td>\n",
              "      <td>0.000000</td>\n",
              "      <td>0.0</td>\n",
              "      <td>0.000000</td>\n",
              "      <td>0.0</td>\n",
              "      <td>0.0</td>\n",
              "      <td>0.0</td>\n",
              "    </tr>\n",
              "    <tr>\n",
              "      <th>3</th>\n",
              "      <td>0.000000</td>\n",
              "      <td>0.0</td>\n",
              "      <td>0.0</td>\n",
              "      <td>0.0</td>\n",
              "      <td>0.0</td>\n",
              "      <td>0.0</td>\n",
              "      <td>0.0</td>\n",
              "      <td>0.000000</td>\n",
              "      <td>0.000000</td>\n",
              "      <td>0.0</td>\n",
              "      <td>0.0</td>\n",
              "      <td>0.000000</td>\n",
              "      <td>0.0</td>\n",
              "      <td>0.0</td>\n",
              "      <td>0.0</td>\n",
              "      <td>0.0</td>\n",
              "      <td>0.0</td>\n",
              "      <td>0.000000</td>\n",
              "      <td>0.151025</td>\n",
              "      <td>0.0</td>\n",
              "      <td>0.000000</td>\n",
              "      <td>0.000000</td>\n",
              "      <td>0.0</td>\n",
              "      <td>0.0</td>\n",
              "      <td>0.0</td>\n",
              "      <td>0.0</td>\n",
              "      <td>0.0</td>\n",
              "      <td>0.000000</td>\n",
              "      <td>0.0</td>\n",
              "      <td>0.0</td>\n",
              "      <td>0.0</td>\n",
              "      <td>0.0</td>\n",
              "      <td>0.000000</td>\n",
              "      <td>0.000000</td>\n",
              "      <td>0.0</td>\n",
              "      <td>0.0</td>\n",
              "      <td>0.0</td>\n",
              "      <td>0.0</td>\n",
              "      <td>0.0</td>\n",
              "      <td>0.0</td>\n",
              "      <td>0.0</td>\n",
              "      <td>0.00000</td>\n",
              "      <td>0.0</td>\n",
              "      <td>0.0</td>\n",
              "      <td>0.0</td>\n",
              "      <td>0.126328</td>\n",
              "      <td>0.0</td>\n",
              "      <td>0.0</td>\n",
              "      <td>0.0</td>\n",
              "      <td>0.0</td>\n",
              "      <td>0.0</td>\n",
              "      <td>0.000000</td>\n",
              "      <td>0.0</td>\n",
              "      <td>0.0</td>\n",
              "      <td>0.0</td>\n",
              "      <td>0.0</td>\n",
              "      <td>0.0</td>\n",
              "      <td>0.000000</td>\n",
              "      <td>0.0</td>\n",
              "      <td>0.111881</td>\n",
              "      <td>0.0</td>\n",
              "      <td>0.0</td>\n",
              "      <td>0.0</td>\n",
              "      <td>0.0</td>\n",
              "      <td>0.0</td>\n",
              "      <td>0.0</td>\n",
              "      <td>0.0</td>\n",
              "      <td>0.0</td>\n",
              "      <td>0.0</td>\n",
              "      <td>0.0</td>\n",
              "      <td>0.000000</td>\n",
              "      <td>0.106890</td>\n",
              "      <td>0.00000</td>\n",
              "      <td>0.0</td>\n",
              "      <td>0.0</td>\n",
              "      <td>0.000000</td>\n",
              "      <td>0.0</td>\n",
              "      <td>0.0</td>\n",
              "      <td>0.0</td>\n",
              "      <td>0.0</td>\n",
              "      <td>0.0</td>\n",
              "      <td>0.0</td>\n",
              "      <td>0.0</td>\n",
              "      <td>0.000000</td>\n",
              "      <td>0.0</td>\n",
              "      <td>0.0</td>\n",
              "      <td>0.0</td>\n",
              "      <td>0.0</td>\n",
              "      <td>0.0</td>\n",
              "      <td>0.151025</td>\n",
              "      <td>0.0</td>\n",
              "      <td>0.0</td>\n",
              "      <td>0.000000</td>\n",
              "      <td>0.0</td>\n",
              "      <td>0.0</td>\n",
              "      <td>0.0</td>\n",
              "      <td>0.0</td>\n",
              "      <td>0.0</td>\n",
              "      <td>0.000000</td>\n",
              "      <td>0.0</td>\n",
              "      <td>...</td>\n",
              "      <td>0.0</td>\n",
              "      <td>0.000000</td>\n",
              "      <td>0.0</td>\n",
              "      <td>0.0</td>\n",
              "      <td>0.0</td>\n",
              "      <td>0.0</td>\n",
              "      <td>0.0</td>\n",
              "      <td>0.0</td>\n",
              "      <td>0.0</td>\n",
              "      <td>0.0</td>\n",
              "      <td>0.0</td>\n",
              "      <td>0.0</td>\n",
              "      <td>0.0</td>\n",
              "      <td>0.0</td>\n",
              "      <td>0.000000</td>\n",
              "      <td>0.0</td>\n",
              "      <td>0.0</td>\n",
              "      <td>0.0</td>\n",
              "      <td>0.0</td>\n",
              "      <td>0.0</td>\n",
              "      <td>0.0</td>\n",
              "      <td>0.0</td>\n",
              "      <td>0.0</td>\n",
              "      <td>0.000000</td>\n",
              "      <td>0.000000</td>\n",
              "      <td>0.0</td>\n",
              "      <td>0.0</td>\n",
              "      <td>0.0</td>\n",
              "      <td>0.0</td>\n",
              "      <td>0.0</td>\n",
              "      <td>0.0</td>\n",
              "      <td>0.0</td>\n",
              "      <td>0.0</td>\n",
              "      <td>0.0</td>\n",
              "      <td>0.0</td>\n",
              "      <td>0.0</td>\n",
              "      <td>0.0</td>\n",
              "      <td>0.0</td>\n",
              "      <td>0.0</td>\n",
              "      <td>0.0</td>\n",
              "      <td>0.0</td>\n",
              "      <td>0.0</td>\n",
              "      <td>0.00000</td>\n",
              "      <td>0.000000</td>\n",
              "      <td>0.0</td>\n",
              "      <td>0.0</td>\n",
              "      <td>0.0</td>\n",
              "      <td>0.0</td>\n",
              "      <td>0.0</td>\n",
              "      <td>0.0</td>\n",
              "      <td>0.0</td>\n",
              "      <td>0.0</td>\n",
              "      <td>0.0</td>\n",
              "      <td>0.0</td>\n",
              "      <td>0.0</td>\n",
              "      <td>0.0</td>\n",
              "      <td>0.0</td>\n",
              "      <td>0.0</td>\n",
              "      <td>0.0</td>\n",
              "      <td>0.0</td>\n",
              "      <td>0.0</td>\n",
              "      <td>0.0</td>\n",
              "      <td>0.0</td>\n",
              "      <td>0.000000</td>\n",
              "      <td>0.0</td>\n",
              "      <td>0.0</td>\n",
              "      <td>0.0</td>\n",
              "      <td>0.000000</td>\n",
              "      <td>0.153868</td>\n",
              "      <td>0.0</td>\n",
              "      <td>0.0</td>\n",
              "      <td>0.0</td>\n",
              "      <td>0.0</td>\n",
              "      <td>0.0</td>\n",
              "      <td>0.0</td>\n",
              "      <td>0.0</td>\n",
              "      <td>0.0</td>\n",
              "      <td>0.0</td>\n",
              "      <td>0.0</td>\n",
              "      <td>0.000000</td>\n",
              "      <td>0.0</td>\n",
              "      <td>0.0</td>\n",
              "      <td>0.0</td>\n",
              "      <td>0.0</td>\n",
              "      <td>0.0</td>\n",
              "      <td>0.0</td>\n",
              "      <td>0.000000</td>\n",
              "      <td>0.000000</td>\n",
              "      <td>0.151025</td>\n",
              "      <td>0.000000</td>\n",
              "      <td>0.000000</td>\n",
              "      <td>0.111881</td>\n",
              "      <td>0.000000</td>\n",
              "      <td>0.0</td>\n",
              "      <td>0.000000</td>\n",
              "      <td>0.0</td>\n",
              "      <td>0.000000</td>\n",
              "      <td>0.0</td>\n",
              "      <td>0.0</td>\n",
              "      <td>0.0</td>\n",
              "    </tr>\n",
              "    <tr>\n",
              "      <th>4</th>\n",
              "      <td>0.000000</td>\n",
              "      <td>0.0</td>\n",
              "      <td>0.0</td>\n",
              "      <td>0.0</td>\n",
              "      <td>0.0</td>\n",
              "      <td>0.0</td>\n",
              "      <td>0.0</td>\n",
              "      <td>0.000000</td>\n",
              "      <td>0.000000</td>\n",
              "      <td>0.0</td>\n",
              "      <td>0.0</td>\n",
              "      <td>0.000000</td>\n",
              "      <td>0.0</td>\n",
              "      <td>0.0</td>\n",
              "      <td>0.0</td>\n",
              "      <td>0.0</td>\n",
              "      <td>0.0</td>\n",
              "      <td>0.000000</td>\n",
              "      <td>0.000000</td>\n",
              "      <td>0.0</td>\n",
              "      <td>0.000000</td>\n",
              "      <td>0.000000</td>\n",
              "      <td>0.0</td>\n",
              "      <td>0.0</td>\n",
              "      <td>0.0</td>\n",
              "      <td>0.0</td>\n",
              "      <td>0.0</td>\n",
              "      <td>0.117329</td>\n",
              "      <td>0.0</td>\n",
              "      <td>0.0</td>\n",
              "      <td>0.0</td>\n",
              "      <td>0.0</td>\n",
              "      <td>0.000000</td>\n",
              "      <td>0.000000</td>\n",
              "      <td>0.0</td>\n",
              "      <td>0.0</td>\n",
              "      <td>0.0</td>\n",
              "      <td>0.0</td>\n",
              "      <td>0.0</td>\n",
              "      <td>0.0</td>\n",
              "      <td>0.0</td>\n",
              "      <td>0.12974</td>\n",
              "      <td>0.0</td>\n",
              "      <td>0.0</td>\n",
              "      <td>0.0</td>\n",
              "      <td>0.000000</td>\n",
              "      <td>0.0</td>\n",
              "      <td>0.0</td>\n",
              "      <td>0.0</td>\n",
              "      <td>0.0</td>\n",
              "      <td>0.0</td>\n",
              "      <td>0.000000</td>\n",
              "      <td>0.0</td>\n",
              "      <td>0.0</td>\n",
              "      <td>0.0</td>\n",
              "      <td>0.0</td>\n",
              "      <td>0.0</td>\n",
              "      <td>0.000000</td>\n",
              "      <td>0.0</td>\n",
              "      <td>0.000000</td>\n",
              "      <td>0.0</td>\n",
              "      <td>0.0</td>\n",
              "      <td>0.0</td>\n",
              "      <td>0.0</td>\n",
              "      <td>0.0</td>\n",
              "      <td>0.0</td>\n",
              "      <td>0.0</td>\n",
              "      <td>0.0</td>\n",
              "      <td>0.0</td>\n",
              "      <td>0.0</td>\n",
              "      <td>0.000000</td>\n",
              "      <td>0.153043</td>\n",
              "      <td>0.12974</td>\n",
              "      <td>0.0</td>\n",
              "      <td>0.0</td>\n",
              "      <td>0.108524</td>\n",
              "      <td>0.0</td>\n",
              "      <td>0.0</td>\n",
              "      <td>0.0</td>\n",
              "      <td>0.0</td>\n",
              "      <td>0.0</td>\n",
              "      <td>0.0</td>\n",
              "      <td>0.0</td>\n",
              "      <td>0.108524</td>\n",
              "      <td>0.0</td>\n",
              "      <td>0.0</td>\n",
              "      <td>0.0</td>\n",
              "      <td>0.0</td>\n",
              "      <td>0.0</td>\n",
              "      <td>0.000000</td>\n",
              "      <td>0.0</td>\n",
              "      <td>0.0</td>\n",
              "      <td>0.000000</td>\n",
              "      <td>0.0</td>\n",
              "      <td>0.0</td>\n",
              "      <td>0.0</td>\n",
              "      <td>0.0</td>\n",
              "      <td>0.0</td>\n",
              "      <td>0.000000</td>\n",
              "      <td>0.0</td>\n",
              "      <td>...</td>\n",
              "      <td>0.0</td>\n",
              "      <td>0.000000</td>\n",
              "      <td>0.0</td>\n",
              "      <td>0.0</td>\n",
              "      <td>0.0</td>\n",
              "      <td>0.0</td>\n",
              "      <td>0.0</td>\n",
              "      <td>0.0</td>\n",
              "      <td>0.0</td>\n",
              "      <td>0.0</td>\n",
              "      <td>0.0</td>\n",
              "      <td>0.0</td>\n",
              "      <td>0.0</td>\n",
              "      <td>0.0</td>\n",
              "      <td>0.000000</td>\n",
              "      <td>0.0</td>\n",
              "      <td>0.0</td>\n",
              "      <td>0.0</td>\n",
              "      <td>0.0</td>\n",
              "      <td>0.0</td>\n",
              "      <td>0.0</td>\n",
              "      <td>0.0</td>\n",
              "      <td>0.0</td>\n",
              "      <td>0.000000</td>\n",
              "      <td>0.000000</td>\n",
              "      <td>0.0</td>\n",
              "      <td>0.0</td>\n",
              "      <td>0.0</td>\n",
              "      <td>0.0</td>\n",
              "      <td>0.0</td>\n",
              "      <td>0.0</td>\n",
              "      <td>0.0</td>\n",
              "      <td>0.0</td>\n",
              "      <td>0.0</td>\n",
              "      <td>0.0</td>\n",
              "      <td>0.0</td>\n",
              "      <td>0.0</td>\n",
              "      <td>0.0</td>\n",
              "      <td>0.0</td>\n",
              "      <td>0.0</td>\n",
              "      <td>0.0</td>\n",
              "      <td>0.0</td>\n",
              "      <td>0.12974</td>\n",
              "      <td>0.000000</td>\n",
              "      <td>0.0</td>\n",
              "      <td>0.0</td>\n",
              "      <td>0.0</td>\n",
              "      <td>0.0</td>\n",
              "      <td>0.0</td>\n",
              "      <td>0.0</td>\n",
              "      <td>0.0</td>\n",
              "      <td>0.0</td>\n",
              "      <td>0.0</td>\n",
              "      <td>0.0</td>\n",
              "      <td>0.0</td>\n",
              "      <td>0.0</td>\n",
              "      <td>0.0</td>\n",
              "      <td>0.0</td>\n",
              "      <td>0.0</td>\n",
              "      <td>0.0</td>\n",
              "      <td>0.0</td>\n",
              "      <td>0.0</td>\n",
              "      <td>0.0</td>\n",
              "      <td>0.080477</td>\n",
              "      <td>0.0</td>\n",
              "      <td>0.0</td>\n",
              "      <td>0.0</td>\n",
              "      <td>0.108524</td>\n",
              "      <td>0.000000</td>\n",
              "      <td>0.0</td>\n",
              "      <td>0.0</td>\n",
              "      <td>0.0</td>\n",
              "      <td>0.0</td>\n",
              "      <td>0.0</td>\n",
              "      <td>0.0</td>\n",
              "      <td>0.0</td>\n",
              "      <td>0.0</td>\n",
              "      <td>0.0</td>\n",
              "      <td>0.0</td>\n",
              "      <td>0.067534</td>\n",
              "      <td>0.0</td>\n",
              "      <td>0.0</td>\n",
              "      <td>0.0</td>\n",
              "      <td>0.0</td>\n",
              "      <td>0.0</td>\n",
              "      <td>0.0</td>\n",
              "      <td>0.000000</td>\n",
              "      <td>0.091395</td>\n",
              "      <td>0.000000</td>\n",
              "      <td>0.000000</td>\n",
              "      <td>0.000000</td>\n",
              "      <td>0.000000</td>\n",
              "      <td>0.325571</td>\n",
              "      <td>0.0</td>\n",
              "      <td>0.108524</td>\n",
              "      <td>0.0</td>\n",
              "      <td>0.096113</td>\n",
              "      <td>0.0</td>\n",
              "      <td>0.0</td>\n",
              "      <td>0.0</td>\n",
              "    </tr>\n",
              "  </tbody>\n",
              "</table>\n",
              "<p>5 rows × 1252 columns</p>\n",
              "</div>"
            ],
            "text/plain": [
              "         10  100   12  120  131   16  176        18        19  1972  1974  \\\n",
              "0  0.144304  0.0  0.0  0.0  0.0  0.0  0.0  0.125074  0.000000   0.0   0.0   \n",
              "1  0.000000  0.0  0.0  0.0  0.0  0.0  0.0  0.113775  0.000000   0.0   0.0   \n",
              "2  0.000000  0.0  0.0  0.0  0.0  0.0  0.0  0.000000  0.152194   0.0   0.0   \n",
              "3  0.000000  0.0  0.0  0.0  0.0  0.0  0.0  0.000000  0.000000   0.0   0.0   \n",
              "4  0.000000  0.0  0.0  0.0  0.0  0.0  0.0  0.000000  0.000000   0.0   0.0   \n",
              "\n",
              "       1996  1997   20  2003  2007   21        25        26  263       288  \\\n",
              "0  0.000000   0.0  0.0   0.0   0.0  0.0  0.000000  0.000000  0.0  0.000000   \n",
              "1  0.000000   0.0  0.0   0.0   0.0  0.0  0.145153  0.000000  0.0  0.000000   \n",
              "2  0.152194   0.0  0.0   0.0   0.0  0.0  0.000000  0.000000  0.0  0.152194   \n",
              "3  0.000000   0.0  0.0   0.0   0.0  0.0  0.000000  0.151025  0.0  0.000000   \n",
              "4  0.000000   0.0  0.0   0.0   0.0  0.0  0.000000  0.000000  0.0  0.000000   \n",
              "\n",
              "         30   33  3524  375  375ml   39        46   55   60   69   70  \\\n",
              "0  0.000000  0.0   0.0  0.0    0.0  0.0  0.000000  0.0  0.0  0.0  0.0   \n",
              "1  0.145153  0.0   0.0  0.0    0.0  0.0  0.000000  0.0  0.0  0.0  0.0   \n",
              "2  0.000000  0.0   0.0  0.0    0.0  0.0  0.000000  0.0  0.0  0.0  0.0   \n",
              "3  0.000000  0.0   0.0  0.0    0.0  0.0  0.000000  0.0  0.0  0.0  0.0   \n",
              "4  0.000000  0.0   0.0  0.0    0.0  0.0  0.117329  0.0  0.0  0.0  0.0   \n",
              "\n",
              "         72        80  80s   85   89   90   93  about  above      abv  \\\n",
              "0  0.159568  0.000000  0.0  0.0  0.0  0.0  0.0    0.0    0.0  0.00000   \n",
              "1  0.000000  0.000000  0.0  0.0  0.0  0.0  0.0    0.0    0.0  0.00000   \n",
              "2  0.000000  0.137635  0.0  0.0  0.0  0.0  0.0    0.0    0.0  0.00000   \n",
              "3  0.000000  0.000000  0.0  0.0  0.0  0.0  0.0    0.0    0.0  0.00000   \n",
              "4  0.000000  0.000000  0.0  0.0  0.0  0.0  0.0    0.0    0.0  0.12974   \n",
              "\n",
              "   accented  acceptable  according       add  added  addition  additional  \\\n",
              "0       0.0         0.0        0.0  0.000000    0.0       0.0         0.0   \n",
              "1       0.0         0.0        0.0  0.000000    0.0       0.0         0.0   \n",
              "2       0.0         0.0        0.0  0.000000    0.0       0.0         0.0   \n",
              "3       0.0         0.0        0.0  0.126328    0.0       0.0         0.0   \n",
              "4       0.0         0.0        0.0  0.000000    0.0       0.0         0.0   \n",
              "\n",
              "   after  again       age  aged  aging  airiness  akin  alberta   alcohol  \\\n",
              "0    0.0    0.0  0.000000   0.0    0.0       0.0   0.0      0.0  0.159568   \n",
              "1    0.0    0.0  0.000000   0.0    0.0       0.0   0.0      0.0  0.000000   \n",
              "2    0.0    0.0  0.107212   0.0    0.0       0.0   0.0      0.0  0.000000   \n",
              "3    0.0    0.0  0.000000   0.0    0.0       0.0   0.0      0.0  0.000000   \n",
              "4    0.0    0.0  0.000000   0.0    0.0       0.0   0.0      0.0  0.000000   \n",
              "\n",
              "   ale       all  allspice  almonds  almost  along  alongside  also  amazing  \\\n",
              "0  0.0  0.000000       0.0      0.0     0.0    0.0        0.0   0.0      0.0   \n",
              "1  0.0  0.000000       0.0      0.0     0.0    0.0        0.0   0.0      0.0   \n",
              "2  0.0  0.000000       0.0      0.0     0.0    0.0        0.0   0.0      0.0   \n",
              "3  0.0  0.111881       0.0      0.0     0.0    0.0        0.0   0.0      0.0   \n",
              "4  0.0  0.000000       0.0      0.0     0.0    0.0        0.0   0.0      0.0   \n",
              "\n",
              "   amber  american  amounts        an       and    anise  aniseed  annual  \\\n",
              "0    0.0       0.0      0.0  0.092116  0.112937  0.00000      0.0     0.0   \n",
              "1    0.0       0.0      0.0  0.000000  0.136980  0.00000      0.0     0.0   \n",
              "2    0.0       0.0      0.0  0.000000  0.287248  0.00000      0.0     0.0   \n",
              "3    0.0       0.0      0.0  0.000000  0.106890  0.00000      0.0     0.0   \n",
              "4    0.0       0.0      0.0  0.000000  0.153043  0.12974      0.0     0.0   \n",
              "\n",
              "    another  anti  antique  any  anyone  apart  apparent  appearing     apple  \\\n",
              "0  0.000000   0.0      0.0  0.0     0.0    0.0       0.0        0.0  0.000000   \n",
              "1  0.000000   0.0      0.0  0.0     0.0    0.0       0.0        0.0  0.000000   \n",
              "2  0.000000   0.0      0.0  0.0     0.0    0.0       0.0        0.0  0.000000   \n",
              "3  0.000000   0.0      0.0  0.0     0.0    0.0       0.0        0.0  0.000000   \n",
              "4  0.108524   0.0      0.0  0.0     0.0    0.0       0.0        0.0  0.108524   \n",
              "\n",
              "   apples  applewood  approach  approachable  apricot  archetypal  arcs  \\\n",
              "0     0.0        0.0       0.0           0.0      0.0    0.000000   0.0   \n",
              "1     0.0        0.0       0.0           0.0      0.0    0.000000   0.0   \n",
              "2     0.0        0.0       0.0           0.0      0.0    0.000000   0.0   \n",
              "3     0.0        0.0       0.0           0.0      0.0    0.151025   0.0   \n",
              "4     0.0        0.0       0.0           0.0      0.0    0.000000   0.0   \n",
              "\n",
              "   ardbeg       are  armchair  aroma  aromas  aromatic  around     arran  art  \\\n",
              "0     0.0  0.095392       0.0    0.0     0.0       0.0     0.0  0.000000  0.0   \n",
              "1     0.0  0.000000       0.0    0.0     0.0       0.0     0.0  0.000000  0.0   \n",
              "2     0.0  0.000000       0.0    0.0     0.0       0.0     0.0  0.137635  0.0   \n",
              "3     0.0  0.000000       0.0    0.0     0.0       0.0     0.0  0.000000  0.0   \n",
              "4     0.0  0.000000       0.0    0.0     0.0       0.0     0.0  0.000000  0.0   \n",
              "\n",
              "   ...   uk  ultimately  ultra  underfoot  underlying  understated  \\\n",
              "0  ...  0.0    0.000000    0.0        0.0         0.0          0.0   \n",
              "1  ...  0.0    0.000000    0.0        0.0         0.0          0.0   \n",
              "2  ...  0.0    0.152194    0.0        0.0         0.0          0.0   \n",
              "3  ...  0.0    0.000000    0.0        0.0         0.0          0.0   \n",
              "4  ...  0.0    0.000000    0.0        0.0         0.0          0.0   \n",
              "\n",
              "   understatement  unlike  unpeated  unsalted  unseeded  until  unusual  \\\n",
              "0             0.0     0.0       0.0       0.0       0.0    0.0      0.0   \n",
              "1             0.0     0.0       0.0       0.0       0.0    0.0      0.0   \n",
              "2             0.0     0.0       0.0       0.0       0.0    0.0      0.0   \n",
              "3             0.0     0.0       0.0       0.0       0.0    0.0      0.0   \n",
              "4             0.0     0.0       0.0       0.0       0.0    0.0      0.0   \n",
              "\n",
              "   unusually  unwanted   up   us  use  used  vague  valhalla  validates  \\\n",
              "0        0.0  0.159568  0.0  0.0  0.0   0.0    0.0       0.0        0.0   \n",
              "1        0.0  0.000000  0.0  0.0  0.0   0.0    0.0       0.0        0.0   \n",
              "2        0.0  0.000000  0.0  0.0  0.0   0.0    0.0       0.0        0.0   \n",
              "3        0.0  0.000000  0.0  0.0  0.0   0.0    0.0       0.0        0.0   \n",
              "4        0.0  0.000000  0.0  0.0  0.0   0.0    0.0       0.0        0.0   \n",
              "\n",
              "   valley     value   vanilla  variant  variants  varnish  veritable  version  \\\n",
              "0     0.0  0.144304  0.066022      0.0       0.0      0.0        0.0      0.0   \n",
              "1     0.0  0.000000  0.060058      0.0       0.0      0.0        0.0      0.0   \n",
              "2     0.0  0.000000  0.000000      0.0       0.0      0.0        0.0      0.0   \n",
              "3     0.0  0.000000  0.000000      0.0       0.0      0.0        0.0      0.0   \n",
              "4     0.0  0.000000  0.000000      0.0       0.0      0.0        0.0      0.0   \n",
              "\n",
              "   very  vetiver  vibrancy  vin  vineyard  vintage  viscous  vol  wafer  \\\n",
              "0   0.0      0.0       0.0  0.0       0.0      0.0      0.0  0.0    0.0   \n",
              "1   0.0      0.0       0.0  0.0       0.0      0.0      0.0  0.0    0.0   \n",
              "2   0.0      0.0       0.0  0.0       0.0      0.0      0.0  0.0    0.0   \n",
              "3   0.0      0.0       0.0  0.0       0.0      0.0      0.0  0.0    0.0   \n",
              "4   0.0      0.0       0.0  0.0       0.0      0.0      0.0  0.0    0.0   \n",
              "\n",
              "   walls  want  warm  warming       was  washed  watching  water  watering  \\\n",
              "0    0.0   0.0   0.0  0.00000  0.000000     0.0       0.0    0.0       0.0   \n",
              "1    0.0   0.0   0.0  0.00000  0.000000     0.0       0.0    0.0       0.0   \n",
              "2    0.0   0.0   0.0  0.00000  0.119294     0.0       0.0    0.0       0.0   \n",
              "3    0.0   0.0   0.0  0.00000  0.000000     0.0       0.0    0.0       0.0   \n",
              "4    0.0   0.0   0.0  0.12974  0.000000     0.0       0.0    0.0       0.0   \n",
              "\n",
              "   waxed  way   we  weight  weighty  welcome  well  were  werther  west  what  \\\n",
              "0    0.0  0.0  0.0     0.0      0.0      0.0   0.0   0.0      0.0   0.0   0.0   \n",
              "1    0.0  0.0  0.0     0.0      0.0      0.0   0.0   0.0      0.0   0.0   0.0   \n",
              "2    0.0  0.0  0.0     0.0      0.0      0.0   0.0   0.0      0.0   0.0   0.0   \n",
              "3    0.0  0.0  0.0     0.0      0.0      0.0   0.0   0.0      0.0   0.0   0.0   \n",
              "4    0.0  0.0  0.0     0.0      0.0      0.0   0.0   0.0      0.0   0.0   0.0   \n",
              "\n",
              "   wheat  when  where  whereas     which  whiff  while  whiskey  whiskies  \\\n",
              "0    0.0   0.0    0.0      0.0  0.000000    0.0    0.0      0.0  0.000000   \n",
              "1    0.0   0.0    0.0      0.0  0.000000    0.0    0.0      0.0  0.121416   \n",
              "2    0.0   0.0    0.0      0.0  0.000000    0.0    0.0      0.0  0.000000   \n",
              "3    0.0   0.0    0.0      0.0  0.000000    0.0    0.0      0.0  0.000000   \n",
              "4    0.0   0.0    0.0      0.0  0.080477    0.0    0.0      0.0  0.108524   \n",
              "\n",
              "     whisky  white  whittled  whole  wholly  whose  will  willie  wine  wisp  \\\n",
              "0  0.000000    0.0       0.0    0.0     0.0    0.0   0.0     0.0   0.0   0.0   \n",
              "1  0.000000    0.0       0.0    0.0     0.0    0.0   0.0     0.0   0.0   0.0   \n",
              "2  0.000000    0.0       0.0    0.0     0.0    0.0   0.0     0.0   0.0   0.0   \n",
              "3  0.153868    0.0       0.0    0.0     0.0    0.0   0.0     0.0   0.0   0.0   \n",
              "4  0.000000    0.0       0.0    0.0     0.0    0.0   0.0     0.0   0.0   0.0   \n",
              "\n",
              "   wisps      with  wonderful  wood  woodpile  work  worthwhile  would  \\\n",
              "0    0.0  0.124590        0.0   0.0       0.0   0.0         0.0    0.0   \n",
              "1    0.0  0.037778        0.0   0.0       0.0   0.0         0.0    0.0   \n",
              "2    0.0  0.118833        0.0   0.0       0.0   0.0         0.0    0.0   \n",
              "3    0.0  0.000000        0.0   0.0       0.0   0.0         0.0    0.0   \n",
              "4    0.0  0.067534        0.0   0.0       0.0   0.0         0.0    0.0   \n",
              "\n",
              "       year     years       yes       yet   yielded       you     young  \\\n",
              "0  0.000000  0.000000  0.000000  0.000000  0.000000  0.000000  0.000000   \n",
              "1  0.293039  0.000000  0.000000  0.131268  0.000000  0.000000  0.000000   \n",
              "2  0.102418  0.107212  0.000000  0.000000  0.152194  0.000000  0.000000   \n",
              "3  0.000000  0.000000  0.151025  0.000000  0.000000  0.111881  0.000000   \n",
              "4  0.000000  0.091395  0.000000  0.000000  0.000000  0.000000  0.325571   \n",
              "\n",
              "   younger      your  youth  youthful  zest  zesty  zing  \n",
              "0      0.0  0.000000    0.0  0.000000   0.0    0.0   0.0  \n",
              "1      0.0  0.000000    0.0  0.107531   0.0    0.0   0.0  \n",
              "2      0.0  0.000000    0.0  0.000000   0.0    0.0   0.0  \n",
              "3      0.0  0.000000    0.0  0.000000   0.0    0.0   0.0  \n",
              "4      0.0  0.108524    0.0  0.096113   0.0    0.0   0.0  \n",
              "\n",
              "[5 rows x 1252 columns]"
            ]
          },
          "metadata": {
            "tags": []
          },
          "execution_count": 59
        }
      ]
    },
    {
      "cell_type": "markdown",
      "metadata": {
        "id": "ZayaxKZxQLw3",
        "colab_type": "text"
      },
      "source": [
        "#### Load Model"
      ]
    },
    {
      "cell_type": "code",
      "metadata": {
        "ExecuteTime": {
          "end_time": "2019-10-04T07:59:13.823920Z",
          "start_time": "2019-10-04T07:59:13.623412Z"
        },
        "id": "usTO8M_WQLw4",
        "colab_type": "code",
        "colab": {}
      },
      "source": [
        "grid_search6 = load_model('TFIDF_W_STOPWORDS_SVD_SGDC')"
      ],
      "execution_count": 0,
      "outputs": []
    },
    {
      "cell_type": "code",
      "metadata": {
        "ExecuteTime": {
          "end_time": "2019-10-04T07:59:15.635338Z",
          "start_time": "2019-10-04T07:59:15.631847Z"
        },
        "id": "WtXDzXvrQLw6",
        "colab_type": "code",
        "colab": {}
      },
      "source": [
        "# vect = TfidfVectorizer()\n",
        "\n",
        "# svd = TruncatedSVD(algorithm='randomized')\n",
        "\n",
        "# sgdc = SGDClassifier(early_stopping=True)\n",
        "\n",
        "# pipe6 = Pipeline([('vect', vect), ('svd', svd), ('sgdc', sgdc)])\n",
        "\n",
        "# parameters6 = { \n",
        "#     'svd__n_iter': (5, 10, 15, 20),\n",
        "#     'svd__n_components': (100, 300, 500, 1000),\n",
        "#     'sgdc__max_iter': (1000,),\n",
        "# }\n",
        "\n",
        "# grid_search6 = GridSearchCV(pipe6, parameters6, cv=5, n_jobs=-1, verbose=10)\n",
        "# start_time = timer(None)\n",
        "# grid_search6.fit(train['description'], train['category'])\n",
        "# timer(start_time)"
      ],
      "execution_count": 0,
      "outputs": []
    },
    {
      "cell_type": "code",
      "metadata": {
        "ExecuteTime": {
          "end_time": "2019-10-04T07:59:15.940330Z",
          "start_time": "2019-10-04T07:59:15.933877Z"
        },
        "id": "GPMt7capQLw7",
        "colab_type": "code",
        "outputId": "15188d29-5415-49e9-ee51-d427cdb4deeb",
        "colab": {}
      },
      "source": [
        "grid_search6.best_estimator_"
      ],
      "execution_count": 0,
      "outputs": [
        {
          "output_type": "execute_result",
          "data": {
            "text/plain": [
              "Pipeline(memory=None,\n",
              "     steps=[('vect', TfidfVectorizer(analyzer='word', binary=False, decode_error='strict',\n",
              "        dtype=<class 'numpy.float64'>, encoding='utf-8', input='content',\n",
              "        lowercase=True, max_df=1.0, max_features=None, min_df=1,\n",
              "        ngram_range=(1, 1), norm='l2', preprocessor=None, smooth_idf=True,\n",
              "...m_state=None, shuffle=True, tol=None,\n",
              "       validation_fraction=0.1, verbose=0, warm_start=False))])"
            ]
          },
          "metadata": {
            "tags": []
          },
          "execution_count": 62
        }
      ]
    },
    {
      "cell_type": "code",
      "metadata": {
        "ExecuteTime": {
          "end_time": "2019-10-04T07:59:16.246466Z",
          "start_time": "2019-10-04T07:59:16.232108Z"
        },
        "id": "CK8VvRFQQLw8",
        "colab_type": "code",
        "outputId": "70429620-1a4a-4583-b72d-41390be43e43",
        "colab": {}
      },
      "source": [
        "grid_search6.best_params_"
      ],
      "execution_count": 0,
      "outputs": [
        {
          "output_type": "execute_result",
          "data": {
            "text/plain": [
              "{'sgdc__max_iter': 1000, 'svd__n_components': 500, 'svd__n_iter': 10}"
            ]
          },
          "metadata": {
            "tags": []
          },
          "execution_count": 63
        }
      ]
    },
    {
      "cell_type": "code",
      "metadata": {
        "ExecuteTime": {
          "end_time": "2019-10-04T07:59:16.597348Z",
          "start_time": "2019-10-04T07:59:16.593496Z"
        },
        "id": "as0YkEzpQLw9",
        "colab_type": "code",
        "outputId": "8f530f79-d225-4244-b598-28b19cd900ae",
        "colab": {}
      },
      "source": [
        "grid_search6.best_score_"
      ],
      "execution_count": 0,
      "outputs": [
        {
          "output_type": "execute_result",
          "data": {
            "text/plain": [
              "0.934261407579273"
            ]
          },
          "metadata": {
            "tags": []
          },
          "execution_count": 64
        }
      ]
    },
    {
      "cell_type": "markdown",
      "metadata": {
        "id": "OgOl9tkLQLw-",
        "colab_type": "text"
      },
      "source": [
        "#### Save submission"
      ]
    },
    {
      "cell_type": "code",
      "metadata": {
        "ExecuteTime": {
          "end_time": "2019-10-04T07:59:19.664516Z",
          "start_time": "2019-10-04T07:59:19.661859Z"
        },
        "id": "yyJtWb5eQLw_",
        "colab_type": "code",
        "colab": {}
      },
      "source": [
        "# submission(grid_search6, 'TFIDF_W_STOPWORDS_SVD_SGDC')"
      ],
      "execution_count": 0,
      "outputs": []
    },
    {
      "cell_type": "markdown",
      "metadata": {
        "id": "fdGMEtQzQLxA",
        "colab_type": "text"
      },
      "source": [
        "#### Pickle Model 🥒"
      ]
    },
    {
      "cell_type": "code",
      "metadata": {
        "ExecuteTime": {
          "end_time": "2019-10-04T07:59:20.552556Z",
          "start_time": "2019-10-04T07:59:20.549844Z"
        },
        "id": "yQO-gS3YQLxA",
        "colab_type": "code",
        "colab": {}
      },
      "source": [
        "# pickle_model(grid_search6, 'TFIDF_W_STOPWORDS_SVD_SGDC')"
      ],
      "execution_count": 0,
      "outputs": []
    },
    {
      "cell_type": "markdown",
      "metadata": {
        "id": "i07rWUjjQLxC",
        "colab_type": "text"
      },
      "source": [
        "### TFIDF W/ STOPWORDS + SVD + SGDC OPTIMIZED"
      ]
    },
    {
      "cell_type": "code",
      "metadata": {
        "ExecuteTime": {
          "end_time": "2019-10-04T08:01:10.142224Z",
          "start_time": "2019-10-04T08:01:09.946867Z"
        },
        "id": "RVbXn3vGQLxD",
        "colab_type": "code",
        "colab": {}
      },
      "source": [
        "grid_search7 = load_model('TFIDF_W_STOPWORDS_SVD_SGDC_OPTIMIZED')"
      ],
      "execution_count": 0,
      "outputs": []
    },
    {
      "cell_type": "code",
      "metadata": {
        "ExecuteTime": {
          "end_time": "2019-10-04T08:01:13.353449Z",
          "start_time": "2019-10-04T08:01:13.350250Z"
        },
        "id": "cwJ5GXrjQLxE",
        "colab_type": "code",
        "colab": {}
      },
      "source": [
        "# vect = TfidfVectorizer()\n",
        "\n",
        "# svd = TruncatedSVD(algorithm='randomized', n_iter=15, n_components=1000)\n",
        "\n",
        "# sgdc = SGDClassifier(early_stopping=True, learning_rate='optimal')\n",
        "\n",
        "# pipe7 = Pipeline([('vect', vect), ('svd', svd), ('sgdc', sgdc)])\n",
        "\n",
        "parameters = { \n",
        "    'svd__n_iter': (15,),\n",
        "    'svd__n_components': (500,),\n",
        "    'sgdc__class_weight': ('balanced',),\n",
        "    'sgdc__loss': ('hinge', 'log'),\n",
        "    'sgdc__alpha': (0.0007,),\n",
        "    'sgdc__tol' : (.0015,), \n",
        "    'sgdc__average' : (True, False),\n",
        "    'sgdc__penalty' : ('l2', 'l1', 'elasticnet')\n",
        "}\n",
        "\n",
        "# grid_search7 = GridSearchCV(pipe7, parameters7, cv=5, n_jobs=-1, verbose=10)\n",
        "# start_time = timer(None)\n",
        "# grid_search7.fit(train['description'], train['category'])\n",
        "# timer(start_time)"
      ],
      "execution_count": 0,
      "outputs": []
    },
    {
      "cell_type": "code",
      "metadata": {
        "ExecuteTime": {
          "end_time": "2019-10-04T08:01:18.473246Z",
          "start_time": "2019-10-04T08:01:18.439873Z"
        },
        "id": "JTJV2A2kQLxF",
        "colab_type": "code",
        "outputId": "ffa59827-a024-44e5-b46a-5c50f8c88ce6",
        "colab": {}
      },
      "source": [
        "pd.DataFrame(grid_search7.cv_results_)"
      ],
      "execution_count": 0,
      "outputs": [
        {
          "output_type": "stream",
          "text": [
            "/home/asura/miniconda3/envs/U4-S1-NLP/lib/python3.7/site-packages/sklearn/utils/deprecation.py:125: FutureWarning: You are accessing a training score ('split0_train_score'), which will not be available by default any more in 0.21. If you need training scores, please set return_train_score=True\n",
            "  warnings.warn(*warn_args, **warn_kwargs)\n",
            "/home/asura/miniconda3/envs/U4-S1-NLP/lib/python3.7/site-packages/sklearn/utils/deprecation.py:125: FutureWarning: You are accessing a training score ('split1_train_score'), which will not be available by default any more in 0.21. If you need training scores, please set return_train_score=True\n",
            "  warnings.warn(*warn_args, **warn_kwargs)\n",
            "/home/asura/miniconda3/envs/U4-S1-NLP/lib/python3.7/site-packages/sklearn/utils/deprecation.py:125: FutureWarning: You are accessing a training score ('split2_train_score'), which will not be available by default any more in 0.21. If you need training scores, please set return_train_score=True\n",
            "  warnings.warn(*warn_args, **warn_kwargs)\n",
            "/home/asura/miniconda3/envs/U4-S1-NLP/lib/python3.7/site-packages/sklearn/utils/deprecation.py:125: FutureWarning: You are accessing a training score ('split3_train_score'), which will not be available by default any more in 0.21. If you need training scores, please set return_train_score=True\n",
            "  warnings.warn(*warn_args, **warn_kwargs)\n",
            "/home/asura/miniconda3/envs/U4-S1-NLP/lib/python3.7/site-packages/sklearn/utils/deprecation.py:125: FutureWarning: You are accessing a training score ('split4_train_score'), which will not be available by default any more in 0.21. If you need training scores, please set return_train_score=True\n",
            "  warnings.warn(*warn_args, **warn_kwargs)\n",
            "/home/asura/miniconda3/envs/U4-S1-NLP/lib/python3.7/site-packages/sklearn/utils/deprecation.py:125: FutureWarning: You are accessing a training score ('mean_train_score'), which will not be available by default any more in 0.21. If you need training scores, please set return_train_score=True\n",
            "  warnings.warn(*warn_args, **warn_kwargs)\n",
            "/home/asura/miniconda3/envs/U4-S1-NLP/lib/python3.7/site-packages/sklearn/utils/deprecation.py:125: FutureWarning: You are accessing a training score ('std_train_score'), which will not be available by default any more in 0.21. If you need training scores, please set return_train_score=True\n",
            "  warnings.warn(*warn_args, **warn_kwargs)\n"
          ],
          "name": "stderr"
        },
        {
          "output_type": "execute_result",
          "data": {
            "text/html": [
              "<div>\n",
              "<style scoped>\n",
              "    .dataframe tbody tr th:only-of-type {\n",
              "        vertical-align: middle;\n",
              "    }\n",
              "\n",
              "    .dataframe tbody tr th {\n",
              "        vertical-align: top;\n",
              "    }\n",
              "\n",
              "    .dataframe thead th {\n",
              "        text-align: right;\n",
              "    }\n",
              "</style>\n",
              "<table border=\"1\" class=\"dataframe\">\n",
              "  <thead>\n",
              "    <tr style=\"text-align: right;\">\n",
              "      <th></th>\n",
              "      <th>mean_fit_time</th>\n",
              "      <th>std_fit_time</th>\n",
              "      <th>mean_score_time</th>\n",
              "      <th>std_score_time</th>\n",
              "      <th>param_sgdc__alpha</th>\n",
              "      <th>param_sgdc__average</th>\n",
              "      <th>param_sgdc__class_weight</th>\n",
              "      <th>param_sgdc__loss</th>\n",
              "      <th>param_sgdc__penalty</th>\n",
              "      <th>param_sgdc__tol</th>\n",
              "      <th>param_svd__n_components</th>\n",
              "      <th>param_svd__n_iter</th>\n",
              "      <th>params</th>\n",
              "      <th>split0_test_score</th>\n",
              "      <th>split1_test_score</th>\n",
              "      <th>split2_test_score</th>\n",
              "      <th>split3_test_score</th>\n",
              "      <th>split4_test_score</th>\n",
              "      <th>mean_test_score</th>\n",
              "      <th>std_test_score</th>\n",
              "      <th>rank_test_score</th>\n",
              "      <th>split0_train_score</th>\n",
              "      <th>split1_train_score</th>\n",
              "      <th>split2_train_score</th>\n",
              "      <th>split3_train_score</th>\n",
              "      <th>split4_train_score</th>\n",
              "      <th>mean_train_score</th>\n",
              "      <th>std_train_score</th>\n",
              "    </tr>\n",
              "  </thead>\n",
              "  <tbody>\n",
              "    <tr>\n",
              "      <th>0</th>\n",
              "      <td>17.312605</td>\n",
              "      <td>0.187871</td>\n",
              "      <td>0.134886</td>\n",
              "      <td>0.029705</td>\n",
              "      <td>0.0007</td>\n",
              "      <td>True</td>\n",
              "      <td>balanced</td>\n",
              "      <td>hinge</td>\n",
              "      <td>l2</td>\n",
              "      <td>0.0015</td>\n",
              "      <td>500</td>\n",
              "      <td>15</td>\n",
              "      <td>{'sgdc__alpha': 0.0007, 'sgdc__average': True,...</td>\n",
              "      <td>0.942085</td>\n",
              "      <td>0.936293</td>\n",
              "      <td>0.947776</td>\n",
              "      <td>0.934236</td>\n",
              "      <td>0.906977</td>\n",
              "      <td>0.933488</td>\n",
              "      <td>0.014055</td>\n",
              "      <td>2</td>\n",
              "      <td>0.969052</td>\n",
              "      <td>0.970019</td>\n",
              "      <td>0.967134</td>\n",
              "      <td>0.968101</td>\n",
              "      <td>0.971498</td>\n",
              "      <td>0.969161</td>\n",
              "      <td>0.001513</td>\n",
              "    </tr>\n",
              "    <tr>\n",
              "      <th>1</th>\n",
              "      <td>16.689517</td>\n",
              "      <td>1.601079</td>\n",
              "      <td>0.115269</td>\n",
              "      <td>0.035624</td>\n",
              "      <td>0.0007</td>\n",
              "      <td>True</td>\n",
              "      <td>balanced</td>\n",
              "      <td>hinge</td>\n",
              "      <td>l1</td>\n",
              "      <td>0.0015</td>\n",
              "      <td>500</td>\n",
              "      <td>15</td>\n",
              "      <td>{'sgdc__alpha': 0.0007, 'sgdc__average': True,...</td>\n",
              "      <td>0.909266</td>\n",
              "      <td>0.903475</td>\n",
              "      <td>0.918762</td>\n",
              "      <td>0.899420</td>\n",
              "      <td>0.868217</td>\n",
              "      <td>0.899845</td>\n",
              "      <td>0.017076</td>\n",
              "      <td>11</td>\n",
              "      <td>0.877660</td>\n",
              "      <td>0.881044</td>\n",
              "      <td>0.875302</td>\n",
              "      <td>0.893185</td>\n",
              "      <td>0.899517</td>\n",
              "      <td>0.885342</td>\n",
              "      <td>0.009389</td>\n",
              "    </tr>\n",
              "    <tr>\n",
              "      <th>2</th>\n",
              "      <td>16.329554</td>\n",
              "      <td>1.040065</td>\n",
              "      <td>0.112262</td>\n",
              "      <td>0.042725</td>\n",
              "      <td>0.0007</td>\n",
              "      <td>True</td>\n",
              "      <td>balanced</td>\n",
              "      <td>hinge</td>\n",
              "      <td>elasticnet</td>\n",
              "      <td>0.0015</td>\n",
              "      <td>500</td>\n",
              "      <td>15</td>\n",
              "      <td>{'sgdc__alpha': 0.0007, 'sgdc__average': True,...</td>\n",
              "      <td>0.924710</td>\n",
              "      <td>0.916988</td>\n",
              "      <td>0.924565</td>\n",
              "      <td>0.924565</td>\n",
              "      <td>0.889535</td>\n",
              "      <td>0.916087</td>\n",
              "      <td>0.013582</td>\n",
              "      <td>7</td>\n",
              "      <td>0.921663</td>\n",
              "      <td>0.925532</td>\n",
              "      <td>0.928951</td>\n",
              "      <td>0.929435</td>\n",
              "      <td>0.940580</td>\n",
              "      <td>0.929232</td>\n",
              "      <td>0.006322</td>\n",
              "    </tr>\n",
              "    <tr>\n",
              "      <th>3</th>\n",
              "      <td>18.612582</td>\n",
              "      <td>1.726033</td>\n",
              "      <td>0.117998</td>\n",
              "      <td>0.051418</td>\n",
              "      <td>0.0007</td>\n",
              "      <td>True</td>\n",
              "      <td>balanced</td>\n",
              "      <td>log</td>\n",
              "      <td>l2</td>\n",
              "      <td>0.0015</td>\n",
              "      <td>500</td>\n",
              "      <td>15</td>\n",
              "      <td>{'sgdc__alpha': 0.0007, 'sgdc__average': True,...</td>\n",
              "      <td>0.938224</td>\n",
              "      <td>0.920849</td>\n",
              "      <td>0.934236</td>\n",
              "      <td>0.920696</td>\n",
              "      <td>0.883721</td>\n",
              "      <td>0.919567</td>\n",
              "      <td>0.019228</td>\n",
              "      <td>5</td>\n",
              "      <td>0.954062</td>\n",
              "      <td>0.958414</td>\n",
              "      <td>0.956984</td>\n",
              "      <td>0.958917</td>\n",
              "      <td>0.959420</td>\n",
              "      <td>0.957560</td>\n",
              "      <td>0.001929</td>\n",
              "    </tr>\n",
              "    <tr>\n",
              "      <th>4</th>\n",
              "      <td>15.814015</td>\n",
              "      <td>1.442457</td>\n",
              "      <td>0.062558</td>\n",
              "      <td>0.007501</td>\n",
              "      <td>0.0007</td>\n",
              "      <td>True</td>\n",
              "      <td>balanced</td>\n",
              "      <td>log</td>\n",
              "      <td>l1</td>\n",
              "      <td>0.0015</td>\n",
              "      <td>500</td>\n",
              "      <td>15</td>\n",
              "      <td>{'sgdc__alpha': 0.0007, 'sgdc__average': True,...</td>\n",
              "      <td>0.907336</td>\n",
              "      <td>0.888031</td>\n",
              "      <td>0.911025</td>\n",
              "      <td>0.912959</td>\n",
              "      <td>0.854651</td>\n",
              "      <td>0.894818</td>\n",
              "      <td>0.021928</td>\n",
              "      <td>12</td>\n",
              "      <td>0.878143</td>\n",
              "      <td>0.885397</td>\n",
              "      <td>0.884002</td>\n",
              "      <td>0.894635</td>\n",
              "      <td>0.899034</td>\n",
              "      <td>0.888242</td>\n",
              "      <td>0.007555</td>\n",
              "    </tr>\n",
              "    <tr>\n",
              "      <th>5</th>\n",
              "      <td>14.858299</td>\n",
              "      <td>0.908665</td>\n",
              "      <td>0.082908</td>\n",
              "      <td>0.032778</td>\n",
              "      <td>0.0007</td>\n",
              "      <td>True</td>\n",
              "      <td>balanced</td>\n",
              "      <td>log</td>\n",
              "      <td>elasticnet</td>\n",
              "      <td>0.0015</td>\n",
              "      <td>500</td>\n",
              "      <td>15</td>\n",
              "      <td>{'sgdc__alpha': 0.0007, 'sgdc__average': True,...</td>\n",
              "      <td>0.903475</td>\n",
              "      <td>0.899614</td>\n",
              "      <td>0.924565</td>\n",
              "      <td>0.907157</td>\n",
              "      <td>0.872093</td>\n",
              "      <td>0.901392</td>\n",
              "      <td>0.016935</td>\n",
              "      <td>10</td>\n",
              "      <td>0.904739</td>\n",
              "      <td>0.899420</td>\n",
              "      <td>0.911068</td>\n",
              "      <td>0.908168</td>\n",
              "      <td>0.917874</td>\n",
              "      <td>0.908254</td>\n",
              "      <td>0.006179</td>\n",
              "    </tr>\n",
              "    <tr>\n",
              "      <th>6</th>\n",
              "      <td>14.518984</td>\n",
              "      <td>0.629171</td>\n",
              "      <td>0.061718</td>\n",
              "      <td>0.011268</td>\n",
              "      <td>0.0007</td>\n",
              "      <td>False</td>\n",
              "      <td>balanced</td>\n",
              "      <td>hinge</td>\n",
              "      <td>l2</td>\n",
              "      <td>0.0015</td>\n",
              "      <td>500</td>\n",
              "      <td>15</td>\n",
              "      <td>{'sgdc__alpha': 0.0007, 'sgdc__average': False...</td>\n",
              "      <td>0.942085</td>\n",
              "      <td>0.920849</td>\n",
              "      <td>0.945841</td>\n",
              "      <td>0.932302</td>\n",
              "      <td>0.908915</td>\n",
              "      <td>0.930008</td>\n",
              "      <td>0.013637</td>\n",
              "      <td>3</td>\n",
              "      <td>0.968085</td>\n",
              "      <td>0.966151</td>\n",
              "      <td>0.969067</td>\n",
              "      <td>0.974384</td>\n",
              "      <td>0.974396</td>\n",
              "      <td>0.970417</td>\n",
              "      <td>0.003377</td>\n",
              "    </tr>\n",
              "    <tr>\n",
              "      <th>7</th>\n",
              "      <td>15.178960</td>\n",
              "      <td>0.929743</td>\n",
              "      <td>0.074099</td>\n",
              "      <td>0.020485</td>\n",
              "      <td>0.0007</td>\n",
              "      <td>False</td>\n",
              "      <td>balanced</td>\n",
              "      <td>hinge</td>\n",
              "      <td>l1</td>\n",
              "      <td>0.0015</td>\n",
              "      <td>500</td>\n",
              "      <td>15</td>\n",
              "      <td>{'sgdc__alpha': 0.0007, 'sgdc__average': False...</td>\n",
              "      <td>0.940154</td>\n",
              "      <td>0.920849</td>\n",
              "      <td>0.943907</td>\n",
              "      <td>0.916828</td>\n",
              "      <td>0.887597</td>\n",
              "      <td>0.921887</td>\n",
              "      <td>0.020093</td>\n",
              "      <td>4</td>\n",
              "      <td>0.941973</td>\n",
              "      <td>0.947292</td>\n",
              "      <td>0.945384</td>\n",
              "      <td>0.942484</td>\n",
              "      <td>0.951208</td>\n",
              "      <td>0.945668</td>\n",
              "      <td>0.003382</td>\n",
              "    </tr>\n",
              "    <tr>\n",
              "      <th>8</th>\n",
              "      <td>15.270733</td>\n",
              "      <td>0.870990</td>\n",
              "      <td>0.060734</td>\n",
              "      <td>0.020067</td>\n",
              "      <td>0.0007</td>\n",
              "      <td>False</td>\n",
              "      <td>balanced</td>\n",
              "      <td>hinge</td>\n",
              "      <td>elasticnet</td>\n",
              "      <td>0.0015</td>\n",
              "      <td>500</td>\n",
              "      <td>15</td>\n",
              "      <td>{'sgdc__alpha': 0.0007, 'sgdc__average': False...</td>\n",
              "      <td>0.944015</td>\n",
              "      <td>0.949807</td>\n",
              "      <td>0.949710</td>\n",
              "      <td>0.926499</td>\n",
              "      <td>0.903101</td>\n",
              "      <td>0.934648</td>\n",
              "      <td>0.017911</td>\n",
              "      <td>1</td>\n",
              "      <td>0.966151</td>\n",
              "      <td>0.964217</td>\n",
              "      <td>0.962301</td>\n",
              "      <td>0.969067</td>\n",
              "      <td>0.970048</td>\n",
              "      <td>0.966357</td>\n",
              "      <td>0.002900</td>\n",
              "    </tr>\n",
              "    <tr>\n",
              "      <th>9</th>\n",
              "      <td>14.116110</td>\n",
              "      <td>0.654448</td>\n",
              "      <td>0.053033</td>\n",
              "      <td>0.005621</td>\n",
              "      <td>0.0007</td>\n",
              "      <td>False</td>\n",
              "      <td>balanced</td>\n",
              "      <td>log</td>\n",
              "      <td>l2</td>\n",
              "      <td>0.0015</td>\n",
              "      <td>500</td>\n",
              "      <td>15</td>\n",
              "      <td>{'sgdc__alpha': 0.0007, 'sgdc__average': False...</td>\n",
              "      <td>0.940154</td>\n",
              "      <td>0.903475</td>\n",
              "      <td>0.930368</td>\n",
              "      <td>0.928433</td>\n",
              "      <td>0.879845</td>\n",
              "      <td>0.916473</td>\n",
              "      <td>0.021933</td>\n",
              "      <td>6</td>\n",
              "      <td>0.953095</td>\n",
              "      <td>0.960832</td>\n",
              "      <td>0.953601</td>\n",
              "      <td>0.962784</td>\n",
              "      <td>0.961836</td>\n",
              "      <td>0.958429</td>\n",
              "      <td>0.004198</td>\n",
              "    </tr>\n",
              "    <tr>\n",
              "      <th>10</th>\n",
              "      <td>14.934171</td>\n",
              "      <td>0.609629</td>\n",
              "      <td>0.054044</td>\n",
              "      <td>0.005703</td>\n",
              "      <td>0.0007</td>\n",
              "      <td>False</td>\n",
              "      <td>balanced</td>\n",
              "      <td>log</td>\n",
              "      <td>l1</td>\n",
              "      <td>0.0015</td>\n",
              "      <td>500</td>\n",
              "      <td>15</td>\n",
              "      <td>{'sgdc__alpha': 0.0007, 'sgdc__average': False...</td>\n",
              "      <td>0.922780</td>\n",
              "      <td>0.915058</td>\n",
              "      <td>0.930368</td>\n",
              "      <td>0.922631</td>\n",
              "      <td>0.881783</td>\n",
              "      <td>0.914540</td>\n",
              "      <td>0.017057</td>\n",
              "      <td>8</td>\n",
              "      <td>0.924081</td>\n",
              "      <td>0.928433</td>\n",
              "      <td>0.923151</td>\n",
              "      <td>0.936201</td>\n",
              "      <td>0.937681</td>\n",
              "      <td>0.929910</td>\n",
              "      <td>0.006030</td>\n",
              "    </tr>\n",
              "    <tr>\n",
              "      <th>11</th>\n",
              "      <td>14.030787</td>\n",
              "      <td>1.929586</td>\n",
              "      <td>0.047619</td>\n",
              "      <td>0.008929</td>\n",
              "      <td>0.0007</td>\n",
              "      <td>False</td>\n",
              "      <td>balanced</td>\n",
              "      <td>log</td>\n",
              "      <td>elasticnet</td>\n",
              "      <td>0.0015</td>\n",
              "      <td>500</td>\n",
              "      <td>15</td>\n",
              "      <td>{'sgdc__alpha': 0.0007, 'sgdc__average': False...</td>\n",
              "      <td>0.916988</td>\n",
              "      <td>0.924710</td>\n",
              "      <td>0.941973</td>\n",
              "      <td>0.912959</td>\n",
              "      <td>0.870155</td>\n",
              "      <td>0.913380</td>\n",
              "      <td>0.023762</td>\n",
              "      <td>9</td>\n",
              "      <td>0.953095</td>\n",
              "      <td>0.956480</td>\n",
              "      <td>0.958434</td>\n",
              "      <td>0.950217</td>\n",
              "      <td>0.950242</td>\n",
              "      <td>0.953694</td>\n",
              "      <td>0.003304</td>\n",
              "    </tr>\n",
              "  </tbody>\n",
              "</table>\n",
              "</div>"
            ],
            "text/plain": [
              "    mean_fit_time  std_fit_time  mean_score_time  std_score_time  \\\n",
              "0       17.312605      0.187871         0.134886        0.029705   \n",
              "1       16.689517      1.601079         0.115269        0.035624   \n",
              "2       16.329554      1.040065         0.112262        0.042725   \n",
              "3       18.612582      1.726033         0.117998        0.051418   \n",
              "4       15.814015      1.442457         0.062558        0.007501   \n",
              "5       14.858299      0.908665         0.082908        0.032778   \n",
              "6       14.518984      0.629171         0.061718        0.011268   \n",
              "7       15.178960      0.929743         0.074099        0.020485   \n",
              "8       15.270733      0.870990         0.060734        0.020067   \n",
              "9       14.116110      0.654448         0.053033        0.005621   \n",
              "10      14.934171      0.609629         0.054044        0.005703   \n",
              "11      14.030787      1.929586         0.047619        0.008929   \n",
              "\n",
              "   param_sgdc__alpha param_sgdc__average param_sgdc__class_weight  \\\n",
              "0             0.0007                True                 balanced   \n",
              "1             0.0007                True                 balanced   \n",
              "2             0.0007                True                 balanced   \n",
              "3             0.0007                True                 balanced   \n",
              "4             0.0007                True                 balanced   \n",
              "5             0.0007                True                 balanced   \n",
              "6             0.0007               False                 balanced   \n",
              "7             0.0007               False                 balanced   \n",
              "8             0.0007               False                 balanced   \n",
              "9             0.0007               False                 balanced   \n",
              "10            0.0007               False                 balanced   \n",
              "11            0.0007               False                 balanced   \n",
              "\n",
              "   param_sgdc__loss param_sgdc__penalty param_sgdc__tol  \\\n",
              "0             hinge                  l2          0.0015   \n",
              "1             hinge                  l1          0.0015   \n",
              "2             hinge          elasticnet          0.0015   \n",
              "3               log                  l2          0.0015   \n",
              "4               log                  l1          0.0015   \n",
              "5               log          elasticnet          0.0015   \n",
              "6             hinge                  l2          0.0015   \n",
              "7             hinge                  l1          0.0015   \n",
              "8             hinge          elasticnet          0.0015   \n",
              "9               log                  l2          0.0015   \n",
              "10              log                  l1          0.0015   \n",
              "11              log          elasticnet          0.0015   \n",
              "\n",
              "   param_svd__n_components param_svd__n_iter  \\\n",
              "0                      500                15   \n",
              "1                      500                15   \n",
              "2                      500                15   \n",
              "3                      500                15   \n",
              "4                      500                15   \n",
              "5                      500                15   \n",
              "6                      500                15   \n",
              "7                      500                15   \n",
              "8                      500                15   \n",
              "9                      500                15   \n",
              "10                     500                15   \n",
              "11                     500                15   \n",
              "\n",
              "                                               params  split0_test_score  \\\n",
              "0   {'sgdc__alpha': 0.0007, 'sgdc__average': True,...           0.942085   \n",
              "1   {'sgdc__alpha': 0.0007, 'sgdc__average': True,...           0.909266   \n",
              "2   {'sgdc__alpha': 0.0007, 'sgdc__average': True,...           0.924710   \n",
              "3   {'sgdc__alpha': 0.0007, 'sgdc__average': True,...           0.938224   \n",
              "4   {'sgdc__alpha': 0.0007, 'sgdc__average': True,...           0.907336   \n",
              "5   {'sgdc__alpha': 0.0007, 'sgdc__average': True,...           0.903475   \n",
              "6   {'sgdc__alpha': 0.0007, 'sgdc__average': False...           0.942085   \n",
              "7   {'sgdc__alpha': 0.0007, 'sgdc__average': False...           0.940154   \n",
              "8   {'sgdc__alpha': 0.0007, 'sgdc__average': False...           0.944015   \n",
              "9   {'sgdc__alpha': 0.0007, 'sgdc__average': False...           0.940154   \n",
              "10  {'sgdc__alpha': 0.0007, 'sgdc__average': False...           0.922780   \n",
              "11  {'sgdc__alpha': 0.0007, 'sgdc__average': False...           0.916988   \n",
              "\n",
              "    split1_test_score  split2_test_score  split3_test_score  \\\n",
              "0            0.936293           0.947776           0.934236   \n",
              "1            0.903475           0.918762           0.899420   \n",
              "2            0.916988           0.924565           0.924565   \n",
              "3            0.920849           0.934236           0.920696   \n",
              "4            0.888031           0.911025           0.912959   \n",
              "5            0.899614           0.924565           0.907157   \n",
              "6            0.920849           0.945841           0.932302   \n",
              "7            0.920849           0.943907           0.916828   \n",
              "8            0.949807           0.949710           0.926499   \n",
              "9            0.903475           0.930368           0.928433   \n",
              "10           0.915058           0.930368           0.922631   \n",
              "11           0.924710           0.941973           0.912959   \n",
              "\n",
              "    split4_test_score  mean_test_score  std_test_score  rank_test_score  \\\n",
              "0            0.906977         0.933488        0.014055                2   \n",
              "1            0.868217         0.899845        0.017076               11   \n",
              "2            0.889535         0.916087        0.013582                7   \n",
              "3            0.883721         0.919567        0.019228                5   \n",
              "4            0.854651         0.894818        0.021928               12   \n",
              "5            0.872093         0.901392        0.016935               10   \n",
              "6            0.908915         0.930008        0.013637                3   \n",
              "7            0.887597         0.921887        0.020093                4   \n",
              "8            0.903101         0.934648        0.017911                1   \n",
              "9            0.879845         0.916473        0.021933                6   \n",
              "10           0.881783         0.914540        0.017057                8   \n",
              "11           0.870155         0.913380        0.023762                9   \n",
              "\n",
              "    split0_train_score  split1_train_score  split2_train_score  \\\n",
              "0             0.969052            0.970019            0.967134   \n",
              "1             0.877660            0.881044            0.875302   \n",
              "2             0.921663            0.925532            0.928951   \n",
              "3             0.954062            0.958414            0.956984   \n",
              "4             0.878143            0.885397            0.884002   \n",
              "5             0.904739            0.899420            0.911068   \n",
              "6             0.968085            0.966151            0.969067   \n",
              "7             0.941973            0.947292            0.945384   \n",
              "8             0.966151            0.964217            0.962301   \n",
              "9             0.953095            0.960832            0.953601   \n",
              "10            0.924081            0.928433            0.923151   \n",
              "11            0.953095            0.956480            0.958434   \n",
              "\n",
              "    split3_train_score  split4_train_score  mean_train_score  std_train_score  \n",
              "0             0.968101            0.971498          0.969161         0.001513  \n",
              "1             0.893185            0.899517          0.885342         0.009389  \n",
              "2             0.929435            0.940580          0.929232         0.006322  \n",
              "3             0.958917            0.959420          0.957560         0.001929  \n",
              "4             0.894635            0.899034          0.888242         0.007555  \n",
              "5             0.908168            0.917874          0.908254         0.006179  \n",
              "6             0.974384            0.974396          0.970417         0.003377  \n",
              "7             0.942484            0.951208          0.945668         0.003382  \n",
              "8             0.969067            0.970048          0.966357         0.002900  \n",
              "9             0.962784            0.961836          0.958429         0.004198  \n",
              "10            0.936201            0.937681          0.929910         0.006030  \n",
              "11            0.950217            0.950242          0.953694         0.003304  "
            ]
          },
          "metadata": {
            "tags": []
          },
          "execution_count": 69
        }
      ]
    },
    {
      "cell_type": "code",
      "metadata": {
        "ExecuteTime": {
          "end_time": "2019-10-04T08:01:21.382122Z",
          "start_time": "2019-10-04T08:01:21.377957Z"
        },
        "id": "wgdkx_0OQLxG",
        "colab_type": "code",
        "outputId": "11eab3c4-674b-420c-b174-a1f1d88794ee",
        "colab": {}
      },
      "source": [
        "grid_search7.best_params_"
      ],
      "execution_count": 0,
      "outputs": [
        {
          "output_type": "execute_result",
          "data": {
            "text/plain": [
              "{'sgdc__alpha': 0.0007,\n",
              " 'sgdc__average': False,\n",
              " 'sgdc__class_weight': 'balanced',\n",
              " 'sgdc__loss': 'hinge',\n",
              " 'sgdc__penalty': 'elasticnet',\n",
              " 'sgdc__tol': 0.0015,\n",
              " 'svd__n_components': 500,\n",
              " 'svd__n_iter': 15}"
            ]
          },
          "metadata": {
            "tags": []
          },
          "execution_count": 70
        }
      ]
    },
    {
      "cell_type": "code",
      "metadata": {
        "ExecuteTime": {
          "end_time": "2019-10-04T08:01:26.518195Z",
          "start_time": "2019-10-04T08:01:26.514417Z"
        },
        "id": "m0qRvDnYQLxH",
        "colab_type": "code",
        "outputId": "d33f5b7e-8a9b-4ec5-d28f-b765de686ca7",
        "colab": {}
      },
      "source": [
        "grid_search7.best_score_"
      ],
      "execution_count": 0,
      "outputs": [
        {
          "output_type": "execute_result",
          "data": {
            "text/plain": [
              "0.9346481051817479"
            ]
          },
          "metadata": {
            "tags": []
          },
          "execution_count": 71
        }
      ]
    },
    {
      "cell_type": "markdown",
      "metadata": {
        "id": "JtCAHqQOQLxI",
        "colab_type": "text"
      },
      "source": [
        "#### Save submission"
      ]
    },
    {
      "cell_type": "code",
      "metadata": {
        "ExecuteTime": {
          "end_time": "2019-10-04T08:01:32.868854Z",
          "start_time": "2019-10-04T08:01:32.866433Z"
        },
        "id": "C21p-Qu_QLxI",
        "colab_type": "code",
        "colab": {}
      },
      "source": [
        "# submission(grid_search7, 'TFIDF_W_STOPWORDS_SVD_SGDC_OPTIMIZED')"
      ],
      "execution_count": 0,
      "outputs": []
    },
    {
      "cell_type": "markdown",
      "metadata": {
        "id": "TxRRhcsUQLxJ",
        "colab_type": "text"
      },
      "source": [
        "#### Pickle Model 🥒"
      ]
    },
    {
      "cell_type": "code",
      "metadata": {
        "ExecuteTime": {
          "end_time": "2019-10-04T08:01:37.948680Z",
          "start_time": "2019-10-04T08:01:37.946185Z"
        },
        "id": "9t8fU-OCQLxK",
        "colab_type": "code",
        "colab": {}
      },
      "source": [
        "# pickle_model(grid_search7, 'TFIDF_W_STOPWORDS_SVD_SGDC_OPTIMIZED')"
      ],
      "execution_count": 0,
      "outputs": []
    },
    {
      "cell_type": "markdown",
      "metadata": {
        "id": "a-plCPehQLxL",
        "colab_type": "text"
      },
      "source": [
        "### Spacy Embeddings + SGDC"
      ]
    },
    {
      "cell_type": "code",
      "metadata": {
        "id": "lCM99djfQLxL",
        "colab_type": "code",
        "colab": {}
      },
      "source": [
        "def get_word_vectors(docs):\n",
        "    return [nlp(doc).vector for doc in docs]\n",
        "\n",
        "train_desc_embeddings = get_word_vectors(train['description']) \n",
        "test_desc_embeddings = get_word_vectors(test['description']) "
      ],
      "execution_count": 0,
      "outputs": []
    },
    {
      "cell_type": "code",
      "metadata": {
        "id": "pjUlalTAQLxM",
        "colab_type": "code",
        "colab": {}
      },
      "source": [
        "sgdc = SGDClassifier(early_stopping=True)"
      ],
      "execution_count": 0,
      "outputs": []
    },
    {
      "cell_type": "markdown",
      "metadata": {
        "id": "xNxjogDmQLxN",
        "colab_type": "text"
      },
      "source": [
        "#### Save submission"
      ]
    },
    {
      "cell_type": "code",
      "metadata": {
        "ExecuteTime": {
          "end_time": "2019-10-03T01:18:16.137584Z",
          "start_time": "2019-10-03T01:18:16.034721Z"
        },
        "id": "CAuODxVqQLxN",
        "colab_type": "code",
        "colab": {}
      },
      "source": [
        "submission(, 'CUSTOM_TOKENIZER_LEMMAS_TFIDF_SVD_SGDC')"
      ],
      "execution_count": 0,
      "outputs": []
    },
    {
      "cell_type": "markdown",
      "metadata": {
        "id": "iDfTLRQ1QLxP",
        "colab_type": "text"
      },
      "source": [
        "#### Pickle Model 🥒"
      ]
    },
    {
      "cell_type": "code",
      "metadata": {
        "id": "OC_4IyGkQLxP",
        "colab_type": "code",
        "colab": {}
      },
      "source": [
        "pickle(, 'CUSTOM_TOKENIZER_LEMMAS_TFIDF_SVD_SGDC')"
      ],
      "execution_count": 0,
      "outputs": []
    },
    {
      "cell_type": "markdown",
      "metadata": {
        "id": "foEpGDOPQLxQ",
        "colab_type": "text"
      },
      "source": [
        "## Bayesian Optimization"
      ]
    },
    {
      "cell_type": "code",
      "metadata": {
        "id": "tLVNiQSJQLxQ",
        "colab_type": "code",
        "colab": {}
      },
      "source": [
        "from bayes_opt import BayesianOptimization\n",
        "\n",
        "\n",
        "def sgdc_pipe(n_iter, n_components, max_iter):\n",
        "    \n",
        "    vect = TfidfVectorizer(tokenizer=tokenize, ngram_range=(1, 3))\n",
        "    svd = TruncatedSVD(algorithm='randomized')\n",
        "    sgdc = SGDClassifier(early_stopping=True)\n",
        "\n",
        "    pipeline = Pipeline([('vect', vect), ('svd', svd), ('sgdc', sgdc)])\n",
        "    \n",
        "    return pipeline\n",
        "\n",
        "\n",
        "def sgdc_cv():\n",
        "    scores = cross_val_score(pipeline, data, targets, scoring='auc')\n",
        "pbounds = { \n",
        "    'svd__n_iter': (10, 20),\n",
        "    'svd__n_components': (100, 1000),\n",
        "    'sgdc__max_iter': (1000, 1500)\n",
        "}\n",
        "\n"
      ],
      "execution_count": 0,
      "outputs": []
    },
    {
      "cell_type": "code",
      "metadata": {
        "id": "w9AiE7sXQLxT",
        "colab_type": "code",
        "colab": {}
      },
      "source": [
        ""
      ],
      "execution_count": 0,
      "outputs": []
    }
  ]
}