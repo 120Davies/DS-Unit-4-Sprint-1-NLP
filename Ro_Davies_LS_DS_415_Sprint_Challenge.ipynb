{
  "nbformat": 4,
  "nbformat_minor": 0,
  "metadata": {
    "kernel_info": {
      "name": "u4-s1-nlp"
    },
    "kernelspec": {
      "display_name": "Python 3",
      "language": "python",
      "name": "python3"
    },
    "language_info": {
      "codemirror_mode": {
        "name": "ipython",
        "version": 3
      },
      "file_extension": ".py",
      "mimetype": "text/x-python",
      "name": "python",
      "nbconvert_exporter": "python",
      "pygments_lexer": "ipython3",
      "version": "3.7.3"
    },
    "nteract": {
      "version": "0.14.5"
    },
    "toc-autonumbering": false,
    "colab": {
      "name": "Ro_Davies_LS_DS_415_Sprint_Challenge.ipynb",
      "provenance": [],
      "include_colab_link": true
    }
  },
  "cells": [
    {
      "cell_type": "markdown",
      "metadata": {
        "id": "view-in-github",
        "colab_type": "text"
      },
      "source": [
        "<a href=\"https://colab.research.google.com/github/120Davies/DS-Unit-4-Sprint-1-NLP/blob/master/Ro_Davies_LS_DS_415_Sprint_Challenge.ipynb\" target=\"_parent\"><img src=\"https://colab.research.google.com/assets/colab-badge.svg\" alt=\"Open In Colab\"/></a>"
      ]
    },
    {
      "cell_type": "markdown",
      "metadata": {
        "id": "IUem1DuEfrL5",
        "colab_type": "text"
      },
      "source": [
        "<img align=\"left\" src=\"https://lever-client-logos.s3.amazonaws.com/864372b1-534c-480e-acd5-9711f850815c-1524247202159.png\" width=200>\n",
        "<br></br>\n",
        "<br></br>\n",
        "\n",
        "# Sprint Challenge\n",
        "## *Data Science Unit 4 Sprint 1*\n",
        "\n",
        "After a week of Natural Language Processing, you've learned some cool new stuff: how to process text, how turn text into vectors, and how to model topics from documents. Apply your newly acquired skills to one of the most famous NLP datasets out there: [Yelp](https://www.yelp.com/dataset/challenge). As part of the job selection process, some of my friends have been asked to create analysis of this dataset, so I want to empower you to have a head start.  \n",
        "\n",
        "The real dataset is massive (almost 8 gigs uncompressed). I've sampled the data for you to something more managable for the Sprint Challenge. You can analyze the full dataset as a stretch goal or after the sprint challenge. As you work on the challenge, I suggest adding notes about your findings and things you want to analyze in the future.\n",
        "\n",
        "## Challenge Objectives\n",
        "*Successfully complete these all these objectives to earn a 2. There are more details on each objective further down in the notebook.*\n",
        "* <a href=\"#p1\">Part 1</a>: Write a function to tokenize the yelp reviews\n",
        "* <a href=\"#p2\">Part 2</a>: Create a vector representation of those tokens\n",
        "* <a href=\"#p3\">Part 3</a>: Use your tokens in a classification model on yelp rating\n",
        "* <a href=\"#p4\">Part 4</a>: Estimate & Interpret a topic model of the Yelp reviews"
      ]
    },
    {
      "cell_type": "code",
      "metadata": {
        "id": "T-wX9RcafrL6",
        "colab_type": "code",
        "colab": {}
      },
      "source": [
        "import pandas as pd\n",
        "\n",
        "yelp = pd.read_json('./data/review_sample.json', lines=True)"
      ],
      "execution_count": 0,
      "outputs": []
    },
    {
      "cell_type": "code",
      "metadata": {
        "id": "Jwe1jOXpfrL9",
        "colab_type": "code",
        "outputId": "826d4d35-ecd2-4701-cd46-6b11a2b6cb43",
        "colab": {}
      },
      "source": [
        "yelp.head()"
      ],
      "execution_count": 0,
      "outputs": [
        {
          "output_type": "execute_result",
          "data": {
            "text/html": [
              "<div>\n",
              "<style scoped>\n",
              "    .dataframe tbody tr th:only-of-type {\n",
              "        vertical-align: middle;\n",
              "    }\n",
              "\n",
              "    .dataframe tbody tr th {\n",
              "        vertical-align: top;\n",
              "    }\n",
              "\n",
              "    .dataframe thead th {\n",
              "        text-align: right;\n",
              "    }\n",
              "</style>\n",
              "<table border=\"1\" class=\"dataframe\">\n",
              "  <thead>\n",
              "    <tr style=\"text-align: right;\">\n",
              "      <th></th>\n",
              "      <th>business_id</th>\n",
              "      <th>cool</th>\n",
              "      <th>date</th>\n",
              "      <th>funny</th>\n",
              "      <th>review_id</th>\n",
              "      <th>stars</th>\n",
              "      <th>text</th>\n",
              "      <th>useful</th>\n",
              "      <th>user_id</th>\n",
              "    </tr>\n",
              "  </thead>\n",
              "  <tbody>\n",
              "    <tr>\n",
              "      <th>0</th>\n",
              "      <td>nDuEqIyRc8YKS1q1fX0CZg</td>\n",
              "      <td>1</td>\n",
              "      <td>2015-03-31 16:50:30</td>\n",
              "      <td>0</td>\n",
              "      <td>eZs2tpEJtXPwawvHnHZIgQ</td>\n",
              "      <td>1</td>\n",
              "      <td>BEWARE!!! FAKE, FAKE, FAKE....We also own a sm...</td>\n",
              "      <td>10</td>\n",
              "      <td>n1LM36qNg4rqGXIcvVXv8w</td>\n",
              "    </tr>\n",
              "    <tr>\n",
              "      <th>1</th>\n",
              "      <td>eMYeEapscbKNqUDCx705hg</td>\n",
              "      <td>0</td>\n",
              "      <td>2015-12-16 05:31:03</td>\n",
              "      <td>0</td>\n",
              "      <td>DoQDWJsNbU0KL1O29l_Xug</td>\n",
              "      <td>4</td>\n",
              "      <td>Came here for lunch Togo. Service was quick. S...</td>\n",
              "      <td>0</td>\n",
              "      <td>5CgjjDAic2-FAvCtiHpytA</td>\n",
              "    </tr>\n",
              "    <tr>\n",
              "      <th>2</th>\n",
              "      <td>6Q7-wkCPc1KF75jZLOTcMw</td>\n",
              "      <td>1</td>\n",
              "      <td>2010-06-20 19:14:48</td>\n",
              "      <td>1</td>\n",
              "      <td>DDOdGU7zh56yQHmUnL1idQ</td>\n",
              "      <td>3</td>\n",
              "      <td>I've been to Vegas dozens of times and had nev...</td>\n",
              "      <td>2</td>\n",
              "      <td>BdV-cf3LScmb8kZ7iiBcMA</td>\n",
              "    </tr>\n",
              "    <tr>\n",
              "      <th>3</th>\n",
              "      <td>k3zrItO4l9hwfLRwHBDc9w</td>\n",
              "      <td>3</td>\n",
              "      <td>2010-07-13 00:33:45</td>\n",
              "      <td>4</td>\n",
              "      <td>LfTMUWnfGFMOfOIyJcwLVA</td>\n",
              "      <td>1</td>\n",
              "      <td>We went here on a night where they closed off ...</td>\n",
              "      <td>5</td>\n",
              "      <td>cZZnBqh4gAEy4CdNvJailQ</td>\n",
              "    </tr>\n",
              "    <tr>\n",
              "      <th>4</th>\n",
              "      <td>6hpfRwGlOzbNv7k5eP9rsQ</td>\n",
              "      <td>1</td>\n",
              "      <td>2018-06-30 02:30:01</td>\n",
              "      <td>0</td>\n",
              "      <td>zJSUdI7bJ8PNJAg4lnl_Gg</td>\n",
              "      <td>4</td>\n",
              "      <td>3.5 to 4 stars\\n\\nNot bad for the price, $12.9...</td>\n",
              "      <td>5</td>\n",
              "      <td>n9QO4ClYAS7h9fpQwa5bhA</td>\n",
              "    </tr>\n",
              "  </tbody>\n",
              "</table>\n",
              "</div>"
            ],
            "text/plain": [
              "              business_id  cool                date  funny  \\\n",
              "0  nDuEqIyRc8YKS1q1fX0CZg     1 2015-03-31 16:50:30      0   \n",
              "1  eMYeEapscbKNqUDCx705hg     0 2015-12-16 05:31:03      0   \n",
              "2  6Q7-wkCPc1KF75jZLOTcMw     1 2010-06-20 19:14:48      1   \n",
              "3  k3zrItO4l9hwfLRwHBDc9w     3 2010-07-13 00:33:45      4   \n",
              "4  6hpfRwGlOzbNv7k5eP9rsQ     1 2018-06-30 02:30:01      0   \n",
              "\n",
              "                review_id  stars  \\\n",
              "0  eZs2tpEJtXPwawvHnHZIgQ      1   \n",
              "1  DoQDWJsNbU0KL1O29l_Xug      4   \n",
              "2  DDOdGU7zh56yQHmUnL1idQ      3   \n",
              "3  LfTMUWnfGFMOfOIyJcwLVA      1   \n",
              "4  zJSUdI7bJ8PNJAg4lnl_Gg      4   \n",
              "\n",
              "                                                text  useful  \\\n",
              "0  BEWARE!!! FAKE, FAKE, FAKE....We also own a sm...      10   \n",
              "1  Came here for lunch Togo. Service was quick. S...       0   \n",
              "2  I've been to Vegas dozens of times and had nev...       2   \n",
              "3  We went here on a night where they closed off ...       5   \n",
              "4  3.5 to 4 stars\\n\\nNot bad for the price, $12.9...       5   \n",
              "\n",
              "                  user_id  \n",
              "0  n1LM36qNg4rqGXIcvVXv8w  \n",
              "1  5CgjjDAic2-FAvCtiHpytA  \n",
              "2  BdV-cf3LScmb8kZ7iiBcMA  \n",
              "3  cZZnBqh4gAEy4CdNvJailQ  \n",
              "4  n9QO4ClYAS7h9fpQwa5bhA  "
            ]
          },
          "metadata": {
            "tags": []
          },
          "execution_count": 2
        }
      ]
    },
    {
      "cell_type": "markdown",
      "metadata": {
        "id": "WWqa0ZyyfrL_",
        "colab_type": "text"
      },
      "source": [
        "## Part 1: Tokenize Function\n",
        "<a id=\"#p1\"></a>\n",
        "\n",
        "Complete the function `tokenize`. Your function should\n",
        "- accept one document at a time\n",
        "- return a list of tokens\n",
        "\n",
        "You are free to use any method you have learned this week."
      ]
    },
    {
      "cell_type": "code",
      "metadata": {
        "id": "LLlEerZvfrMB",
        "colab_type": "code",
        "outputId": "ab8236ef-2e30-4b45-887c-dff9599139de",
        "colab": {}
      },
      "source": [
        "\"\"\"\n",
        "Import Statements\n",
        "\"\"\"\n",
        "# Base\n",
        "from collections import Counter\n",
        "import re\n",
        " \n",
        "import pandas as pd\n",
        "\n",
        "# Plotting\n",
        "import squarify\n",
        "import matplotlib.pyplot as plt\n",
        "import seaborn as sns\n",
        "\n",
        "# NLP Libraries\n",
        "import spacy\n",
        "from spacy.tokenizer import Tokenizer\n",
        "from nltk.stem import PorterStemmer\n",
        "!pip install gensim\n",
        "!python -m spacy download en_core_web_md\n",
        "nlp = spacy.load(\"en_core_web_md\")\n",
        "tokenizer = Tokenizer(nlp.vocab)"
      ],
      "execution_count": 0,
      "outputs": [
        {
          "output_type": "stream",
          "text": [
            "Collecting gensim\n",
            "  Downloading https://files.pythonhosted.org/packages/09/ed/b59a2edde05b7f5755ea68648487c150c7c742361e9c8733c6d4ca005020/gensim-3.8.1-cp37-cp37m-win_amd64.whl (24.2MB)\n",
            "Requirement already satisfied: numpy>=1.11.3 in c:\\programdata\\anaconda3\\lib\\site-packages (from gensim) (1.16.4)\n",
            "Collecting smart-open>=1.8.1 (from gensim)\n",
            "  Downloading https://files.pythonhosted.org/packages/37/c0/25d19badc495428dec6a4bf7782de617ee0246a9211af75b302a2681dea7/smart_open-1.8.4.tar.gz (63kB)\n",
            "Requirement already satisfied: scipy>=0.18.1 in c:\\programdata\\anaconda3\\lib\\site-packages (from gensim) (1.2.1)\n",
            "Requirement already satisfied: six>=1.5.0 in c:\\programdata\\anaconda3\\lib\\site-packages (from gensim) (1.12.0)\n",
            "Requirement already satisfied: boto>=2.32 in c:\\programdata\\anaconda3\\lib\\site-packages (from smart-open>=1.8.1->gensim) (2.49.0)\n",
            "Requirement already satisfied: requests in c:\\programdata\\anaconda3\\lib\\site-packages (from smart-open>=1.8.1->gensim) (2.22.0)\n",
            "Collecting boto3 (from smart-open>=1.8.1->gensim)\n",
            "  Downloading https://files.pythonhosted.org/packages/bf/8e/2723b8cd1420f9d4a79b6c053d5b113cfa5ac428ca042f11700252c552dd/boto3-1.9.242-py2.py3-none-any.whl (128kB)\n",
            "Requirement already satisfied: chardet<3.1.0,>=3.0.2 in c:\\programdata\\anaconda3\\lib\\site-packages (from requests->smart-open>=1.8.1->gensim) (3.0.4)\n",
            "Requirement already satisfied: certifi>=2017.4.17 in c:\\programdata\\anaconda3\\lib\\site-packages (from requests->smart-open>=1.8.1->gensim) (2019.6.16)\n",
            "Requirement already satisfied: urllib3!=1.25.0,!=1.25.1,<1.26,>=1.21.1 in c:\\programdata\\anaconda3\\lib\\site-packages (from requests->smart-open>=1.8.1->gensim) (1.24.2)\n",
            "Requirement already satisfied: idna<2.9,>=2.5 in c:\\programdata\\anaconda3\\lib\\site-packages (from requests->smart-open>=1.8.1->gensim) (2.8)\n",
            "Collecting jmespath<1.0.0,>=0.7.1 (from boto3->smart-open>=1.8.1->gensim)\n",
            "  Downloading https://files.pythonhosted.org/packages/83/94/7179c3832a6d45b266ddb2aac329e101367fbdb11f425f13771d27f225bb/jmespath-0.9.4-py2.py3-none-any.whl\n",
            "Collecting botocore<1.13.0,>=1.12.242 (from boto3->smart-open>=1.8.1->gensim)\n",
            "  Downloading https://files.pythonhosted.org/packages/07/ee/41fe4eb9dbf0e975e5d623468259b7fd509ec7a9f1d9ef30b772544c89f1/botocore-1.12.242-py2.py3-none-any.whl (5.7MB)\n",
            "Collecting s3transfer<0.3.0,>=0.2.0 (from boto3->smart-open>=1.8.1->gensim)\n",
            "  Downloading https://files.pythonhosted.org/packages/16/8a/1fc3dba0c4923c2a76e1ff0d52b305c44606da63f718d14d3231e21c51b0/s3transfer-0.2.1-py2.py3-none-any.whl (70kB)\n",
            "Requirement already satisfied: docutils<0.16,>=0.10 in c:\\programdata\\anaconda3\\lib\\site-packages (from botocore<1.13.0,>=1.12.242->boto3->smart-open>=1.8.1->gensim) (0.14)\n",
            "Requirement already satisfied: python-dateutil<3.0.0,>=2.1; python_version >= \"2.7\" in c:\\programdata\\anaconda3\\lib\\site-packages (from botocore<1.13.0,>=1.12.242->boto3->smart-open>=1.8.1->gensim) (2.8.0)\n",
            "Building wheels for collected packages: smart-open\n",
            "  Building wheel for smart-open (setup.py): started\n",
            "  Building wheel for smart-open (setup.py): finished with status 'done'\n",
            "  Stored in directory: C:\\Users\\macky\\AppData\\Local\\pip\\Cache\\wheels\\5f\\ea\\fb\\5b1a947b369724063b2617011f1540c44eb00e28c3d2ca8692\n",
            "Successfully built smart-open\n",
            "Installing collected packages: jmespath, botocore, s3transfer, boto3, smart-open, gensim\n",
            "Successfully installed boto3-1.9.242 botocore-1.12.242 gensim-3.8.1 jmespath-0.9.4 s3transfer-0.2.1 smart-open-1.8.4\n",
            "Requirement already satisfied: en_core_web_md==2.1.0 from https://github.com/explosion/spacy-models/releases/download/en_core_web_md-2.1.0/en_core_web_md-2.1.0.tar.gz#egg=en_core_web_md==2.1.0 in c:\\programdata\\anaconda3\\lib\\site-packages (2.1.0)\n",
            "[+] Download and installation successful\n",
            "You can now load the model via spacy.load('en_core_web_md')\n"
          ],
          "name": "stdout"
        }
      ]
    },
    {
      "cell_type": "code",
      "metadata": {
        "id": "zKRpnSeVfrMC",
        "colab_type": "code",
        "colab": {}
      },
      "source": [
        "from gensim.utils import simple_preprocess\n",
        "from gensim.parsing.preprocessing import STOPWORDS\n",
        "STOPWORDS = set(STOPWORDS).union(set(['said', 'mr', 'mrs', 've', 'got', 'food', 'great', 'good', 'place', 'like', 'service', 'time']))\n",
        "def tokenize(text):\n",
        "    return [token for token in simple_preprocess(text) if token not in STOP_WORDS]\n"
      ],
      "execution_count": 0,
      "outputs": []
    },
    {
      "cell_type": "code",
      "metadata": {
        "id": "hh3Ts48rfrME",
        "colab_type": "code",
        "outputId": "ca23b2bd-8317-4a93-bd88-79b2631efb1a",
        "colab": {}
      },
      "source": [
        "yelp['tokens'] = yelp['text'].apply(tokenize)\n",
        "yelp['tokens'].head()"
      ],
      "execution_count": 0,
      "outputs": [
        {
          "output_type": "execute_result",
          "data": {
            "text/plain": [
              "0    [beware, fake, fake, fake, small, business, lo...\n",
              "1    [came, lunch, togo, service, quick, staff, fri...\n",
              "2    [ve, vegas, dozens, times, stepped, foot, circ...\n",
              "3    [went, night, closed, street, party, best, act...\n",
              "4    [stars, bad, price, lunch, seniors, pay, eatin...\n",
              "Name: tokens, dtype: object"
            ]
          },
          "metadata": {
            "tags": []
          },
          "execution_count": 47
        }
      ]
    },
    {
      "cell_type": "markdown",
      "metadata": {
        "id": "D_7sA0kjfrMG",
        "colab_type": "text"
      },
      "source": [
        "## Part 2: Vector Representation\n",
        "<a id=\"#p2\"></a>\n",
        "1. Create a vector representation of the reviews\n",
        "2. Write a fake review and query for the 10 most similiar reviews, print the text of the reviews. Do you notice any patterns?\n",
        "    - Given the size of the dataset, it will probably be best to use a `NearestNeighbors` model for this. "
      ]
    },
    {
      "cell_type": "code",
      "metadata": {
        "scrolled": true,
        "id": "cIsWlHGDfrMG",
        "colab_type": "code",
        "colab": {}
      },
      "source": [
        "from sklearn.feature_extraction.text import CountVectorizer\n",
        "from sklearn.feature_extraction.text import TfidfVectorizer\n",
        "from sklearn.metrics.pairwise import cosine_similarity\n",
        "from sklearn.neighbors import NearestNeighbors\n",
        "from sklearn.decomposition import PCA\n",
        "from sklearn.pipeline import Pipeline\n",
        "from sklearn.ensemble import RandomForestClassifier\n",
        "from sklearn.linear_model import SGDClassifier\n",
        "from sklearn.model_selection import GridSearchCV"
      ],
      "execution_count": 0,
      "outputs": []
    },
    {
      "cell_type": "code",
      "metadata": {
        "id": "ATNh_JP8frMI",
        "colab_type": "code",
        "outputId": "5ab80b29-557d-4f1c-891d-8e2065bf427a",
        "colab": {}
      },
      "source": [
        "# vect = CountVectorizer()\n",
        "# vect.fit(yelp['text'])\n",
        "# dtm = vect.transform(yelp['text'])\n",
        "# print(vect.get_feature_names())\n",
        "# dtm = pd.DataFrame(dtm.todense(), columns=vect.get_feature_names())\n",
        "# dtm.head()\n",
        "tfidf = TfidfVectorizer(stop_words = 'english')\n",
        "dtm = tfidf.fit_transform(yelp['text'])\n",
        "dtm = pd.DataFrame(dtm.todense(), columns=tfidf.get_feature_names())\n",
        "dtm.head()"
      ],
      "execution_count": 0,
      "outputs": [
        {
          "output_type": "execute_result",
          "data": {
            "text/html": [
              "<div>\n",
              "<style scoped>\n",
              "    .dataframe tbody tr th:only-of-type {\n",
              "        vertical-align: middle;\n",
              "    }\n",
              "\n",
              "    .dataframe tbody tr th {\n",
              "        vertical-align: top;\n",
              "    }\n",
              "\n",
              "    .dataframe thead th {\n",
              "        text-align: right;\n",
              "    }\n",
              "</style>\n",
              "<table border=\"1\" class=\"dataframe\">\n",
              "  <thead>\n",
              "    <tr style=\"text-align: right;\">\n",
              "      <th></th>\n",
              "      <th>00</th>\n",
              "      <th>000</th>\n",
              "      <th>001695</th>\n",
              "      <th>007</th>\n",
              "      <th>00a</th>\n",
              "      <th>00am</th>\n",
              "      <th>00ish</th>\n",
              "      <th>00pm</th>\n",
              "      <th>01</th>\n",
              "      <th>011802</th>\n",
              "      <th>...</th>\n",
              "      <th>誰も乗車しなくても</th>\n",
              "      <th>豆腐花</th>\n",
              "      <th>質問にも丁寧に答えてくれましたし</th>\n",
              "      <th>車好きさんには</th>\n",
              "      <th>這是一個不錯的選擇</th>\n",
              "      <th>運転しない</th>\n",
              "      <th>運転中も英語で指導があります</th>\n",
              "      <th>食べ物はうまい</th>\n",
              "      <th>餐後點了甜點</th>\n",
              "      <th>３時間後の便</th>\n",
              "    </tr>\n",
              "  </thead>\n",
              "  <tbody>\n",
              "    <tr>\n",
              "      <th>0</th>\n",
              "      <td>0.0</td>\n",
              "      <td>0.0</td>\n",
              "      <td>0.0</td>\n",
              "      <td>0.0</td>\n",
              "      <td>0.0</td>\n",
              "      <td>0.0</td>\n",
              "      <td>0.0</td>\n",
              "      <td>0.0</td>\n",
              "      <td>0.0</td>\n",
              "      <td>0.0</td>\n",
              "      <td>...</td>\n",
              "      <td>0.0</td>\n",
              "      <td>0.0</td>\n",
              "      <td>0.0</td>\n",
              "      <td>0.0</td>\n",
              "      <td>0.0</td>\n",
              "      <td>0.0</td>\n",
              "      <td>0.0</td>\n",
              "      <td>0.0</td>\n",
              "      <td>0.0</td>\n",
              "      <td>0.0</td>\n",
              "    </tr>\n",
              "    <tr>\n",
              "      <th>1</th>\n",
              "      <td>0.0</td>\n",
              "      <td>0.0</td>\n",
              "      <td>0.0</td>\n",
              "      <td>0.0</td>\n",
              "      <td>0.0</td>\n",
              "      <td>0.0</td>\n",
              "      <td>0.0</td>\n",
              "      <td>0.0</td>\n",
              "      <td>0.0</td>\n",
              "      <td>0.0</td>\n",
              "      <td>...</td>\n",
              "      <td>0.0</td>\n",
              "      <td>0.0</td>\n",
              "      <td>0.0</td>\n",
              "      <td>0.0</td>\n",
              "      <td>0.0</td>\n",
              "      <td>0.0</td>\n",
              "      <td>0.0</td>\n",
              "      <td>0.0</td>\n",
              "      <td>0.0</td>\n",
              "      <td>0.0</td>\n",
              "    </tr>\n",
              "    <tr>\n",
              "      <th>2</th>\n",
              "      <td>0.0</td>\n",
              "      <td>0.0</td>\n",
              "      <td>0.0</td>\n",
              "      <td>0.0</td>\n",
              "      <td>0.0</td>\n",
              "      <td>0.0</td>\n",
              "      <td>0.0</td>\n",
              "      <td>0.0</td>\n",
              "      <td>0.0</td>\n",
              "      <td>0.0</td>\n",
              "      <td>...</td>\n",
              "      <td>0.0</td>\n",
              "      <td>0.0</td>\n",
              "      <td>0.0</td>\n",
              "      <td>0.0</td>\n",
              "      <td>0.0</td>\n",
              "      <td>0.0</td>\n",
              "      <td>0.0</td>\n",
              "      <td>0.0</td>\n",
              "      <td>0.0</td>\n",
              "      <td>0.0</td>\n",
              "    </tr>\n",
              "    <tr>\n",
              "      <th>3</th>\n",
              "      <td>0.0</td>\n",
              "      <td>0.0</td>\n",
              "      <td>0.0</td>\n",
              "      <td>0.0</td>\n",
              "      <td>0.0</td>\n",
              "      <td>0.0</td>\n",
              "      <td>0.0</td>\n",
              "      <td>0.0</td>\n",
              "      <td>0.0</td>\n",
              "      <td>0.0</td>\n",
              "      <td>...</td>\n",
              "      <td>0.0</td>\n",
              "      <td>0.0</td>\n",
              "      <td>0.0</td>\n",
              "      <td>0.0</td>\n",
              "      <td>0.0</td>\n",
              "      <td>0.0</td>\n",
              "      <td>0.0</td>\n",
              "      <td>0.0</td>\n",
              "      <td>0.0</td>\n",
              "      <td>0.0</td>\n",
              "    </tr>\n",
              "    <tr>\n",
              "      <th>4</th>\n",
              "      <td>0.0</td>\n",
              "      <td>0.0</td>\n",
              "      <td>0.0</td>\n",
              "      <td>0.0</td>\n",
              "      <td>0.0</td>\n",
              "      <td>0.0</td>\n",
              "      <td>0.0</td>\n",
              "      <td>0.0</td>\n",
              "      <td>0.0</td>\n",
              "      <td>0.0</td>\n",
              "      <td>...</td>\n",
              "      <td>0.0</td>\n",
              "      <td>0.0</td>\n",
              "      <td>0.0</td>\n",
              "      <td>0.0</td>\n",
              "      <td>0.0</td>\n",
              "      <td>0.0</td>\n",
              "      <td>0.0</td>\n",
              "      <td>0.0</td>\n",
              "      <td>0.0</td>\n",
              "      <td>0.0</td>\n",
              "    </tr>\n",
              "  </tbody>\n",
              "</table>\n",
              "<p>5 rows × 27289 columns</p>\n",
              "</div>"
            ],
            "text/plain": [
              "    00  000  001695  007  00a  00am  00ish  00pm   01  011802  ...  誰も乗車しなくても  \\\n",
              "0  0.0  0.0     0.0  0.0  0.0   0.0    0.0   0.0  0.0     0.0  ...        0.0   \n",
              "1  0.0  0.0     0.0  0.0  0.0   0.0    0.0   0.0  0.0     0.0  ...        0.0   \n",
              "2  0.0  0.0     0.0  0.0  0.0   0.0    0.0   0.0  0.0     0.0  ...        0.0   \n",
              "3  0.0  0.0     0.0  0.0  0.0   0.0    0.0   0.0  0.0     0.0  ...        0.0   \n",
              "4  0.0  0.0     0.0  0.0  0.0   0.0    0.0   0.0  0.0     0.0  ...        0.0   \n",
              "\n",
              "   豆腐花  質問にも丁寧に答えてくれましたし  車好きさんには  這是一個不錯的選擇  運転しない  運転中も英語で指導があります  食べ物はうまい  \\\n",
              "0  0.0               0.0      0.0        0.0    0.0             0.0      0.0   \n",
              "1  0.0               0.0      0.0        0.0    0.0             0.0      0.0   \n",
              "2  0.0               0.0      0.0        0.0    0.0             0.0      0.0   \n",
              "3  0.0               0.0      0.0        0.0    0.0             0.0      0.0   \n",
              "4  0.0               0.0      0.0        0.0    0.0             0.0      0.0   \n",
              "\n",
              "   餐後點了甜點  ３時間後の便  \n",
              "0     0.0     0.0  \n",
              "1     0.0     0.0  \n",
              "2     0.0     0.0  \n",
              "3     0.0     0.0  \n",
              "4     0.0     0.0  \n",
              "\n",
              "[5 rows x 27289 columns]"
            ]
          },
          "metadata": {
            "tags": []
          },
          "execution_count": 48
        }
      ]
    },
    {
      "cell_type": "code",
      "metadata": {
        "id": "1tnngzT2frMJ",
        "colab_type": "code",
        "outputId": "8dde0f4b-2e2f-4a5c-bc63-80c0420f54d0",
        "colab": {}
      },
      "source": [
        "nn = NearestNeighbors(n_neighbors=10, algorithm='ball_tree')\n",
        "nn.fit(dtm)"
      ],
      "execution_count": 0,
      "outputs": [
        {
          "output_type": "execute_result",
          "data": {
            "text/plain": [
              "NearestNeighbors(algorithm='ball_tree', leaf_size=30, metric='minkowski',\n",
              "                 metric_params=None, n_jobs=None, n_neighbors=10, p=2,\n",
              "                 radius=1.0)"
            ]
          },
          "metadata": {
            "tags": []
          },
          "execution_count": 56
        }
      ]
    },
    {
      "cell_type": "code",
      "metadata": {
        "id": "A0A2bcQUfrML",
        "colab_type": "code",
        "colab": {}
      },
      "source": [
        "fake_review = [ \"\"\"OMG Dr. Winehurst is the best dentist I ever had!!! I had lost most of my teeth\n",
        "due to a decades-long addiction to meth and and chewing on rocks, but this wonderful dentist restored\n",
        "my smile to its former glory while also saving my child from alligators. No sucker after the visit\n",
        "though. Three stars.\"\"\"]"
      ],
      "execution_count": 0,
      "outputs": []
    },
    {
      "cell_type": "code",
      "metadata": {
        "id": "G20R5kJzfrMM",
        "colab_type": "code",
        "outputId": "93e885bf-2dc4-4947-9b7f-be9c34044c96",
        "colab": {}
      },
      "source": [
        "fake = tfidf.transform(fake_review)\n",
        "nn.kneighbors(fake.todense())"
      ],
      "execution_count": 0,
      "outputs": [
        {
          "output_type": "execute_result",
          "data": {
            "text/plain": [
              "(array([[1.2144214 , 1.21462343, 1.21483156, 1.22856642, 1.23373509,\n",
              "         1.25149316, 1.26434898, 1.27433674, 1.27494822, 1.27894596]]),\n",
              " array([[5763, 7515,  713, 7399, 2922, 7061, 8949, 6088, 5502,  420]],\n",
              "       dtype=int64))"
            ]
          },
          "metadata": {
            "tags": []
          },
          "execution_count": 58
        }
      ]
    },
    {
      "cell_type": "code",
      "metadata": {
        "id": "kZ3MHvOWfrMO",
        "colab_type": "code",
        "outputId": "fb59a342-feb3-4b27-eb79-dba4b685d27c",
        "colab": {}
      },
      "source": [
        "for x in nn.kneighbors(fake.todense())[1]:\n",
        "    print(yelp['text'][x][:200])"
      ],
      "execution_count": 0,
      "outputs": [
        {
          "output_type": "stream",
          "text": [
            "5763    My son was complaining about a tooth bothering...\n",
            "7515    Just an update to my other review, the cap tha...\n",
            "713     Being new to a city often times means starting...\n",
            "7399    From start to finish a great experience here. ...\n",
            "2922    Moved here from the Midwest. I've only had one...\n",
            "7061    He's the best dentist I've been to. My dentist...\n",
            "8949    Very friendly, very professional staff. Dr Har...\n",
            "6088    Hands down, the best dentist I've ever been to...\n",
            "5502    Update. I had a review last year so I'm guessi...\n",
            "420     Dr. Woolf has been so amazing! I was starting ...\n",
            "Name: text, dtype: object\n"
          ],
          "name": "stdout"
        }
      ]
    },
    {
      "cell_type": "code",
      "metadata": {
        "id": "KhxE_dc3frMQ",
        "colab_type": "code",
        "colab": {}
      },
      "source": [
        "# Seems like we stay in the 'dentist' category."
      ],
      "execution_count": 0,
      "outputs": []
    },
    {
      "cell_type": "markdown",
      "metadata": {
        "id": "eeMQC7O0frMR",
        "colab_type": "text"
      },
      "source": [
        "## Part 3: Classification\n",
        "<a id=\"#p3\"></a>\n",
        "Your goal in this section will be to predict `stars` from the review dataset. \n",
        "\n",
        "1. Create a piepline object with a sklearn `CountVectorizer` or `TfidfVector` and any sklearn classifier. Use that pipeline to estimate a model to predict `stars`. Use the Pipeline to predict a star rating for your fake review from Part 2. \n",
        "2. Tune the entire pipeline with a GridSearch"
      ]
    },
    {
      "cell_type": "code",
      "metadata": {
        "id": "M4t00nDnfrMS",
        "colab_type": "code",
        "colab": {}
      },
      "source": [
        "# I'll use random forest and SGDClassifer, since I imported them already\n",
        "randomforest = RandomForestClassifier()\n",
        "sgdc = SGDClassifier()"
      ],
      "execution_count": 0,
      "outputs": []
    },
    {
      "cell_type": "code",
      "metadata": {
        "id": "c-57vooffrMT",
        "colab_type": "code",
        "outputId": "4fc6cbe6-86e1-4e06-dc8e-48f49bfd52e5",
        "colab": {}
      },
      "source": [
        "# Fit a pipeline\n",
        "pipeline = Pipeline([('tfidf', tfidf), ('randomforest', randomforest)])\n",
        "pipeline.fit(yelp['text'], yelp['stars'])"
      ],
      "execution_count": 0,
      "outputs": [
        {
          "output_type": "execute_result",
          "data": {
            "text/plain": [
              "Pipeline(memory=None,\n",
              "         steps=[('tfidf',\n",
              "                 TfidfVectorizer(analyzer='word', binary=False,\n",
              "                                 decode_error='strict',\n",
              "                                 dtype=<class 'numpy.float64'>,\n",
              "                                 encoding='utf-8', input='content',\n",
              "                                 lowercase=True, max_df=1.0, max_features=None,\n",
              "                                 min_df=1, ngram_range=(1, 1), norm='l2',\n",
              "                                 preprocessor=None, smooth_idf=True,\n",
              "                                 stop_words='english', strip_accents=None,\n",
              "                                 sublinear_tf=False,\n",
              "                                 token_patt...\n",
              "                 RandomForestClassifier(bootstrap=True, class_weight=None,\n",
              "                                        criterion='gini', max_depth=None,\n",
              "                                        max_features='auto',\n",
              "                                        max_leaf_nodes=None,\n",
              "                                        min_impurity_decrease=0.0,\n",
              "                                        min_impurity_split=None,\n",
              "                                        min_samples_leaf=1, min_samples_split=2,\n",
              "                                        min_weight_fraction_leaf=0.0,\n",
              "                                        n_estimators=10, n_jobs=None,\n",
              "                                        oob_score=False, random_state=None,\n",
              "                                        verbose=0, warm_start=False))],\n",
              "         verbose=False)"
            ]
          },
          "metadata": {
            "tags": []
          },
          "execution_count": 64
        }
      ]
    },
    {
      "cell_type": "code",
      "metadata": {
        "id": "oCKSSCIefrMU",
        "colab_type": "code",
        "outputId": "4672f4a3-88d0-4a33-9bb9-ae4e8c702c7b",
        "colab": {}
      },
      "source": [
        "pipeline.predict(fake_review)"
      ],
      "execution_count": 0,
      "outputs": [
        {
          "output_type": "execute_result",
          "data": {
            "text/plain": [
              "array([5], dtype=int64)"
            ]
          },
          "metadata": {
            "tags": []
          },
          "execution_count": 66
        }
      ]
    },
    {
      "cell_type": "code",
      "metadata": {
        "id": "NyJmS6nlfrMW",
        "colab_type": "code",
        "colab": {}
      },
      "source": [
        "parameters = {\n",
        "    'tfidf__max_df': (0.5, 0.75, 1.0),\n",
        "    'tfidf__min_df': (.02, .05),\n",
        "    'tfidf__max_features': (100, 500, 1000),\n",
        "    'randomforest__n_estimators': (20, 100, 400)\n",
        "}"
      ],
      "execution_count": 0,
      "outputs": []
    },
    {
      "cell_type": "code",
      "metadata": {
        "id": "BXYre0RBfrMX",
        "colab_type": "code",
        "outputId": "111fbd8b-0ccc-423b-9b63-0939cfcc60bf",
        "colab": {}
      },
      "source": [
        "grid = GridSearchCV(pipeline, parameters, cv=5, n_jobs=4, verbose=1)\n",
        "grid.fit(yelp['text'], yelp['stars'])"
      ],
      "execution_count": 0,
      "outputs": [
        {
          "output_type": "stream",
          "text": [
            "Fitting 5 folds for each of 54 candidates, totalling 270 fits\n"
          ],
          "name": "stdout"
        },
        {
          "output_type": "stream",
          "text": [
            "[Parallel(n_jobs=4)]: Using backend LokyBackend with 4 concurrent workers.\n",
            "[Parallel(n_jobs=4)]: Done  42 tasks      | elapsed:   21.4s\n",
            "[Parallel(n_jobs=4)]: Done 192 tasks      | elapsed:  4.5min\n",
            "[Parallel(n_jobs=4)]: Done 270 out of 270 | elapsed: 12.8min finished\n"
          ],
          "name": "stderr"
        },
        {
          "output_type": "execute_result",
          "data": {
            "text/plain": [
              "GridSearchCV(cv=5, error_score='raise-deprecating',\n",
              "             estimator=Pipeline(memory=None,\n",
              "                                steps=[('tfidf',\n",
              "                                        TfidfVectorizer(analyzer='word',\n",
              "                                                        binary=False,\n",
              "                                                        decode_error='strict',\n",
              "                                                        dtype=<class 'numpy.float64'>,\n",
              "                                                        encoding='utf-8',\n",
              "                                                        input='content',\n",
              "                                                        lowercase=True,\n",
              "                                                        max_df=1.0,\n",
              "                                                        max_features=None,\n",
              "                                                        min_df=1,\n",
              "                                                        ngram_range=(1, 1),\n",
              "                                                        norm='l2',\n",
              "                                                        preprocessor=None,\n",
              "                                                        smooth_idf=True,\n",
              "                                                        stop_word...\n",
              "                                                               n_estimators=10,\n",
              "                                                               n_jobs=None,\n",
              "                                                               oob_score=False,\n",
              "                                                               random_state=None,\n",
              "                                                               verbose=0,\n",
              "                                                               warm_start=False))],\n",
              "                                verbose=False),\n",
              "             iid='warn', n_jobs=4,\n",
              "             param_grid={'randomforest__n_estimators': (20, 100, 400),\n",
              "                         'tfidf__max_df': (0.5, 0.75, 1.0),\n",
              "                         'tfidf__max_features': (100, 500, 1000),\n",
              "                         'tfidf__min_df': (0.02, 0.05)},\n",
              "             pre_dispatch='2*n_jobs', refit=True, return_train_score=False,\n",
              "             scoring=None, verbose=1)"
            ]
          },
          "metadata": {
            "tags": []
          },
          "execution_count": 83
        }
      ]
    },
    {
      "cell_type": "code",
      "metadata": {
        "id": "X1J1iSNtfrMZ",
        "colab_type": "code",
        "outputId": "57ee3485-5e71-448a-831d-5cce761c85c0",
        "colab": {}
      },
      "source": [
        "grid.best_params_"
      ],
      "execution_count": 0,
      "outputs": [
        {
          "output_type": "execute_result",
          "data": {
            "text/plain": [
              "{'randomforest__n_estimators': 400,\n",
              " 'tfidf__max_df': 0.5,\n",
              " 'tfidf__max_features': 500,\n",
              " 'tfidf__min_df': 0.02}"
            ]
          },
          "metadata": {
            "tags": []
          },
          "execution_count": 84
        }
      ]
    },
    {
      "cell_type": "code",
      "metadata": {
        "id": "MoE7xer4frMb",
        "colab_type": "code",
        "outputId": "610c9eb6-1567-46c6-dee4-88b751441871",
        "colab": {}
      },
      "source": [
        "print(\"Best score:\", grid.best_score_)"
      ],
      "execution_count": 0,
      "outputs": [
        {
          "output_type": "stream",
          "text": [
            "Best score: 0.5804\n"
          ],
          "name": "stdout"
        }
      ]
    },
    {
      "cell_type": "code",
      "metadata": {
        "id": "Fe9415VBfrMd",
        "colab_type": "code",
        "colab": {}
      },
      "source": [
        "from sklearn.decomposition import TruncatedSVD\n",
        "svd = TruncatedSVD(n_components=200,\n",
        "                   algorithm='randomized',\n",
        "                   n_iter=10)"
      ],
      "execution_count": 0,
      "outputs": []
    },
    {
      "cell_type": "markdown",
      "metadata": {
        "id": "y13TYq4_frMf",
        "colab_type": "text"
      },
      "source": [
        "## Part 4: Topic Modeling\n",
        "\n",
        "Let's find out what those yelp reviews are saying! :D\n",
        "\n",
        "1. Estimate a LDA topic model of the review text\n",
        "    - Keep the `iterations` parameter at or below 5 to reduce run time\n",
        "    - The `workers` parameter should match the number of physical cores on your machine.\n",
        "2. Create 1-2 visualizations of the results\n",
        "    - You can use the most important 3 words of a topic in relevant visualizations. Refer to yesterday's notebook to extract. \n",
        "3. In markdown, write 1-2 paragraphs of analysis on the results of your topic model\n",
        "\n",
        "__*Note*__: You can pass the DataFrame column of text reviews to gensim. You do not have to use a generator."
      ]
    },
    {
      "cell_type": "code",
      "metadata": {
        "inputHidden": false,
        "outputHidden": false,
        "id": "nWg7ApwXfrMf",
        "colab_type": "code",
        "colab": {}
      },
      "source": [
        "from gensim.models import LdaMulticore\n",
        "from gensim.corpora import Dictionary"
      ],
      "execution_count": 0,
      "outputs": []
    },
    {
      "cell_type": "markdown",
      "metadata": {
        "id": "SyoVWxHGfrMh",
        "colab_type": "text"
      },
      "source": [
        "Learn the vocubalary of the yelp data:"
      ]
    },
    {
      "cell_type": "code",
      "metadata": {
        "id": "zGCAaGw3frMh",
        "colab_type": "code",
        "colab": {}
      },
      "source": [
        "id2word = Dictionary(yelp['tokens'])"
      ],
      "execution_count": 0,
      "outputs": []
    },
    {
      "cell_type": "markdown",
      "metadata": {
        "id": "tEcuFdQtfrMi",
        "colab_type": "text"
      },
      "source": [
        "Create a bag of words representation of the entire corpus"
      ]
    },
    {
      "cell_type": "code",
      "metadata": {
        "inputHidden": false,
        "outputHidden": false,
        "id": "v1DIjULMfrMj",
        "colab_type": "code",
        "colab": {}
      },
      "source": [
        "corpus = [id2word.doc2bow(text) for text in yelp['tokens']]"
      ],
      "execution_count": 0,
      "outputs": []
    },
    {
      "cell_type": "markdown",
      "metadata": {
        "id": "IYj9yvp3frMk",
        "colab_type": "text"
      },
      "source": [
        "Your LDA model should be ready for estimation: "
      ]
    },
    {
      "cell_type": "code",
      "metadata": {
        "inputHidden": false,
        "outputHidden": false,
        "id": "P174NX-ufrMk",
        "colab_type": "code",
        "colab": {}
      },
      "source": [
        "lda = LdaMulticore(corpus=corpus,\n",
        "                   id2word=id2word,\n",
        "                   iterations=5,\n",
        "                   workers=4,\n",
        "                   num_topics = 10 # You can change this parameter\n",
        "                  )"
      ],
      "execution_count": 0,
      "outputs": []
    },
    {
      "cell_type": "markdown",
      "metadata": {
        "id": "s12JfoJ8frMm",
        "colab_type": "text"
      },
      "source": [
        "Create 1-2 visualizations of the results"
      ]
    },
    {
      "cell_type": "code",
      "metadata": {
        "inputHidden": false,
        "outputHidden": false,
        "id": "LAKa-2-5frMm",
        "colab_type": "code",
        "colab": {}
      },
      "source": [
        "import squarify"
      ],
      "execution_count": 0,
      "outputs": []
    },
    {
      "cell_type": "code",
      "metadata": {
        "id": "CBITxb3tfrMn",
        "colab_type": "code",
        "outputId": "62d70a75-c0d3-4523-d4b9-f763b9f392e5",
        "colab": {}
      },
      "source": [
        "sns.distplot(yelp['stars'])"
      ],
      "execution_count": 0,
      "outputs": [
        {
          "output_type": "execute_result",
          "data": {
            "text/plain": [
              "<matplotlib.axes._subplots.AxesSubplot at 0x19569b6e6d8>"
            ]
          },
          "metadata": {
            "tags": []
          },
          "execution_count": 98
        },
        {
          "output_type": "display_data",
          "data": {
            "image/png": "[encoded data removed]",
            "text/plain": [
              "<Figure size 432x288 with 1 Axes>"
            ]
          },
          "metadata": {
            "tags": [],
            "needs_background": "light"
          }
        }
      ]
    },
    {
      "cell_type": "code",
      "metadata": {
        "id": "Ph8DqTE1frMo",
        "colab_type": "code",
        "colab": {}
      },
      "source": [
        "def count(docs):\n",
        "\n",
        "        word_counts = Counter()\n",
        "        appears_in = Counter()\n",
        "        \n",
        "        total_docs = len(docs)\n",
        "\n",
        "        for doc in docs:\n",
        "            word_counts.update(doc)\n",
        "            appears_in.update(set(doc))\n",
        "\n",
        "        temp = zip(word_counts.keys(), word_counts.values())\n",
        "        \n",
        "        wc = pd.DataFrame(temp, columns = ['word', 'count'])\n",
        "\n",
        "        wc['rank'] = wc['count'].rank(method='first', ascending=False)\n",
        "        total = wc['count'].sum()\n",
        "\n",
        "        wc['pct_total'] = wc['count'].apply(lambda x: x / total)\n",
        "        \n",
        "        wc = wc.sort_values(by='rank')\n",
        "        wc['cul_pct_total'] = wc['pct_total'].cumsum()\n",
        "\n",
        "        t2 = zip(appears_in.keys(), appears_in.values())\n",
        "        ac = pd.DataFrame(t2, columns=['word', 'appears_in'])\n",
        "        wc = ac.merge(wc, on='word')\n",
        "\n",
        "        wc['appears_in_pct'] = wc['appears_in'].apply(lambda x: x / total_docs)\n",
        "        \n",
        "        return wc.sort_values(by='rank')"
      ],
      "execution_count": 0,
      "outputs": []
    },
    {
      "cell_type": "code",
      "metadata": {
        "id": "O9dwf8VwfrMr",
        "colab_type": "code",
        "outputId": "a6390054-c205-4e6e-b4e1-95e4f1c132e4",
        "colab": {}
      },
      "source": [
        "high_rated = count(yelp[yelp['stars'] >= 4]['tokens'])\n",
        "wc_20_hr = high_rated[high_rated['rank'] <= 20]\n",
        "\n",
        "low_rated = count(yelp[yelp['stars'] <= 3]['tokens'])\n",
        "wc_20_lr = low_rated[low_rated['rank'] <= 20]\n",
        "\n",
        "squarify.plot(sizes=wc_20_hr['pct_total'], label=wc_20_hr['word'])"
      ],
      "execution_count": 0,
      "outputs": [
        {
          "output_type": "execute_result",
          "data": {
            "text/plain": [
              "<matplotlib.axes._subplots.AxesSubplot at 0x19569bd1f98>"
            ]
          },
          "metadata": {
            "tags": []
          },
          "execution_count": 100
        },
        {
          "output_type": "display_data",
          "data": {
            "image/png": "[encoded data removed]",
            "text/plain": [
              "<Figure size 432x288 with 1 Axes>"
            ]
          },
          "metadata": {
            "tags": [],
            "needs_background": "light"
          }
        }
      ]
    },
    {
      "cell_type": "code",
      "metadata": {
        "id": "MPK47XOIfrMt",
        "colab_type": "code",
        "outputId": "51aba726-8140-4dd3-a58c-a3abe2d11851",
        "colab": {}
      },
      "source": [
        "squarify.plot(sizes=wc_20_lr['pct_total'], label=wc_20_lr['word'])"
      ],
      "execution_count": 0,
      "outputs": [
        {
          "output_type": "execute_result",
          "data": {
            "text/plain": [
              "<matplotlib.axes._subplots.AxesSubplot at 0x19569903048>"
            ]
          },
          "metadata": {
            "tags": []
          },
          "execution_count": 101
        },
        {
          "output_type": "display_data",
          "data": {
            "image/png": "[encoded data removed]",
            "text/plain": [
              "<Figure size 432x288 with 1 Axes>"
            ]
          },
          "metadata": {
            "tags": [],
            "needs_background": "light"
          }
        }
      ]
    },
    {
      "cell_type": "markdown",
      "metadata": {
        "id": "fdvDeh0lfrMu",
        "colab_type": "text"
      },
      "source": [
        "## Analysis\n",
        "\n",
        "Some words are common among reviews of all ratings, such as 'good' and 'great', but occur more frequently in good reviews. \n",
        "The best words to get in a review are 'amazing', 'food', 'friendly', and other expected, generally positive words."
      ]
    },
    {
      "cell_type": "markdown",
      "metadata": {
        "id": "jjamRjuhfrMu",
        "colab_type": "text"
      },
      "source": [
        "## Stretch Goals\n",
        "\n",
        "Complete one of more of these to push your score towards a three: \n",
        "* Incorporate named entity recognition into your analysis\n",
        "* Compare vectorization methods in the classification section\n",
        "* Analyze more (or all) of the yelp dataset - this one is v. hard. \n",
        "* Use a generator object on the reviews file - this would help you with the analyzing the whole dataset.\n",
        "* Incorporate any of the other yelp dataset entities in your analysis (business, users, etc.)"
      ]
    }
  ]
}